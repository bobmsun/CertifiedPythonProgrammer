{
 "cells": [
  {
   "cell_type": "markdown",
   "metadata": {},
   "source": [
    "This notebook goes along with the video \n",
    "\n",
    "https://www.youtube.com/watch?v=xi0vhXFPegw\n",
    "\n",
    "from Rob Mulla."
   ]
  },
  {
   "cell_type": "markdown",
   "metadata": {},
   "source": [
    "## Step 0: Imports and Reading Data"
   ]
  },
  {
   "cell_type": "code",
   "execution_count": 1,
   "metadata": {},
   "outputs": [],
   "source": [
    "import pandas as pd\n",
    "import numpy as np\n",
    "import matplotlib.pylab as plt\n",
    "import seaborn as sns\n",
    "plt.style.use('ggplot')\n",
    "pd.set_option('max_columns', 200)"
   ]
  },
  {
   "cell_type": "code",
   "execution_count": 2,
   "metadata": {},
   "outputs": [],
   "source": [
    "df = pd.read_csv('./coaster_db.csv')"
   ]
  },
  {
   "cell_type": "markdown",
   "metadata": {},
   "source": [
    "## Step 1: Data Understanding\n",
    "\n",
    "* Dataframe `shape`\n",
    "* `head` and `tail`\n",
    "* `dtypes`\n",
    "* `describe`"
   ]
  },
  {
   "cell_type": "code",
   "execution_count": 3,
   "metadata": {},
   "outputs": [
    {
     "data": {
      "text/plain": [
       "(1087, 56)"
      ]
     },
     "execution_count": 3,
     "metadata": {},
     "output_type": "execute_result"
    }
   ],
   "source": [
    "df.shape"
   ]
  },
  {
   "cell_type": "code",
   "execution_count": 4,
   "metadata": {},
   "outputs": [
    {
     "data": {
      "text/html": [
       "<div>\n",
       "<style scoped>\n",
       "    .dataframe tbody tr th:only-of-type {\n",
       "        vertical-align: middle;\n",
       "    }\n",
       "\n",
       "    .dataframe tbody tr th {\n",
       "        vertical-align: top;\n",
       "    }\n",
       "\n",
       "    .dataframe thead th {\n",
       "        text-align: right;\n",
       "    }\n",
       "</style>\n",
       "<table border=\"1\" class=\"dataframe\">\n",
       "  <thead>\n",
       "    <tr style=\"text-align: right;\">\n",
       "      <th></th>\n",
       "      <th>coaster_name</th>\n",
       "      <th>Length</th>\n",
       "      <th>Speed</th>\n",
       "      <th>Location</th>\n",
       "      <th>Status</th>\n",
       "      <th>Opening date</th>\n",
       "      <th>Type</th>\n",
       "      <th>Manufacturer</th>\n",
       "      <th>Height restriction</th>\n",
       "      <th>Model</th>\n",
       "      <th>Height</th>\n",
       "      <th>Inversions</th>\n",
       "      <th>Lift/launch system</th>\n",
       "      <th>Cost</th>\n",
       "      <th>Trains</th>\n",
       "      <th>Park section</th>\n",
       "      <th>Duration</th>\n",
       "      <th>Capacity</th>\n",
       "      <th>G-force</th>\n",
       "      <th>Designer</th>\n",
       "      <th>Max vertical angle</th>\n",
       "      <th>Drop</th>\n",
       "      <th>Soft opening date</th>\n",
       "      <th>Fast Lane available</th>\n",
       "      <th>Replaced</th>\n",
       "      <th>Track layout</th>\n",
       "      <th>Fastrack available</th>\n",
       "      <th>Soft opening date.1</th>\n",
       "      <th>Closing date</th>\n",
       "      <th>Opened</th>\n",
       "      <th>Replaced by</th>\n",
       "      <th>Website</th>\n",
       "      <th>Flash Pass Available</th>\n",
       "      <th>Must transfer from wheelchair</th>\n",
       "      <th>Theme</th>\n",
       "      <th>Single rider line available</th>\n",
       "      <th>Restraint Style</th>\n",
       "      <th>Flash Pass available</th>\n",
       "      <th>Acceleration</th>\n",
       "      <th>Restraints</th>\n",
       "      <th>Name</th>\n",
       "      <th>year_introduced</th>\n",
       "      <th>latitude</th>\n",
       "      <th>longitude</th>\n",
       "      <th>Type_Main</th>\n",
       "      <th>opening_date_clean</th>\n",
       "      <th>speed1</th>\n",
       "      <th>speed2</th>\n",
       "      <th>speed1_value</th>\n",
       "      <th>speed1_unit</th>\n",
       "      <th>speed_mph</th>\n",
       "      <th>height_value</th>\n",
       "      <th>height_unit</th>\n",
       "      <th>height_ft</th>\n",
       "      <th>Inversions_clean</th>\n",
       "      <th>Gforce_clean</th>\n",
       "    </tr>\n",
       "  </thead>\n",
       "  <tbody>\n",
       "    <tr>\n",
       "      <th>0</th>\n",
       "      <td>Switchback Railway</td>\n",
       "      <td>600 ft (180 m)</td>\n",
       "      <td>6 mph (9.7 km/h)</td>\n",
       "      <td>Coney Island</td>\n",
       "      <td>Removed</td>\n",
       "      <td>June 16, 1884</td>\n",
       "      <td>Wood</td>\n",
       "      <td>LaMarcus Adna Thompson</td>\n",
       "      <td>NaN</td>\n",
       "      <td>Lift Packed</td>\n",
       "      <td>50 ft (15 m)</td>\n",
       "      <td>NaN</td>\n",
       "      <td>gravity</td>\n",
       "      <td>NaN</td>\n",
       "      <td>NaN</td>\n",
       "      <td>Coney Island Cyclone Site</td>\n",
       "      <td>1:00</td>\n",
       "      <td>1600 riders per hour</td>\n",
       "      <td>2.9</td>\n",
       "      <td>LaMarcus Adna Thompson</td>\n",
       "      <td>30°</td>\n",
       "      <td>43 ft (13 m)</td>\n",
       "      <td>NaN</td>\n",
       "      <td>NaN</td>\n",
       "      <td>NaN</td>\n",
       "      <td>Gravity pulled coaster</td>\n",
       "      <td>NaN</td>\n",
       "      <td>NaN</td>\n",
       "      <td>NaN</td>\n",
       "      <td>NaN</td>\n",
       "      <td>NaN</td>\n",
       "      <td>NaN</td>\n",
       "      <td>NaN</td>\n",
       "      <td>NaN</td>\n",
       "      <td>NaN</td>\n",
       "      <td>NaN</td>\n",
       "      <td>NaN</td>\n",
       "      <td>NaN</td>\n",
       "      <td>NaN</td>\n",
       "      <td>NaN</td>\n",
       "      <td>NaN</td>\n",
       "      <td>1884</td>\n",
       "      <td>40.5740</td>\n",
       "      <td>-73.9780</td>\n",
       "      <td>Wood</td>\n",
       "      <td>1884-06-16</td>\n",
       "      <td>6 mph</td>\n",
       "      <td>9.7 km/h</td>\n",
       "      <td>6.0</td>\n",
       "      <td>mph</td>\n",
       "      <td>6.0</td>\n",
       "      <td>50.0</td>\n",
       "      <td>ft</td>\n",
       "      <td>NaN</td>\n",
       "      <td>0</td>\n",
       "      <td>2.9</td>\n",
       "    </tr>\n",
       "    <tr>\n",
       "      <th>1</th>\n",
       "      <td>Flip Flap Railway</td>\n",
       "      <td>NaN</td>\n",
       "      <td>NaN</td>\n",
       "      <td>Sea Lion Park</td>\n",
       "      <td>Removed</td>\n",
       "      <td>1895</td>\n",
       "      <td>Wood</td>\n",
       "      <td>Lina Beecher</td>\n",
       "      <td>NaN</td>\n",
       "      <td>NaN</td>\n",
       "      <td>NaN</td>\n",
       "      <td>1.0</td>\n",
       "      <td>NaN</td>\n",
       "      <td>NaN</td>\n",
       "      <td>a single car. Riders are arranged 1 across in ...</td>\n",
       "      <td>NaN</td>\n",
       "      <td>NaN</td>\n",
       "      <td>NaN</td>\n",
       "      <td>12</td>\n",
       "      <td>Lina Beecher</td>\n",
       "      <td>NaN</td>\n",
       "      <td>NaN</td>\n",
       "      <td>NaN</td>\n",
       "      <td>NaN</td>\n",
       "      <td>NaN</td>\n",
       "      <td>NaN</td>\n",
       "      <td>NaN</td>\n",
       "      <td>NaN</td>\n",
       "      <td>1902</td>\n",
       "      <td>NaN</td>\n",
       "      <td>NaN</td>\n",
       "      <td>NaN</td>\n",
       "      <td>NaN</td>\n",
       "      <td>NaN</td>\n",
       "      <td>NaN</td>\n",
       "      <td>NaN</td>\n",
       "      <td>NaN</td>\n",
       "      <td>NaN</td>\n",
       "      <td>NaN</td>\n",
       "      <td>NaN</td>\n",
       "      <td>NaN</td>\n",
       "      <td>1895</td>\n",
       "      <td>40.5780</td>\n",
       "      <td>-73.9790</td>\n",
       "      <td>Wood</td>\n",
       "      <td>1895-01-01</td>\n",
       "      <td>NaN</td>\n",
       "      <td>NaN</td>\n",
       "      <td>NaN</td>\n",
       "      <td>NaN</td>\n",
       "      <td>NaN</td>\n",
       "      <td>NaN</td>\n",
       "      <td>NaN</td>\n",
       "      <td>NaN</td>\n",
       "      <td>1</td>\n",
       "      <td>12.0</td>\n",
       "    </tr>\n",
       "    <tr>\n",
       "      <th>2</th>\n",
       "      <td>Switchback Railway (Euclid Beach Park)</td>\n",
       "      <td>NaN</td>\n",
       "      <td>NaN</td>\n",
       "      <td>Cleveland, Ohio, United States</td>\n",
       "      <td>Closed</td>\n",
       "      <td>NaN</td>\n",
       "      <td>Other</td>\n",
       "      <td>NaN</td>\n",
       "      <td>NaN</td>\n",
       "      <td>NaN</td>\n",
       "      <td>NaN</td>\n",
       "      <td>NaN</td>\n",
       "      <td>NaN</td>\n",
       "      <td>NaN</td>\n",
       "      <td>NaN</td>\n",
       "      <td>NaN</td>\n",
       "      <td>NaN</td>\n",
       "      <td>NaN</td>\n",
       "      <td>NaN</td>\n",
       "      <td>NaN</td>\n",
       "      <td>NaN</td>\n",
       "      <td>NaN</td>\n",
       "      <td>NaN</td>\n",
       "      <td>NaN</td>\n",
       "      <td>NaN</td>\n",
       "      <td>NaN</td>\n",
       "      <td>NaN</td>\n",
       "      <td>NaN</td>\n",
       "      <td>NaN</td>\n",
       "      <td>1895</td>\n",
       "      <td>NaN</td>\n",
       "      <td>NaN</td>\n",
       "      <td>NaN</td>\n",
       "      <td>NaN</td>\n",
       "      <td>NaN</td>\n",
       "      <td>NaN</td>\n",
       "      <td>NaN</td>\n",
       "      <td>NaN</td>\n",
       "      <td>NaN</td>\n",
       "      <td>NaN</td>\n",
       "      <td>NaN</td>\n",
       "      <td>1896</td>\n",
       "      <td>41.5800</td>\n",
       "      <td>-81.5700</td>\n",
       "      <td>Other</td>\n",
       "      <td>NaN</td>\n",
       "      <td>NaN</td>\n",
       "      <td>NaN</td>\n",
       "      <td>NaN</td>\n",
       "      <td>NaN</td>\n",
       "      <td>NaN</td>\n",
       "      <td>NaN</td>\n",
       "      <td>NaN</td>\n",
       "      <td>NaN</td>\n",
       "      <td>0</td>\n",
       "      <td>NaN</td>\n",
       "    </tr>\n",
       "    <tr>\n",
       "      <th>3</th>\n",
       "      <td>Loop the Loop (Coney Island)</td>\n",
       "      <td>NaN</td>\n",
       "      <td>NaN</td>\n",
       "      <td>Other</td>\n",
       "      <td>Removed</td>\n",
       "      <td>1901</td>\n",
       "      <td>Steel</td>\n",
       "      <td>Edwin Prescott</td>\n",
       "      <td>NaN</td>\n",
       "      <td>NaN</td>\n",
       "      <td>NaN</td>\n",
       "      <td>1.0</td>\n",
       "      <td>NaN</td>\n",
       "      <td>NaN</td>\n",
       "      <td>a single car. Riders are arranged 2 across in ...</td>\n",
       "      <td>NaN</td>\n",
       "      <td>NaN</td>\n",
       "      <td>NaN</td>\n",
       "      <td>NaN</td>\n",
       "      <td>Edward A. Green</td>\n",
       "      <td>NaN</td>\n",
       "      <td>NaN</td>\n",
       "      <td>NaN</td>\n",
       "      <td>NaN</td>\n",
       "      <td>Switchback Railway</td>\n",
       "      <td>NaN</td>\n",
       "      <td>NaN</td>\n",
       "      <td>NaN</td>\n",
       "      <td>1910</td>\n",
       "      <td>NaN</td>\n",
       "      <td>Giant Racer</td>\n",
       "      <td>NaN</td>\n",
       "      <td>NaN</td>\n",
       "      <td>NaN</td>\n",
       "      <td>NaN</td>\n",
       "      <td>NaN</td>\n",
       "      <td>NaN</td>\n",
       "      <td>NaN</td>\n",
       "      <td>NaN</td>\n",
       "      <td>NaN</td>\n",
       "      <td>NaN</td>\n",
       "      <td>1901</td>\n",
       "      <td>40.5745</td>\n",
       "      <td>-73.9780</td>\n",
       "      <td>Steel</td>\n",
       "      <td>1901-01-01</td>\n",
       "      <td>NaN</td>\n",
       "      <td>NaN</td>\n",
       "      <td>NaN</td>\n",
       "      <td>NaN</td>\n",
       "      <td>NaN</td>\n",
       "      <td>NaN</td>\n",
       "      <td>NaN</td>\n",
       "      <td>NaN</td>\n",
       "      <td>1</td>\n",
       "      <td>NaN</td>\n",
       "    </tr>\n",
       "    <tr>\n",
       "      <th>4</th>\n",
       "      <td>Loop the Loop (Young's Pier)</td>\n",
       "      <td>NaN</td>\n",
       "      <td>NaN</td>\n",
       "      <td>Other</td>\n",
       "      <td>Removed</td>\n",
       "      <td>1901</td>\n",
       "      <td>Steel</td>\n",
       "      <td>Edwin Prescott</td>\n",
       "      <td>NaN</td>\n",
       "      <td>NaN</td>\n",
       "      <td>NaN</td>\n",
       "      <td>1.0</td>\n",
       "      <td>NaN</td>\n",
       "      <td>NaN</td>\n",
       "      <td>NaN</td>\n",
       "      <td>NaN</td>\n",
       "      <td>NaN</td>\n",
       "      <td>NaN</td>\n",
       "      <td>NaN</td>\n",
       "      <td>Edward A. Green</td>\n",
       "      <td>NaN</td>\n",
       "      <td>NaN</td>\n",
       "      <td>NaN</td>\n",
       "      <td>NaN</td>\n",
       "      <td>NaN</td>\n",
       "      <td>NaN</td>\n",
       "      <td>NaN</td>\n",
       "      <td>NaN</td>\n",
       "      <td>1912</td>\n",
       "      <td>NaN</td>\n",
       "      <td>NaN</td>\n",
       "      <td>NaN</td>\n",
       "      <td>NaN</td>\n",
       "      <td>NaN</td>\n",
       "      <td>NaN</td>\n",
       "      <td>NaN</td>\n",
       "      <td>NaN</td>\n",
       "      <td>NaN</td>\n",
       "      <td>NaN</td>\n",
       "      <td>NaN</td>\n",
       "      <td>NaN</td>\n",
       "      <td>1901</td>\n",
       "      <td>39.3538</td>\n",
       "      <td>-74.4342</td>\n",
       "      <td>Steel</td>\n",
       "      <td>1901-01-01</td>\n",
       "      <td>NaN</td>\n",
       "      <td>NaN</td>\n",
       "      <td>NaN</td>\n",
       "      <td>NaN</td>\n",
       "      <td>NaN</td>\n",
       "      <td>NaN</td>\n",
       "      <td>NaN</td>\n",
       "      <td>NaN</td>\n",
       "      <td>1</td>\n",
       "      <td>NaN</td>\n",
       "    </tr>\n",
       "  </tbody>\n",
       "</table>\n",
       "</div>"
      ],
      "text/plain": [
       "                             coaster_name          Length             Speed  \\\n",
       "0                      Switchback Railway  600 ft (180 m)  6 mph (9.7 km/h)   \n",
       "1                       Flip Flap Railway             NaN               NaN   \n",
       "2  Switchback Railway (Euclid Beach Park)             NaN               NaN   \n",
       "3            Loop the Loop (Coney Island)             NaN               NaN   \n",
       "4            Loop the Loop (Young's Pier)             NaN               NaN   \n",
       "\n",
       "                         Location   Status   Opening date   Type  \\\n",
       "0                    Coney Island  Removed  June 16, 1884   Wood   \n",
       "1                   Sea Lion Park  Removed           1895   Wood   \n",
       "2  Cleveland, Ohio, United States   Closed            NaN  Other   \n",
       "3                           Other  Removed           1901  Steel   \n",
       "4                           Other  Removed           1901  Steel   \n",
       "\n",
       "             Manufacturer Height restriction        Model        Height  \\\n",
       "0  LaMarcus Adna Thompson                NaN  Lift Packed  50 ft (15 m)   \n",
       "1            Lina Beecher                NaN          NaN           NaN   \n",
       "2                     NaN                NaN          NaN           NaN   \n",
       "3          Edwin Prescott                NaN          NaN           NaN   \n",
       "4          Edwin Prescott                NaN          NaN           NaN   \n",
       "\n",
       "   Inversions Lift/launch system Cost  \\\n",
       "0         NaN            gravity  NaN   \n",
       "1         1.0                NaN  NaN   \n",
       "2         NaN                NaN  NaN   \n",
       "3         1.0                NaN  NaN   \n",
       "4         1.0                NaN  NaN   \n",
       "\n",
       "                                              Trains  \\\n",
       "0                                                NaN   \n",
       "1  a single car. Riders are arranged 1 across in ...   \n",
       "2                                                NaN   \n",
       "3  a single car. Riders are arranged 2 across in ...   \n",
       "4                                                NaN   \n",
       "\n",
       "                Park section Duration              Capacity G-force  \\\n",
       "0  Coney Island Cyclone Site     1:00  1600 riders per hour     2.9   \n",
       "1                        NaN      NaN                   NaN      12   \n",
       "2                        NaN      NaN                   NaN     NaN   \n",
       "3                        NaN      NaN                   NaN     NaN   \n",
       "4                        NaN      NaN                   NaN     NaN   \n",
       "\n",
       "                 Designer Max vertical angle          Drop Soft opening date  \\\n",
       "0  LaMarcus Adna Thompson                30°  43 ft (13 m)               NaN   \n",
       "1            Lina Beecher                NaN           NaN               NaN   \n",
       "2                     NaN                NaN           NaN               NaN   \n",
       "3         Edward A. Green                NaN           NaN               NaN   \n",
       "4         Edward A. Green                NaN           NaN               NaN   \n",
       "\n",
       "  Fast Lane available            Replaced            Track layout  \\\n",
       "0                 NaN                 NaN  Gravity pulled coaster   \n",
       "1                 NaN                 NaN                     NaN   \n",
       "2                 NaN                 NaN                     NaN   \n",
       "3                 NaN  Switchback Railway                     NaN   \n",
       "4                 NaN                 NaN                     NaN   \n",
       "\n",
       "  Fastrack available Soft opening date.1 Closing date Opened  Replaced by  \\\n",
       "0                NaN                 NaN          NaN    NaN          NaN   \n",
       "1                NaN                 NaN         1902    NaN          NaN   \n",
       "2                NaN                 NaN          NaN   1895          NaN   \n",
       "3                NaN                 NaN         1910    NaN  Giant Racer   \n",
       "4                NaN                 NaN         1912    NaN          NaN   \n",
       "\n",
       "  Website Flash Pass Available Must transfer from wheelchair Theme  \\\n",
       "0     NaN                  NaN                           NaN   NaN   \n",
       "1     NaN                  NaN                           NaN   NaN   \n",
       "2     NaN                  NaN                           NaN   NaN   \n",
       "3     NaN                  NaN                           NaN   NaN   \n",
       "4     NaN                  NaN                           NaN   NaN   \n",
       "\n",
       "  Single rider line available Restraint Style Flash Pass available  \\\n",
       "0                         NaN             NaN                  NaN   \n",
       "1                         NaN             NaN                  NaN   \n",
       "2                         NaN             NaN                  NaN   \n",
       "3                         NaN             NaN                  NaN   \n",
       "4                         NaN             NaN                  NaN   \n",
       "\n",
       "  Acceleration Restraints Name  year_introduced  latitude  longitude  \\\n",
       "0          NaN        NaN  NaN             1884   40.5740   -73.9780   \n",
       "1          NaN        NaN  NaN             1895   40.5780   -73.9790   \n",
       "2          NaN        NaN  NaN             1896   41.5800   -81.5700   \n",
       "3          NaN        NaN  NaN             1901   40.5745   -73.9780   \n",
       "4          NaN        NaN  NaN             1901   39.3538   -74.4342   \n",
       "\n",
       "  Type_Main opening_date_clean  speed1    speed2  speed1_value speed1_unit  \\\n",
       "0      Wood         1884-06-16  6 mph   9.7 km/h           6.0         mph   \n",
       "1      Wood         1895-01-01     NaN       NaN           NaN         NaN   \n",
       "2     Other                NaN     NaN       NaN           NaN         NaN   \n",
       "3     Steel         1901-01-01     NaN       NaN           NaN         NaN   \n",
       "4     Steel         1901-01-01     NaN       NaN           NaN         NaN   \n",
       "\n",
       "   speed_mph  height_value height_unit  height_ft  Inversions_clean  \\\n",
       "0        6.0          50.0          ft        NaN                 0   \n",
       "1        NaN           NaN         NaN        NaN                 1   \n",
       "2        NaN           NaN         NaN        NaN                 0   \n",
       "3        NaN           NaN         NaN        NaN                 1   \n",
       "4        NaN           NaN         NaN        NaN                 1   \n",
       "\n",
       "   Gforce_clean  \n",
       "0           2.9  \n",
       "1          12.0  \n",
       "2           NaN  \n",
       "3           NaN  \n",
       "4           NaN  "
      ]
     },
     "execution_count": 4,
     "metadata": {},
     "output_type": "execute_result"
    }
   ],
   "source": [
    "df.head()"
   ]
  },
  {
   "cell_type": "code",
   "execution_count": 5,
   "metadata": {},
   "outputs": [
    {
     "data": {
      "text/plain": [
       "Index(['coaster_name', 'Length', 'Speed', 'Location', 'Status', 'Opening date',\n",
       "       'Type', 'Manufacturer', 'Height restriction', 'Model', 'Height',\n",
       "       'Inversions', 'Lift/launch system', 'Cost', 'Trains', 'Park section',\n",
       "       'Duration', 'Capacity', 'G-force', 'Designer', 'Max vertical angle',\n",
       "       'Drop', 'Soft opening date', 'Fast Lane available', 'Replaced',\n",
       "       'Track layout', 'Fastrack available', 'Soft opening date.1',\n",
       "       'Closing date', 'Opened', 'Replaced by', 'Website',\n",
       "       'Flash Pass Available', 'Must transfer from wheelchair', 'Theme',\n",
       "       'Single rider line available', 'Restraint Style',\n",
       "       'Flash Pass available', 'Acceleration', 'Restraints', 'Name',\n",
       "       'year_introduced', 'latitude', 'longitude', 'Type_Main',\n",
       "       'opening_date_clean', 'speed1', 'speed2', 'speed1_value', 'speed1_unit',\n",
       "       'speed_mph', 'height_value', 'height_unit', 'height_ft',\n",
       "       'Inversions_clean', 'Gforce_clean'],\n",
       "      dtype='object')"
      ]
     },
     "execution_count": 5,
     "metadata": {},
     "output_type": "execute_result"
    }
   ],
   "source": [
    "df.columns"
   ]
  },
  {
   "cell_type": "markdown",
   "metadata": {},
   "source": [
    "<font color='red'>Every column is a Series and every series has a type.</font>"
   ]
  },
  {
   "cell_type": "code",
   "execution_count": 6,
   "metadata": {},
   "outputs": [
    {
     "data": {
      "text/plain": [
       "coaster_name                      object\n",
       "Length                            object\n",
       "Speed                             object\n",
       "Location                          object\n",
       "Status                            object\n",
       "Opening date                      object\n",
       "Type                              object\n",
       "Manufacturer                      object\n",
       "Height restriction                object\n",
       "Model                             object\n",
       "Height                            object\n",
       "Inversions                       float64\n",
       "Lift/launch system                object\n",
       "Cost                              object\n",
       "Trains                            object\n",
       "Park section                      object\n",
       "Duration                          object\n",
       "Capacity                          object\n",
       "G-force                           object\n",
       "Designer                          object\n",
       "Max vertical angle                object\n",
       "Drop                              object\n",
       "Soft opening date                 object\n",
       "Fast Lane available               object\n",
       "Replaced                          object\n",
       "Track layout                      object\n",
       "Fastrack available                object\n",
       "Soft opening date.1               object\n",
       "Closing date                      object\n",
       "Opened                            object\n",
       "Replaced by                       object\n",
       "Website                           object\n",
       "Flash Pass Available              object\n",
       "Must transfer from wheelchair     object\n",
       "Theme                             object\n",
       "Single rider line available       object\n",
       "Restraint Style                   object\n",
       "Flash Pass available              object\n",
       "Acceleration                      object\n",
       "Restraints                        object\n",
       "Name                              object\n",
       "year_introduced                    int64\n",
       "latitude                         float64\n",
       "longitude                        float64\n",
       "Type_Main                         object\n",
       "opening_date_clean                object\n",
       "speed1                            object\n",
       "speed2                            object\n",
       "speed1_value                     float64\n",
       "speed1_unit                       object\n",
       "speed_mph                        float64\n",
       "height_value                     float64\n",
       "height_unit                       object\n",
       "height_ft                        float64\n",
       "Inversions_clean                   int64\n",
       "Gforce_clean                     float64\n",
       "dtype: object"
      ]
     },
     "execution_count": 6,
     "metadata": {},
     "output_type": "execute_result"
    }
   ],
   "source": [
    "df.dtypes"
   ]
  },
  {
   "cell_type": "code",
   "execution_count": 16,
   "metadata": {},
   "outputs": [
    {
     "data": {
      "text/html": [
       "<div>\n",
       "<style scoped>\n",
       "    .dataframe tbody tr th:only-of-type {\n",
       "        vertical-align: middle;\n",
       "    }\n",
       "\n",
       "    .dataframe tbody tr th {\n",
       "        vertical-align: top;\n",
       "    }\n",
       "\n",
       "    .dataframe thead th {\n",
       "        text-align: right;\n",
       "    }\n",
       "</style>\n",
       "<table border=\"1\" class=\"dataframe\">\n",
       "  <thead>\n",
       "    <tr style=\"text-align: right;\">\n",
       "      <th></th>\n",
       "      <th>Inversions</th>\n",
       "      <th>year_introduced</th>\n",
       "      <th>latitude</th>\n",
       "      <th>longitude</th>\n",
       "      <th>speed1_value</th>\n",
       "      <th>speed_mph</th>\n",
       "      <th>height_value</th>\n",
       "      <th>height_ft</th>\n",
       "      <th>Inversions_clean</th>\n",
       "      <th>Gforce_clean</th>\n",
       "    </tr>\n",
       "  </thead>\n",
       "  <tbody>\n",
       "    <tr>\n",
       "      <th>count</th>\n",
       "      <td>932.000000</td>\n",
       "      <td>1087.000000</td>\n",
       "      <td>812.000000</td>\n",
       "      <td>812.000000</td>\n",
       "      <td>937.000000</td>\n",
       "      <td>937.000000</td>\n",
       "      <td>965.000000</td>\n",
       "      <td>171.000000</td>\n",
       "      <td>1087.000000</td>\n",
       "      <td>362.000000</td>\n",
       "    </tr>\n",
       "    <tr>\n",
       "      <th>mean</th>\n",
       "      <td>1.547210</td>\n",
       "      <td>1994.986201</td>\n",
       "      <td>38.373484</td>\n",
       "      <td>-41.595373</td>\n",
       "      <td>53.850374</td>\n",
       "      <td>48.617289</td>\n",
       "      <td>89.575171</td>\n",
       "      <td>101.996491</td>\n",
       "      <td>1.326587</td>\n",
       "      <td>3.824006</td>\n",
       "    </tr>\n",
       "    <tr>\n",
       "      <th>std</th>\n",
       "      <td>2.114073</td>\n",
       "      <td>23.475248</td>\n",
       "      <td>15.516596</td>\n",
       "      <td>72.285227</td>\n",
       "      <td>23.385518</td>\n",
       "      <td>16.678031</td>\n",
       "      <td>136.246444</td>\n",
       "      <td>67.329092</td>\n",
       "      <td>2.030854</td>\n",
       "      <td>0.989998</td>\n",
       "    </tr>\n",
       "    <tr>\n",
       "      <th>min</th>\n",
       "      <td>0.000000</td>\n",
       "      <td>1884.000000</td>\n",
       "      <td>-48.261700</td>\n",
       "      <td>-123.035700</td>\n",
       "      <td>5.000000</td>\n",
       "      <td>5.000000</td>\n",
       "      <td>4.000000</td>\n",
       "      <td>13.100000</td>\n",
       "      <td>0.000000</td>\n",
       "      <td>0.800000</td>\n",
       "    </tr>\n",
       "    <tr>\n",
       "      <th>25%</th>\n",
       "      <td>0.000000</td>\n",
       "      <td>1989.000000</td>\n",
       "      <td>35.031050</td>\n",
       "      <td>-84.552200</td>\n",
       "      <td>40.000000</td>\n",
       "      <td>37.300000</td>\n",
       "      <td>44.000000</td>\n",
       "      <td>51.800000</td>\n",
       "      <td>0.000000</td>\n",
       "      <td>3.400000</td>\n",
       "    </tr>\n",
       "    <tr>\n",
       "      <th>50%</th>\n",
       "      <td>0.000000</td>\n",
       "      <td>2000.000000</td>\n",
       "      <td>40.289800</td>\n",
       "      <td>-76.653600</td>\n",
       "      <td>50.000000</td>\n",
       "      <td>49.700000</td>\n",
       "      <td>79.000000</td>\n",
       "      <td>91.200000</td>\n",
       "      <td>0.000000</td>\n",
       "      <td>4.000000</td>\n",
       "    </tr>\n",
       "    <tr>\n",
       "      <th>75%</th>\n",
       "      <td>3.000000</td>\n",
       "      <td>2010.000000</td>\n",
       "      <td>44.799600</td>\n",
       "      <td>2.778100</td>\n",
       "      <td>63.000000</td>\n",
       "      <td>58.000000</td>\n",
       "      <td>113.000000</td>\n",
       "      <td>131.200000</td>\n",
       "      <td>2.000000</td>\n",
       "      <td>4.500000</td>\n",
       "    </tr>\n",
       "    <tr>\n",
       "      <th>max</th>\n",
       "      <td>14.000000</td>\n",
       "      <td>2022.000000</td>\n",
       "      <td>63.230900</td>\n",
       "      <td>153.426500</td>\n",
       "      <td>240.000000</td>\n",
       "      <td>149.100000</td>\n",
       "      <td>3937.000000</td>\n",
       "      <td>377.300000</td>\n",
       "      <td>14.000000</td>\n",
       "      <td>12.000000</td>\n",
       "    </tr>\n",
       "  </tbody>\n",
       "</table>\n",
       "</div>"
      ],
      "text/plain": [
       "       Inversions  year_introduced    latitude   longitude  speed1_value  \\\n",
       "count  932.000000      1087.000000  812.000000  812.000000    937.000000   \n",
       "mean     1.547210      1994.986201   38.373484  -41.595373     53.850374   \n",
       "std      2.114073        23.475248   15.516596   72.285227     23.385518   \n",
       "min      0.000000      1884.000000  -48.261700 -123.035700      5.000000   \n",
       "25%      0.000000      1989.000000   35.031050  -84.552200     40.000000   \n",
       "50%      0.000000      2000.000000   40.289800  -76.653600     50.000000   \n",
       "75%      3.000000      2010.000000   44.799600    2.778100     63.000000   \n",
       "max     14.000000      2022.000000   63.230900  153.426500    240.000000   \n",
       "\n",
       "        speed_mph  height_value   height_ft  Inversions_clean  Gforce_clean  \n",
       "count  937.000000    965.000000  171.000000       1087.000000    362.000000  \n",
       "mean    48.617289     89.575171  101.996491          1.326587      3.824006  \n",
       "std     16.678031    136.246444   67.329092          2.030854      0.989998  \n",
       "min      5.000000      4.000000   13.100000          0.000000      0.800000  \n",
       "25%     37.300000     44.000000   51.800000          0.000000      3.400000  \n",
       "50%     49.700000     79.000000   91.200000          0.000000      4.000000  \n",
       "75%     58.000000    113.000000  131.200000          2.000000      4.500000  \n",
       "max    149.100000   3937.000000  377.300000         14.000000     12.000000  "
      ]
     },
     "execution_count": 16,
     "metadata": {},
     "output_type": "execute_result"
    }
   ],
   "source": [
    "df.describe()   # .describe() will show some information and statistics for numeric columns"
   ]
  },
  {
   "cell_type": "markdown",
   "metadata": {},
   "source": [
    "## Step 2: Data Preparation\n",
    "\n",
    "* Dropping irrelevant columns and rows\n",
    "* Identifying duplicated columns\n",
    "* Renaming Columns\n",
    "* Feature Creation"
   ]
  },
  {
   "cell_type": "markdown",
   "metadata": {},
   "source": [
    "Want to subset this dataset just to the columns we want to keep. There are 2 ways to drop columns:\n",
    "    \n",
    "* Subseting a list of columns\n",
    "* There is another way we can subset our dataset columns. That's by using the `drop` command."
   ]
  },
  {
   "cell_type": "code",
   "execution_count": 7,
   "metadata": {},
   "outputs": [],
   "source": [
    "# Example of dropping columns\n",
    "# df.drop(['Opening date'], axis=1)"
   ]
  },
  {
   "cell_type": "code",
   "execution_count": 8,
   "metadata": {},
   "outputs": [],
   "source": [
    "# Want to subset this dataset just to the columns we want to keep\n",
    "# (subseting a list of columns) (rewrite the df to the new subset of the dataframe)\n",
    "# 注意：此种方法后边一定要加 .copy() command. This makes sure that python knows it's a brand new \n",
    "# dataframe, not just a reference to the old one. When you mulnipulate the dataframe later on,\n",
    "# it's gonna be nice to run this copy.\n",
    "\n",
    "df = df[['coaster_name', \n",
    "    #'Length', 'Speed', \n",
    "    'Location', 'Status', \n",
    "    # 'Opening date',\n",
    "    # 'Type', \n",
    "    'Manufacturer', \n",
    "    # 'Height restriction', 'Model', 'Height',\n",
    "    # 'Inversions', 'Lift/launch system', 'Cost', 'Trains', 'Park section',\n",
    "    # 'Duration', 'Capacity', 'G-force', 'Designer', 'Max vertical angle',\n",
    "    # 'Drop', 'Soft opening date', 'Fast Lane available', 'Replaced',\n",
    "    # 'Track layout', 'Fastrack available', 'Soft opening date.1',\n",
    "    # 'Closing date', 'Opened', 'Replaced by', 'Website',\n",
    "    # 'Flash Pass Available', 'Must transfer from wheelchair', 'Theme',\n",
    "    # 'Single rider line available', 'Restraint Style',\n",
    "    # 'Flash Pass available', 'Acceleration', 'Restraints', 'Name',\n",
    "    'year_introduced', \n",
    "    'latitude', 'longitude', \n",
    "    'Type_Main',\n",
    "    'opening_date_clean', \n",
    "    # 'speed1', 'speed2', 'speed1_value', 'speed1_unit',\n",
    "    'speed_mph', \n",
    "    # 'height_value', 'height_unit', \n",
    "    'height_ft',\n",
    "    'Inversions_clean', 'Gforce_clean']].copy()"
   ]
  },
  {
   "cell_type": "code",
   "execution_count": 9,
   "metadata": {},
   "outputs": [
    {
     "data": {
      "text/plain": [
       "(1087, 13)"
      ]
     },
     "execution_count": 9,
     "metadata": {},
     "output_type": "execute_result"
    }
   ],
   "source": [
    "df.shape"
   ]
  },
  {
   "cell_type": "markdown",
   "metadata": {},
   "source": [
    "drop 完/clean 完 column 后（对column进行完整理后），接下来我们对每个column 的 data type进行 clean up"
   ]
  },
  {
   "cell_type": "code",
   "execution_count": 13,
   "metadata": {},
   "outputs": [
    {
     "data": {
      "text/plain": [
       "coaster_name           object\n",
       "Location               object\n",
       "Status                 object\n",
       "Manufacturer           object\n",
       "year_introduced         int64\n",
       "latitude              float64\n",
       "longitude             float64\n",
       "Type_Main              object\n",
       "opening_date_clean     object\n",
       "speed_mph             float64\n",
       "height_ft             float64\n",
       "Inversions_clean        int64\n",
       "Gforce_clean          float64\n",
       "dtype: object"
      ]
     },
     "execution_count": 13,
     "metadata": {},
     "output_type": "execute_result"
    }
   ],
   "source": [
    "df.dtypes"
   ]
  },
  {
   "cell_type": "code",
   "execution_count": 14,
   "metadata": {},
   "outputs": [],
   "source": [
    "# Conert 'opening_date_clean' to datetime\n",
    "\n",
    "df['opening_date_clean'] = pd.to_datetime(df['opening_date_clean'])"
   ]
  },
  {
   "cell_type": "code",
   "execution_count": 15,
   "metadata": {},
   "outputs": [],
   "source": [
    "# 除去 datetime 外，还可以把 numeric column 转化成 numeric \n",
    "# (not necessarily here, but it's an option)\n",
    "\n",
    "# pd.to_numeric(df['year_introduced'])"
   ]
  },
  {
   "cell_type": "markdown",
   "metadata": {},
   "source": [
    "drop column 和 clean up data type 后，还可以 clean up 一下 column name"
   ]
  },
  {
   "cell_type": "code",
   "execution_count": 16,
   "metadata": {},
   "outputs": [
    {
     "data": {
      "text/plain": [
       "Index(['coaster_name', 'Location', 'Status', 'Manufacturer', 'year_introduced',\n",
       "       'latitude', 'longitude', 'Type_Main', 'opening_date_clean', 'speed_mph',\n",
       "       'height_ft', 'Inversions_clean', 'Gforce_clean'],\n",
       "      dtype='object')"
      ]
     },
     "execution_count": 16,
     "metadata": {},
     "output_type": "execute_result"
    }
   ],
   "source": [
    "# Rename our columns\n",
    "df.columns"
   ]
  },
  {
   "cell_type": "code",
   "execution_count": 17,
   "metadata": {},
   "outputs": [],
   "source": [
    "df = df.rename(columns={'coaster_name':'Coaster_Name',\n",
    "                   'year_introduced':'Year_Introduced',\n",
    "                   'opening_date_clean':'Opening_Date',\n",
    "                   'speed_mph':'Speed_mph',\n",
    "                   'height_ft':'Height_ft',\n",
    "                   'Inversions_clean':'Inversions',\n",
    "                   'Gforce_clean':'Gforce'})"
   ]
  },
  {
   "cell_type": "markdown",
   "metadata": {},
   "source": [
    "Next step is to try to identify where missing values exist in the dataframe and how often they occur"
   ]
  },
  {
   "cell_type": "code",
   "execution_count": 18,
   "metadata": {},
   "outputs": [
    {
     "data": {
      "text/plain": [
       "Coaster_Name         0\n",
       "Location             0\n",
       "Status             213\n",
       "Manufacturer        59\n",
       "Year_Introduced      0\n",
       "latitude           275\n",
       "longitude          275\n",
       "Type_Main            0\n",
       "Opening_Date       250\n",
       "Speed_mph          150\n",
       "Height_ft          916\n",
       "Inversions           0\n",
       "Gforce             725\n",
       "dtype: int64"
      ]
     },
     "execution_count": 18,
     "metadata": {},
     "output_type": "execute_result"
    }
   ],
   "source": [
    "df.isna().sum()"
   ]
  },
  {
   "cell_type": "markdown",
   "metadata": {},
   "source": [
    "We may also want to see if there are any rows that are duplicated."
   ]
  },
  {
   "cell_type": "code",
   "execution_count": 19,
   "metadata": {},
   "outputs": [
    {
     "data": {
      "text/html": [
       "<div>\n",
       "<style scoped>\n",
       "    .dataframe tbody tr th:only-of-type {\n",
       "        vertical-align: middle;\n",
       "    }\n",
       "\n",
       "    .dataframe tbody tr th {\n",
       "        vertical-align: top;\n",
       "    }\n",
       "\n",
       "    .dataframe thead th {\n",
       "        text-align: right;\n",
       "    }\n",
       "</style>\n",
       "<table border=\"1\" class=\"dataframe\">\n",
       "  <thead>\n",
       "    <tr style=\"text-align: right;\">\n",
       "      <th></th>\n",
       "      <th>Coaster_Name</th>\n",
       "      <th>Location</th>\n",
       "      <th>Status</th>\n",
       "      <th>Manufacturer</th>\n",
       "      <th>Year_Introduced</th>\n",
       "      <th>latitude</th>\n",
       "      <th>longitude</th>\n",
       "      <th>Type_Main</th>\n",
       "      <th>Opening_Date</th>\n",
       "      <th>Speed_mph</th>\n",
       "      <th>Height_ft</th>\n",
       "      <th>Inversions</th>\n",
       "      <th>Gforce</th>\n",
       "    </tr>\n",
       "  </thead>\n",
       "  <tbody>\n",
       "  </tbody>\n",
       "</table>\n",
       "</div>"
      ],
      "text/plain": [
       "Empty DataFrame\n",
       "Columns: [Coaster_Name, Location, Status, Manufacturer, Year_Introduced, latitude, longitude, Type_Main, Opening_Date, Speed_mph, Height_ft, Inversions, Gforce]\n",
       "Index: []"
      ]
     },
     "execution_count": 19,
     "metadata": {},
     "output_type": "execute_result"
    }
   ],
   "source": [
    "df.loc[df.duplicated()]"
   ]
  },
  {
   "cell_type": "code",
   "execution_count": 20,
   "metadata": {},
   "outputs": [
    {
     "data": {
      "text/plain": [
       "0       False\n",
       "1       False\n",
       "2       False\n",
       "3       False\n",
       "4       False\n",
       "        ...  \n",
       "1082     True\n",
       "1083    False\n",
       "1084     True\n",
       "1085    False\n",
       "1086    False\n",
       "Length: 1087, dtype: bool"
      ]
     },
     "execution_count": 20,
     "metadata": {},
     "output_type": "execute_result"
    }
   ],
   "source": [
    "# Can also run duplicated on a subset of columns\n",
    "df.duplicated(subset=['Coaster_Name'])"
   ]
  },
  {
   "cell_type": "code",
   "execution_count": 21,
   "metadata": {},
   "outputs": [
    {
     "data": {
      "text/plain": [
       "0       False\n",
       "1       False\n",
       "2       False\n",
       "3       False\n",
       "4       False\n",
       "        ...  \n",
       "1082     True\n",
       "1083    False\n",
       "1084     True\n",
       "1085    False\n",
       "1086    False\n",
       "Name: Coaster_Name, Length: 1087, dtype: bool"
      ]
     },
     "execution_count": 21,
     "metadata": {},
     "output_type": "execute_result"
    }
   ],
   "source": [
    "# 自己试了一下：\n",
    "df['Coaster_Name'].duplicated()"
   ]
  },
  {
   "cell_type": "code",
   "execution_count": 22,
   "metadata": {},
   "outputs": [
    {
     "data": {
      "text/html": [
       "<div>\n",
       "<style scoped>\n",
       "    .dataframe tbody tr th:only-of-type {\n",
       "        vertical-align: middle;\n",
       "    }\n",
       "\n",
       "    .dataframe tbody tr th {\n",
       "        vertical-align: top;\n",
       "    }\n",
       "\n",
       "    .dataframe thead th {\n",
       "        text-align: right;\n",
       "    }\n",
       "</style>\n",
       "<table border=\"1\" class=\"dataframe\">\n",
       "  <thead>\n",
       "    <tr style=\"text-align: right;\">\n",
       "      <th></th>\n",
       "      <th>Coaster_Name</th>\n",
       "      <th>Location</th>\n",
       "      <th>Status</th>\n",
       "      <th>Manufacturer</th>\n",
       "      <th>Year_Introduced</th>\n",
       "      <th>latitude</th>\n",
       "      <th>longitude</th>\n",
       "      <th>Type_Main</th>\n",
       "      <th>Opening_Date</th>\n",
       "      <th>Speed_mph</th>\n",
       "      <th>Height_ft</th>\n",
       "      <th>Inversions</th>\n",
       "      <th>Gforce</th>\n",
       "    </tr>\n",
       "  </thead>\n",
       "  <tbody>\n",
       "    <tr>\n",
       "      <th>43</th>\n",
       "      <td>Crystal Beach Cyclone</td>\n",
       "      <td>Crystal Beach Park</td>\n",
       "      <td>Removed</td>\n",
       "      <td>Traver Engineering</td>\n",
       "      <td>1927</td>\n",
       "      <td>42.8617</td>\n",
       "      <td>-79.0598</td>\n",
       "      <td>Wood</td>\n",
       "      <td>1926-01-01</td>\n",
       "      <td>60.0</td>\n",
       "      <td>NaN</td>\n",
       "      <td>0</td>\n",
       "      <td>4.0</td>\n",
       "    </tr>\n",
       "    <tr>\n",
       "      <th>60</th>\n",
       "      <td>Derby Racer</td>\n",
       "      <td>Revere Beach</td>\n",
       "      <td>Removed</td>\n",
       "      <td>Fred W. Pearce</td>\n",
       "      <td>1937</td>\n",
       "      <td>42.4200</td>\n",
       "      <td>-70.9860</td>\n",
       "      <td>Wood</td>\n",
       "      <td>1911-01-01</td>\n",
       "      <td>NaN</td>\n",
       "      <td>NaN</td>\n",
       "      <td>0</td>\n",
       "      <td>NaN</td>\n",
       "    </tr>\n",
       "    <tr>\n",
       "      <th>61</th>\n",
       "      <td>Blue Streak (Conneaut Lake)</td>\n",
       "      <td>Conneaut Lake Park</td>\n",
       "      <td>Closed</td>\n",
       "      <td>NaN</td>\n",
       "      <td>1938</td>\n",
       "      <td>41.6349</td>\n",
       "      <td>-80.3180</td>\n",
       "      <td>Wood</td>\n",
       "      <td>1938-05-23</td>\n",
       "      <td>50.0</td>\n",
       "      <td>NaN</td>\n",
       "      <td>0</td>\n",
       "      <td>NaN</td>\n",
       "    </tr>\n",
       "    <tr>\n",
       "      <th>167</th>\n",
       "      <td>Big Thunder Mountain Railroad</td>\n",
       "      <td>Other</td>\n",
       "      <td>NaN</td>\n",
       "      <td>Arrow Development (California and Florida)Dyna...</td>\n",
       "      <td>1980</td>\n",
       "      <td>NaN</td>\n",
       "      <td>NaN</td>\n",
       "      <td>Steel</td>\n",
       "      <td>NaT</td>\n",
       "      <td>35.0</td>\n",
       "      <td>NaN</td>\n",
       "      <td>0</td>\n",
       "      <td>NaN</td>\n",
       "    </tr>\n",
       "    <tr>\n",
       "      <th>237</th>\n",
       "      <td>Thunder Run (Canada's Wonderland)</td>\n",
       "      <td>Canada's Wonderland</td>\n",
       "      <td>Operating</td>\n",
       "      <td>Mack Rides</td>\n",
       "      <td>1986</td>\n",
       "      <td>43.8427</td>\n",
       "      <td>-79.5423</td>\n",
       "      <td>Steel</td>\n",
       "      <td>1981-05-23</td>\n",
       "      <td>39.8</td>\n",
       "      <td>32.8</td>\n",
       "      <td>0</td>\n",
       "      <td>NaN</td>\n",
       "    </tr>\n",
       "    <tr>\n",
       "      <th>...</th>\n",
       "      <td>...</td>\n",
       "      <td>...</td>\n",
       "      <td>...</td>\n",
       "      <td>...</td>\n",
       "      <td>...</td>\n",
       "      <td>...</td>\n",
       "      <td>...</td>\n",
       "      <td>...</td>\n",
       "      <td>...</td>\n",
       "      <td>...</td>\n",
       "      <td>...</td>\n",
       "      <td>...</td>\n",
       "      <td>...</td>\n",
       "    </tr>\n",
       "    <tr>\n",
       "      <th>1063</th>\n",
       "      <td>Lil' Devil Coaster</td>\n",
       "      <td>Six Flags Great Adventure</td>\n",
       "      <td>Operating</td>\n",
       "      <td>Zamperla</td>\n",
       "      <td>2021</td>\n",
       "      <td>40.1343</td>\n",
       "      <td>-74.4434</td>\n",
       "      <td>Steel</td>\n",
       "      <td>1999-01-01</td>\n",
       "      <td>NaN</td>\n",
       "      <td>NaN</td>\n",
       "      <td>0</td>\n",
       "      <td>NaN</td>\n",
       "    </tr>\n",
       "    <tr>\n",
       "      <th>1064</th>\n",
       "      <td>Little Dipper (Conneaut Lake Park)</td>\n",
       "      <td>Conneaut Lake Park</td>\n",
       "      <td>Operating</td>\n",
       "      <td>Allan Herschell Company</td>\n",
       "      <td>2021</td>\n",
       "      <td>41.6343</td>\n",
       "      <td>-80.3165</td>\n",
       "      <td>Steel</td>\n",
       "      <td>1950-01-01</td>\n",
       "      <td>NaN</td>\n",
       "      <td>NaN</td>\n",
       "      <td>0</td>\n",
       "      <td>NaN</td>\n",
       "    </tr>\n",
       "    <tr>\n",
       "      <th>1080</th>\n",
       "      <td>Iron Gwazi</td>\n",
       "      <td>Busch Gardens Tampa Bay</td>\n",
       "      <td>Under construction</td>\n",
       "      <td>Rocky Mountain Construction</td>\n",
       "      <td>2022</td>\n",
       "      <td>28.0339</td>\n",
       "      <td>-82.4231</td>\n",
       "      <td>Steel</td>\n",
       "      <td>NaT</td>\n",
       "      <td>76.0</td>\n",
       "      <td>NaN</td>\n",
       "      <td>2</td>\n",
       "      <td>NaN</td>\n",
       "    </tr>\n",
       "    <tr>\n",
       "      <th>1082</th>\n",
       "      <td>American Dreier Looping</td>\n",
       "      <td>Other</td>\n",
       "      <td>NaN</td>\n",
       "      <td>Anton Schwarzkopf</td>\n",
       "      <td>2022</td>\n",
       "      <td>NaN</td>\n",
       "      <td>NaN</td>\n",
       "      <td>Steel</td>\n",
       "      <td>NaT</td>\n",
       "      <td>53.0</td>\n",
       "      <td>NaN</td>\n",
       "      <td>3</td>\n",
       "      <td>4.7</td>\n",
       "    </tr>\n",
       "    <tr>\n",
       "      <th>1084</th>\n",
       "      <td>Tron Lightcycle Power Run</td>\n",
       "      <td>Other</td>\n",
       "      <td>NaN</td>\n",
       "      <td>Vekoma</td>\n",
       "      <td>2022</td>\n",
       "      <td>NaN</td>\n",
       "      <td>NaN</td>\n",
       "      <td>Steel</td>\n",
       "      <td>2016-06-16</td>\n",
       "      <td>59.3</td>\n",
       "      <td>NaN</td>\n",
       "      <td>0</td>\n",
       "      <td>4.0</td>\n",
       "    </tr>\n",
       "  </tbody>\n",
       "</table>\n",
       "<p>97 rows × 13 columns</p>\n",
       "</div>"
      ],
      "text/plain": [
       "                            Coaster_Name                   Location  \\\n",
       "43                 Crystal Beach Cyclone         Crystal Beach Park   \n",
       "60                           Derby Racer               Revere Beach   \n",
       "61           Blue Streak (Conneaut Lake)         Conneaut Lake Park   \n",
       "167        Big Thunder Mountain Railroad                      Other   \n",
       "237    Thunder Run (Canada's Wonderland)        Canada's Wonderland   \n",
       "...                                  ...                        ...   \n",
       "1063                  Lil' Devil Coaster  Six Flags Great Adventure   \n",
       "1064  Little Dipper (Conneaut Lake Park)         Conneaut Lake Park   \n",
       "1080                          Iron Gwazi    Busch Gardens Tampa Bay   \n",
       "1082             American Dreier Looping                      Other   \n",
       "1084           Tron Lightcycle Power Run                      Other   \n",
       "\n",
       "                  Status                                       Manufacturer  \\\n",
       "43               Removed                                 Traver Engineering   \n",
       "60               Removed                                     Fred W. Pearce   \n",
       "61                Closed                                                NaN   \n",
       "167                  NaN  Arrow Development (California and Florida)Dyna...   \n",
       "237            Operating                                         Mack Rides   \n",
       "...                  ...                                                ...   \n",
       "1063           Operating                                           Zamperla   \n",
       "1064           Operating                            Allan Herschell Company   \n",
       "1080  Under construction                        Rocky Mountain Construction   \n",
       "1082                 NaN                                  Anton Schwarzkopf   \n",
       "1084                 NaN                                             Vekoma   \n",
       "\n",
       "      Year_Introduced  latitude  longitude Type_Main Opening_Date  Speed_mph  \\\n",
       "43               1927   42.8617   -79.0598      Wood   1926-01-01       60.0   \n",
       "60               1937   42.4200   -70.9860      Wood   1911-01-01        NaN   \n",
       "61               1938   41.6349   -80.3180      Wood   1938-05-23       50.0   \n",
       "167              1980       NaN        NaN     Steel          NaT       35.0   \n",
       "237              1986   43.8427   -79.5423     Steel   1981-05-23       39.8   \n",
       "...               ...       ...        ...       ...          ...        ...   \n",
       "1063             2021   40.1343   -74.4434     Steel   1999-01-01        NaN   \n",
       "1064             2021   41.6343   -80.3165     Steel   1950-01-01        NaN   \n",
       "1080             2022   28.0339   -82.4231     Steel          NaT       76.0   \n",
       "1082             2022       NaN        NaN     Steel          NaT       53.0   \n",
       "1084             2022       NaN        NaN     Steel   2016-06-16       59.3   \n",
       "\n",
       "      Height_ft  Inversions  Gforce  \n",
       "43          NaN           0     4.0  \n",
       "60          NaN           0     NaN  \n",
       "61          NaN           0     NaN  \n",
       "167         NaN           0     NaN  \n",
       "237        32.8           0     NaN  \n",
       "...         ...         ...     ...  \n",
       "1063        NaN           0     NaN  \n",
       "1064        NaN           0     NaN  \n",
       "1080        NaN           2     NaN  \n",
       "1082        NaN           3     4.7  \n",
       "1084        NaN           0     4.0  \n",
       "\n",
       "[97 rows x 13 columns]"
      ]
     },
     "execution_count": 22,
     "metadata": {},
     "output_type": "execute_result"
    }
   ],
   "source": [
    "df.loc[df.duplicated(subset=['Coaster_Name'])]"
   ]
  },
  {
   "cell_type": "code",
   "execution_count": 23,
   "metadata": {},
   "outputs": [
    {
     "data": {
      "text/html": [
       "<div>\n",
       "<style scoped>\n",
       "    .dataframe tbody tr th:only-of-type {\n",
       "        vertical-align: middle;\n",
       "    }\n",
       "\n",
       "    .dataframe tbody tr th {\n",
       "        vertical-align: top;\n",
       "    }\n",
       "\n",
       "    .dataframe thead th {\n",
       "        text-align: right;\n",
       "    }\n",
       "</style>\n",
       "<table border=\"1\" class=\"dataframe\">\n",
       "  <thead>\n",
       "    <tr style=\"text-align: right;\">\n",
       "      <th></th>\n",
       "      <th>Coaster_Name</th>\n",
       "      <th>Location</th>\n",
       "      <th>Status</th>\n",
       "      <th>Manufacturer</th>\n",
       "      <th>Year_Introduced</th>\n",
       "      <th>latitude</th>\n",
       "      <th>longitude</th>\n",
       "      <th>Type_Main</th>\n",
       "      <th>Opening_Date</th>\n",
       "      <th>Speed_mph</th>\n",
       "      <th>Height_ft</th>\n",
       "      <th>Inversions</th>\n",
       "      <th>Gforce</th>\n",
       "    </tr>\n",
       "  </thead>\n",
       "  <tbody>\n",
       "    <tr>\n",
       "      <th>39</th>\n",
       "      <td>Crystal Beach Cyclone</td>\n",
       "      <td>Crystal Beach Park</td>\n",
       "      <td>Removed</td>\n",
       "      <td>Traver Engineering</td>\n",
       "      <td>1926</td>\n",
       "      <td>42.8617</td>\n",
       "      <td>-79.0598</td>\n",
       "      <td>Wood</td>\n",
       "      <td>1926-01-01</td>\n",
       "      <td>60.0</td>\n",
       "      <td>NaN</td>\n",
       "      <td>0</td>\n",
       "      <td>4.0</td>\n",
       "    </tr>\n",
       "    <tr>\n",
       "      <th>43</th>\n",
       "      <td>Crystal Beach Cyclone</td>\n",
       "      <td>Crystal Beach Park</td>\n",
       "      <td>Removed</td>\n",
       "      <td>Traver Engineering</td>\n",
       "      <td>1927</td>\n",
       "      <td>42.8617</td>\n",
       "      <td>-79.0598</td>\n",
       "      <td>Wood</td>\n",
       "      <td>1926-01-01</td>\n",
       "      <td>60.0</td>\n",
       "      <td>NaN</td>\n",
       "      <td>0</td>\n",
       "      <td>4.0</td>\n",
       "    </tr>\n",
       "  </tbody>\n",
       "</table>\n",
       "</div>"
      ],
      "text/plain": [
       "             Coaster_Name            Location   Status        Manufacturer  \\\n",
       "39  Crystal Beach Cyclone  Crystal Beach Park  Removed  Traver Engineering   \n",
       "43  Crystal Beach Cyclone  Crystal Beach Park  Removed  Traver Engineering   \n",
       "\n",
       "    Year_Introduced  latitude  longitude Type_Main Opening_Date  Speed_mph  \\\n",
       "39             1926   42.8617   -79.0598      Wood   1926-01-01       60.0   \n",
       "43             1927   42.8617   -79.0598      Wood   1926-01-01       60.0   \n",
       "\n",
       "    Height_ft  Inversions  Gforce  \n",
       "39        NaN           0     4.0  \n",
       "43        NaN           0     4.0  "
      ]
     },
     "execution_count": 23,
     "metadata": {},
     "output_type": "execute_result"
    }
   ],
   "source": [
    "# Checking an example duplicate\n",
    "df.query('Coaster_Name == \"Crystal Beach Cyclone\"')"
   ]
  },
  {
   "cell_type": "code",
   "execution_count": 24,
   "metadata": {},
   "outputs": [
    {
     "data": {
      "text/plain": [
       "97"
      ]
     },
     "execution_count": 24,
     "metadata": {},
     "output_type": "execute_result"
    }
   ],
   "source": [
    "# Run duplicated on a subset of columns\n",
    "df.duplicated(subset=['Coaster_Name', 'Location', 'Opening_Date']).sum()"
   ]
  },
  {
   "cell_type": "code",
   "execution_count": 25,
   "metadata": {},
   "outputs": [],
   "source": [
    "# 想要去掉所有 duplicated 的 column，只留下非 duplicated 的\n",
    "df = df.loc[~df.duplicated(subset=['Coaster_Name', 'Location', 'Opening_Date'])] \\\n",
    "    .reset_index(drop=True).copy()"
   ]
  },
  {
   "cell_type": "code",
   "execution_count": 26,
   "metadata": {},
   "outputs": [
    {
     "data": {
      "text/plain": [
       "(990, 13)"
      ]
     },
     "execution_count": 26,
     "metadata": {},
     "output_type": "execute_result"
    }
   ],
   "source": [
    "df.shape"
   ]
  },
  {
   "cell_type": "markdown",
   "metadata": {},
   "source": [
    "#### Step 2 总结: Data Preparation Summary\n",
    "\n",
    "* Drop（clean up一下） <font color='green'>**没有用的 column**</font>\n",
    "    * 两种 drop columns 的方法：\n",
    "        * `drop` 函数\n",
    "        * subset a list of columns (用 `.loc` 函数)：这种方法千万别忘记在最后 call `.copy()` function\n",
    "\n",
    "* Clean up 一下 column 的 <font color='green'>**data type**</font>\n",
    "    * 日期 column 应该转化成 datetime by calling the `pd.to_datetime()` function\n",
    "    ```python\n",
    "    df['opening_date_clean'] = pd.to_datetime(df['opening_date_clean'])\n",
    "    ```\n",
    "    \n",
    "    * numeric value 应该转化成 numeric data type，by calling the `pd.to_numeric()` function)，这个function 会:\n",
    "        * 是 int 就转化成 `int64`\n",
    "        * 是 float 就转化成 `float64`\n",
    "    ```python\n",
    "    df['year_introduced'] = pd.to_numeric(df['year_introduced'])\n",
    "    ```\n",
    "        \n",
    "    * Categorical column 应该转化成 Categorical\n",
    "    ```python\n",
    "    df['A'] = df['A'].astype('category')\n",
    "    ```\n",
    "\n",
    "* Clean up 一下 <font color='green'>**column name**</font>\n",
    "    * 不推荐 column name 中含有空格，最好用下划线 _\n",
    "    * rename column 用 `.rename` function:\n",
    "        * 这个 function 有一个 columns parameter，可以 pass in 一个 dict，key 是 old name，value 是 new name\n",
    "        \n",
    "* 处理 <font color='green'>**missing value**</font>：identify where missing values exist in the dataframe and how often they occur\n",
    "    * 用 `df.isna().sum()` 来看每个 column 各有多少 missing value\n",
    "    * <font color='red'>根据需求和business needs，看看需不需要 fill 一下 missing value，如果需要的话，用什么 fill 的方法？</font>\n",
    "\n",
    "* 处理 <font color='green'>**duplicate**</font>: want to see if they are any rows that are duplicated\n",
    "    * Check duplicate: `df.duplicated()`\n",
    "    * Check 某些 subset 有没有 duplicate（以某些 column subset 作为 key 来check duplicate）：\n",
    "        * 用 `duplicated()` 函数的 `subset` parameter: \n",
    "        ```python\n",
    "        df.duplicated(subset=['Coaster_Name', 'Location', 'Opening_Date']).sum()\n",
    "        ```\n",
    "        * 去掉 duplicate，只保留非 duplicate 的 row：\n",
    "        ```python\n",
    "        df = df.loc[~df.duplicated(subset=['Coaster_Name', \n",
    "                                           'Location', 'Opening_Date'])]\n",
    "                       .reset_index(drop=True)\n",
    "                       .copy()\n",
    "        ```\n",
    "        * 去掉 duplicate 也可用 `df.drop_duplicates()` function"
   ]
  },
  {
   "cell_type": "markdown",
   "metadata": {},
   "source": [
    "Now we are done with the data cleaning. We have a good subset of the data and a good understanding for where missing values occurs.\n",
    "\n",
    "## Step 3: Feature Understanding\n",
    "\n",
    "(Univariate analysis) (univariate: 单变量的)\n",
    "\n",
    "* Plotting Feature Distributions\n",
    "\n",
    "    * Histogram\n",
    "    * KDE (KDE: Kernal Distribution/Density Estimation)\n",
    "    * Boxplot"
   ]
  },
  {
   "cell_type": "code",
   "execution_count": 27,
   "metadata": {},
   "outputs": [
    {
     "data": {
      "text/plain": [
       "1999    46\n",
       "2000    45\n",
       "1998    30\n",
       "2001    29\n",
       "2002    28\n",
       "        ..\n",
       "1955     1\n",
       "1956     1\n",
       "1959     1\n",
       "1961     1\n",
       "1884     1\n",
       "Name: Year_Introduced, Length: 101, dtype: int64"
      ]
     },
     "execution_count": 27,
     "metadata": {},
     "output_type": "execute_result"
    }
   ],
   "source": [
    "df['Year_Introduced'].value_counts()"
   ]
  },
  {
   "cell_type": "code",
   "execution_count": 28,
   "metadata": {},
   "outputs": [
    {
     "data": {
      "text/plain": [
       "Text(0, 0.5, 'Count')"
      ]
     },
     "execution_count": 28,
     "metadata": {},
     "output_type": "execute_result"
    },
    {
     "data": {
      "image/png": "[encoded data removed]",
      "text/plain": [
       "<Figure size 432x288 with 1 Axes>"
      ]
     },
     "metadata": {
      "needs_background": "light"
     },
     "output_type": "display_data"
    }
   ],
   "source": [
    "ax = df['Year_Introduced'].value_counts() \\\n",
    "    .head(10) \\\n",
    "    .plot(kind='bar', title='Top Years Coasters Introduced')\n",
    "\n",
    "# Above, we save this plot as matplotlib axis and with the axis we can add some additional \n",
    "# information to it.\n",
    "\n",
    "ax.set_xlabel('Year Introduced')\n",
    "ax.set_ylabel('Count')"
   ]
  },
  {
   "cell_type": "code",
   "execution_count": 29,
   "metadata": {},
   "outputs": [
    {
     "data": {
      "text/plain": [
       "<matplotlib.axes._subplots.AxesSubplot at 0x7ff183f0b668>"
      ]
     },
     "execution_count": 29,
     "metadata": {},
     "output_type": "execute_result"
    },
    {
     "data": {
      "image/png": "[encoded data removed]",
      "text/plain": [
       "<Figure size 432x288 with 1 Axes>"
      ]
     },
     "metadata": {
      "needs_background": "light"
     },
     "output_type": "display_data"
    }
   ],
   "source": [
    "df['Speed_mph'].plot(kind='hist')\n",
    "\n",
    "# A histogram shows us, in different bins, what's the count of that value."
   ]
  },
  {
   "cell_type": "code",
   "execution_count": 68,
   "metadata": {},
   "outputs": [
    {
     "data": {
      "text/plain": [
       "Text(0.5, 0, 'Speed (mph)')"
      ]
     },
     "execution_count": 68,
     "metadata": {},
     "output_type": "execute_result"
    },
    {
     "data": {
      "image/png": "[encoded data removed]",
      "text/plain": [
       "<Figure size 432x288 with 1 Axes>"
      ]
     },
     "metadata": {},
     "output_type": "display_data"
    }
   ],
   "source": [
    "# Use differenct bins sizes to get a better idea of what the distribution looks like\n",
    "ax = df['Speed_mph'].plot(kind='hist', bins=20, title='Coaster Speed (mph)')\n",
    "\n",
    "# Save off this plot to a matplotlib axis, so that we can add some additional features to it.\n",
    "\n",
    "ax.set_xlabel('Speed (mph)')"
   ]
  },
  {
   "cell_type": "code",
   "execution_count": 42,
   "metadata": {
    "scrolled": true
   },
   "outputs": [
    {
     "data": {
      "text/plain": [
       "Text(0.5, 0, 'Speed (mph)')"
      ]
     },
     "execution_count": 42,
     "metadata": {},
     "output_type": "execute_result"
    },
    {
     "data": {
      "image/png": "[encoded data removed]",
      "text/plain": [
       "<Figure size 432x288 with 1 Axes>"
      ]
     },
     "metadata": {
      "needs_background": "light"
     },
     "output_type": "display_data"
    }
   ],
   "source": [
    "# KBE: kernel density plot\n",
    "ax = df['Speed_mph'].plot(kind='kde', title='Coaster Speed (mph)')\n",
    "\n",
    "# Save off this plot to a matplotlib axis, so that we can add some additional features to it.\n",
    "\n",
    "ax.set_xlabel('Speed (mph)')"
   ]
  },
  {
   "cell_type": "markdown",
   "metadata": {},
   "source": [
    "Boxplot 的部分为自己加（video中提到了，但是 forgot to cover in details了"
   ]
  },
  {
   "cell_type": "code",
   "execution_count": 60,
   "metadata": {},
   "outputs": [
    {
     "data": {
      "text/plain": [
       "Index(['Coaster_Name', 'Location', 'Status', 'Manufacturer', 'Year_Introduced',\n",
       "       'latitude', 'longitude', 'Type_Main', 'Opening_Date', 'Speed_mph',\n",
       "       'Height_ft', 'Inversions', 'Gforce'],\n",
       "      dtype='object')"
      ]
     },
     "metadata": {},
     "output_type": "display_data"
    },
    {
     "data": {
      "text/plain": [
       "Coaster_Name               object\n",
       "Location                   object\n",
       "Status                     object\n",
       "Manufacturer               object\n",
       "Year_Introduced             int64\n",
       "latitude                  float64\n",
       "longitude                 float64\n",
       "Type_Main                  object\n",
       "Opening_Date       datetime64[ns]\n",
       "Speed_mph                 float64\n",
       "Height_ft                 float64\n",
       "Inversions                  int64\n",
       "Gforce                    float64\n",
       "dtype: object"
      ]
     },
     "metadata": {},
     "output_type": "display_data"
    }
   ],
   "source": [
    "display(df.columns)\n",
    "display(df.dtypes)"
   ]
  },
  {
   "cell_type": "code",
   "execution_count": 58,
   "metadata": {},
   "outputs": [
    {
     "data": {
      "text/plain": [
       "<matplotlib.axes._subplots.AxesSubplot at 0x7ff189dd2a20>"
      ]
     },
     "execution_count": 58,
     "metadata": {},
     "output_type": "execute_result"
    },
    {
     "data": {
      "image/png": "[encoded data removed]",
      "text/plain": [
       "<Figure size 432x288 with 1 Axes>"
      ]
     },
     "metadata": {
      "needs_background": "light"
     },
     "output_type": "display_data"
    }
   ],
   "source": [
    "df['Speed_mph'].plot(kind='box')"
   ]
  },
  {
   "cell_type": "code",
   "execution_count": 50,
   "metadata": {},
   "outputs": [
    {
     "data": {
      "text/plain": [
       "<matplotlib.axes._subplots.AxesSubplot at 0x7ff189a33668>"
      ]
     },
     "execution_count": 50,
     "metadata": {},
     "output_type": "execute_result"
    },
    {
     "data": {
      "image/png": "[encoded data removed]",
      "text/plain": [
       "<Figure size 432x288 with 1 Axes>"
      ]
     },
     "metadata": {
      "needs_background": "light"
     },
     "output_type": "display_data"
    }
   ],
   "source": [
    "df[['Speed_mph', 'Height_ft', 'Gforce']].plot(kind='box')"
   ]
  },
  {
   "cell_type": "markdown",
   "metadata": {},
   "source": [
    "#### Step 3 总结 (Feature Understanding, Univarite analysis 单变量的分析) \n",
    "\n",
    "对一个变量（一个 column/列）可以进行的操作：\n",
    "\n",
    "* <font color='green'>**bar plot**</font>：两种 bar plot\n",
    "    * vertical bar plot -> `df.plot(kind='bar')`\n",
    "    * horizontal bar plot -> `df.plot(kind='barh')`\n",
    "    * 画 bar plot 时，dataframe 的 row 得有一个 index label (而不是 default 的数字 index：0, 1, 2, 3, ...)，通常 bar plot 是在经历过某些 aggregation function 之后画的，比较常见的就是 `.value_counts()` 之后，例如 \n",
    "    ```python\n",
    "    df['Year_Introduced'].value_counts().head(10).plot(kind='bar', title='Top Years Coasters Introduced')\n",
    "    ```\n",
    "\n",
    "* <font color='green'>**histogram**</font>: A histogram shows us, in different bins, what's the count of that value.\n",
    "    * histogram 让你看看the distribution:\n",
    "        * 可以通过 change bins sizes to get a better idea about what the distributuion looks like\n",
    "        ```python\n",
    "        df['Speed_mph'].plot(kind='hist', bins=20, title='Coaster Speed (mph)')\n",
    "        ```\n",
    "    * <font color='green'>**KDE**</font> (kernel density plot, probability density plot): 另外一种看 distribution 的方式是做 KDE plot\n",
    "        * 对于 density plot（KDE plot/ probability density plot），area under the curve equals to 1\n",
    "        * kde plot 可以用来比较两个 variable 的 distribution\n",
    "            * 这是因为 plot 成 density plot（kde）就相当于把 distribution 给 normalize 了，两个distribution 都被 normalize 了才好放在一起比\n",
    "            ```python\n",
    "            df['Speed_mph'].plot(kind='kde', title='Coaster Speed (mph)')\n",
    "            ```\n",
    "    \n",
    "    \n",
    "* <font color='green'>**boxplot**</font>: 去看一看有没有什么 extrem value\n",
    "\n",
    "\n",
    "* [自己加] <font color='green'>**line chart**</font>：通常用来 look at the trend（一般index label是 datetime，plot time series时用 line chart，从而看一看某一变量根据时间的走势）\n",
    "\n",
    "自悟：\n",
    "* histogram 和 kde 是用于 continous 的 numeric value 的\n",
    "* bar plot 是作用于 “类-Categorical” variable 的"
   ]
  },
  {
   "cell_type": "markdown",
   "metadata": {},
   "source": [
    "We have looked at each feature individually and some distributions and other characteristics of a given column in our data set, but what we really want to look at is how is the different features related to each other in our data set.\n",
    "\n",
    "## Step 4: Feature Relationships\n",
    "\n",
    "* Scatterplot\n",
    "* Heatmap Correlation\n",
    "* Pairplot\n",
    "* Groupby comparisons"
   ]
  },
  {
   "cell_type": "code",
   "execution_count": 83,
   "metadata": {
    "scrolled": true
   },
   "outputs": [
    {
     "data": {
      "image/png": "[encoded data removed]",
      "text/plain": [
       "<Figure size 432x288 with 1 Axes>"
      ]
     },
     "metadata": {},
     "output_type": "display_data"
    }
   ],
   "source": [
    "# Scatter plot: compare two features side by side by making a scatter plot\n",
    "df.plot(kind='scatter', \n",
    "        x='Speed_mph', \n",
    "        y='Height_ft',\n",
    "        title='Coaster Speed vs. Height')\n",
    "plt.show()"
   ]
  },
  {
   "cell_type": "code",
   "execution_count": 84,
   "metadata": {},
   "outputs": [
    {
     "data": {
      "text/plain": [
       "<matplotlib.axes._subplots.AxesSubplot at 0x7fca81d8a4e0>"
      ]
     },
     "execution_count": 84,
     "metadata": {},
     "output_type": "execute_result"
    },
    {
     "data": {
      "image/png": "[encoded data removed]",
      "text/plain": [
       "<Figure size 432x288 with 1 Axes>"
      ]
     },
     "metadata": {},
     "output_type": "display_data"
    }
   ],
   "source": [
    "sns.scatterplot(x='Speed_mph', y='Height_ft', data=df)"
   ]
  },
  {
   "cell_type": "code",
   "execution_count": 61,
   "metadata": {},
   "outputs": [
    {
     "data": {
      "image/png": "[encoded data removed]",
      "text/plain": [
       "<Figure size 432x288 with 1 Axes>"
      ]
     },
     "metadata": {
      "needs_background": "light"
     },
     "output_type": "display_data"
    }
   ],
   "source": [
    "# There are some cool stuff we can do with seaborn we can't with matplotlib out of the box\n",
    "# We can have the 'Year_Introduced' or other features be the color and the way to do that is \n",
    "# by adding this as the hue in the scatter plot. (color the plot based on another variable)\n",
    "sns.scatterplot(x='Speed_mph', y='Height_ft', hue='Year_Introduced', data=df)\n",
    "plt.show()"
   ]
  },
  {
   "cell_type": "code",
   "execution_count": 75,
   "metadata": {},
   "outputs": [
    {
     "data": {
      "image/png": "[encoded data removed]",
      "text/plain": [
       "<Figure size 972.234x900 with 30 Axes>"
      ]
     },
     "metadata": {
      "needs_background": "light"
     },
     "output_type": "display_data"
    }
   ],
   "source": [
    "# So far we have looked at comparing two features within our data sets, what if we want to \n",
    "# compare more than two?\n",
    "# Seaborn has a pretty nicely built-in functionality called a pair plot where we can compare \n",
    "# multiple features against each other in our data set.\n",
    "sns.pairplot(df, vars=['Year_Introduced', 'Speed_mph', \n",
    "                       'Height_ft', 'Inversions', 'Gforce'],\n",
    "               hue='Type_Main')\n",
    "plt.show()"
   ]
  },
  {
   "cell_type": "code",
   "execution_count": 76,
   "metadata": {},
   "outputs": [
    {
     "data": {
      "text/html": [
       "<div>\n",
       "<style scoped>\n",
       "    .dataframe tbody tr th:only-of-type {\n",
       "        vertical-align: middle;\n",
       "    }\n",
       "\n",
       "    .dataframe tbody tr th {\n",
       "        vertical-align: top;\n",
       "    }\n",
       "\n",
       "    .dataframe thead th {\n",
       "        text-align: right;\n",
       "    }\n",
       "</style>\n",
       "<table border=\"1\" class=\"dataframe\">\n",
       "  <thead>\n",
       "    <tr style=\"text-align: right;\">\n",
       "      <th></th>\n",
       "      <th>Year_Introduced</th>\n",
       "      <th>Speed_mph</th>\n",
       "      <th>Height_ft</th>\n",
       "      <th>Inversions</th>\n",
       "      <th>Gforce</th>\n",
       "    </tr>\n",
       "  </thead>\n",
       "  <tbody>\n",
       "    <tr>\n",
       "      <th>Year_Introduced</th>\n",
       "      <td>1.000000</td>\n",
       "      <td>0.171978</td>\n",
       "      <td>0.135413</td>\n",
       "      <td>-0.209887</td>\n",
       "      <td>0.160247</td>\n",
       "    </tr>\n",
       "    <tr>\n",
       "      <th>Speed_mph</th>\n",
       "      <td>0.171978</td>\n",
       "      <td>1.000000</td>\n",
       "      <td>0.733999</td>\n",
       "      <td>-0.028705</td>\n",
       "      <td>0.607383</td>\n",
       "    </tr>\n",
       "    <tr>\n",
       "      <th>Height_ft</th>\n",
       "      <td>0.135413</td>\n",
       "      <td>0.733999</td>\n",
       "      <td>1.000000</td>\n",
       "      <td>-0.079736</td>\n",
       "      <td>0.466482</td>\n",
       "    </tr>\n",
       "    <tr>\n",
       "      <th>Inversions</th>\n",
       "      <td>-0.209887</td>\n",
       "      <td>-0.028705</td>\n",
       "      <td>-0.079736</td>\n",
       "      <td>1.000000</td>\n",
       "      <td>0.275991</td>\n",
       "    </tr>\n",
       "    <tr>\n",
       "      <th>Gforce</th>\n",
       "      <td>0.160247</td>\n",
       "      <td>0.607383</td>\n",
       "      <td>0.466482</td>\n",
       "      <td>0.275991</td>\n",
       "      <td>1.000000</td>\n",
       "    </tr>\n",
       "  </tbody>\n",
       "</table>\n",
       "</div>"
      ],
      "text/plain": [
       "                 Year_Introduced  Speed_mph  Height_ft  Inversions    Gforce\n",
       "Year_Introduced         1.000000   0.171978   0.135413   -0.209887  0.160247\n",
       "Speed_mph               0.171978   1.000000   0.733999   -0.028705  0.607383\n",
       "Height_ft               0.135413   0.733999   1.000000   -0.079736  0.466482\n",
       "Inversions             -0.209887  -0.028705  -0.079736    1.000000  0.275991\n",
       "Gforce                  0.160247   0.607383   0.466482    0.275991  1.000000"
      ]
     },
     "execution_count": 76,
     "metadata": {},
     "output_type": "execute_result"
    }
   ],
   "source": [
    "# Another thing you might want to do in comparing features against each other is to look\n",
    "# at correlations.\n",
    "\n",
    "# Run corr() on the subset of features that we know are numeric\n",
    "df_corr = df[['Year_Introduced', 'Speed_mph', 'Height_ft', 'Inversions', 'Gforce']].dropna() \\\n",
    "                                                                                   .corr()\n",
    "df_corr"
   ]
  },
  {
   "cell_type": "code",
   "execution_count": 98,
   "metadata": {},
   "outputs": [
    {
     "data": {
      "text/plain": [
       "<matplotlib.axes._subplots.AxesSubplot at 0x7fca83419c50>"
      ]
     },
     "execution_count": 98,
     "metadata": {},
     "output_type": "execute_result"
    },
    {
     "data": {
      "image/png": "[encoded data removed]",
      "text/plain": [
       "<Figure size 432x288 with 2 Axes>"
      ]
     },
     "metadata": {},
     "output_type": "display_data"
    }
   ],
   "source": [
    "sns.heatmap(df_corr, annot=True)"
   ]
  },
  {
   "cell_type": "markdown",
   "metadata": {},
   "source": [
    "#### Step 4 总结：feature relationship\n",
    "\n",
    "<font color='red'>Step 4 is all about comparing features against each other.</font>\n",
    "\n",
    "<font color='purple'>**Compare 2 features:**</font>\n",
    "\n",
    "* Scatter plot: one thing we can do to compare different features in our data set is to just \n",
    "    compare two features side by side by making a scatter plot.\n",
    "    ```python\n",
    "    df.plot(kind='scatter', x='Speed_mph', y='Height_ft', \n",
    "            title='Coaster Speed vs. Height')\n",
    "\n",
    "    sns.scatterplot(x='Speed_mph', y='Height_ft', data=df)\n",
    "    \n",
    "    sns.scatterplot(x='Speed_mph', y='Height_ft', hue='Year_Introduced', data=df)\n",
    "    ```\n",
    "    \n",
    "    \n",
    "<font color='purple'>**Compare multiple features:**</font>\n",
    "\n",
    "* pairplot: seaborn 给了我们这个 powerful tool\n",
    "    ```python\n",
    "    sns.pairplot(df, vars=['Year_Introduced', 'Speed_mph', \n",
    "                       'Height_ft', 'Inversions', 'Gforce'])\n",
    "    \n",
    "    sns.pairplot(df, vars=['Year_Introduced', 'Speed_mph', \n",
    "                       'Height_ft', 'Inversions', 'Gforce'],\n",
    "               hue='Type_Main')\n",
    "    ```\n",
    "\n",
    "* heatmap\n",
    "    ```python\n",
    "    df_corr = df[['Year_Introduced', 'Speed_mph', 'Height_ft', \n",
    "                  'Inversions', 'Gforce']].dropna().corr()\n",
    "\n",
    "    sns.heatmap(df_corr, annot=True)\n",
    "    ```"
   ]
  },
  {
   "cell_type": "code",
   "execution_count": 79,
   "metadata": {},
   "outputs": [
    {
     "data": {
      "text/plain": [
       "Other                                                        181\n",
       "Kings Island                                                  19\n",
       "Cedar Point                                                   18\n",
       "Six Flags Magic Mountain                                      17\n",
       "Hersheypark                                                   16\n",
       "                                                            ... \n",
       "Gyeongju World                                                 1\n",
       "Erlebnispark Tripsdrill                                        1\n",
       "Marineland of Canada                                           1\n",
       "La Feria Chapultepec Mágico                                    1\n",
       "Universal Orlando Resort, Orlando, Florida, United States      1\n",
       "Name: Location, Length: 280, dtype: int64"
      ]
     },
     "execution_count": 79,
     "metadata": {},
     "output_type": "execute_result"
    }
   ],
   "source": [
    "df['Location'].value_counts()"
   ]
  },
  {
   "cell_type": "markdown",
   "metadata": {},
   "source": [
    "## Step 5: Ask a Question about the Data\n",
    "\n",
    "* Try to answer a question you have about the data using a plot or statistic."
   ]
  },
  {
   "cell_type": "markdown",
   "metadata": {},
   "source": [
    "What are the locations with the fastest roller coasters (minimum of 10)?"
   ]
  },
  {
   "cell_type": "code",
   "execution_count": 80,
   "metadata": {},
   "outputs": [
    {
     "data": {
      "image/png": "[encoded data removed]",
      "text/plain": [
       "<Figure size 864x360 with 1 Axes>"
      ]
     },
     "metadata": {
      "needs_background": "light"
     },
     "output_type": "display_data"
    }
   ],
   "source": [
    "ax = df.query('Location != \"Other\"').groupby('Location')['Speed_mph'] \\\n",
    "  .agg(['mean', 'count']) \\\n",
    "  .query('count >= 10')  \\\n",
    "  .sort_values('mean')['mean'] \\\n",
    "  .plot(kind='barh', figsize=(12, 5), title='Average Coast Speed by Location')\n",
    "\n",
    "ax.set_xlabel('Average Coaster Speed')\n",
    "plt.show()"
   ]
  },
  {
   "cell_type": "markdown",
   "metadata": {},
   "source": [
    "`count()` function 数得是 non-null value 的个数，不是 len"
   ]
  },
  {
   "cell_type": "code",
   "execution_count": 106,
   "metadata": {},
   "outputs": [],
   "source": [
    "df.loc[723, 'Speed_mph'] = 100"
   ]
  },
  {
   "cell_type": "code",
   "execution_count": 101,
   "metadata": {},
   "outputs": [
    {
     "data": {
      "text/html": [
       "<div>\n",
       "<style scoped>\n",
       "    .dataframe tbody tr th:only-of-type {\n",
       "        vertical-align: middle;\n",
       "    }\n",
       "\n",
       "    .dataframe tbody tr th {\n",
       "        vertical-align: top;\n",
       "    }\n",
       "\n",
       "    .dataframe thead th {\n",
       "        text-align: right;\n",
       "    }\n",
       "</style>\n",
       "<table border=\"1\" class=\"dataframe\">\n",
       "  <thead>\n",
       "    <tr style=\"text-align: right;\">\n",
       "      <th></th>\n",
       "      <th>Coaster_Name</th>\n",
       "      <th>Status</th>\n",
       "      <th>Manufacturer</th>\n",
       "      <th>Year_Introduced</th>\n",
       "      <th>latitude</th>\n",
       "      <th>longitude</th>\n",
       "      <th>Type_Main</th>\n",
       "      <th>Opening_Date</th>\n",
       "      <th>Speed_mph</th>\n",
       "      <th>Height_ft</th>\n",
       "      <th>Inversions</th>\n",
       "      <th>Gforce</th>\n",
       "    </tr>\n",
       "    <tr>\n",
       "      <th>Location</th>\n",
       "      <th></th>\n",
       "      <th></th>\n",
       "      <th></th>\n",
       "      <th></th>\n",
       "      <th></th>\n",
       "      <th></th>\n",
       "      <th></th>\n",
       "      <th></th>\n",
       "      <th></th>\n",
       "      <th></th>\n",
       "      <th></th>\n",
       "      <th></th>\n",
       "    </tr>\n",
       "  </thead>\n",
       "  <tbody>\n",
       "    <tr>\n",
       "      <th>2904 Fantasy Way Myrtle Beach, South Carolina, U.S.</th>\n",
       "      <td>2</td>\n",
       "      <td>2</td>\n",
       "      <td>0</td>\n",
       "      <td>2</td>\n",
       "      <td>2</td>\n",
       "      <td>2</td>\n",
       "      <td>2</td>\n",
       "      <td>0</td>\n",
       "      <td>0</td>\n",
       "      <td>0</td>\n",
       "      <td>2</td>\n",
       "      <td>0</td>\n",
       "    </tr>\n",
       "    <tr>\n",
       "      <th>63rd and N.W. Expressway, Oklahoma City, Oklahoma, U.S.</th>\n",
       "      <td>1</td>\n",
       "      <td>1</td>\n",
       "      <td>0</td>\n",
       "      <td>1</td>\n",
       "      <td>0</td>\n",
       "      <td>0</td>\n",
       "      <td>1</td>\n",
       "      <td>0</td>\n",
       "      <td>0</td>\n",
       "      <td>0</td>\n",
       "      <td>1</td>\n",
       "      <td>0</td>\n",
       "    </tr>\n",
       "    <tr>\n",
       "      <th>8039 Beach BoulevardBuena Park, California 90620, U.S.</th>\n",
       "      <td>1</td>\n",
       "      <td>0</td>\n",
       "      <td>0</td>\n",
       "      <td>1</td>\n",
       "      <td>1</td>\n",
       "      <td>1</td>\n",
       "      <td>1</td>\n",
       "      <td>0</td>\n",
       "      <td>0</td>\n",
       "      <td>0</td>\n",
       "      <td>1</td>\n",
       "      <td>0</td>\n",
       "    </tr>\n",
       "    <tr>\n",
       "      <th>Adlabs Imagica</th>\n",
       "      <td>1</td>\n",
       "      <td>1</td>\n",
       "      <td>1</td>\n",
       "      <td>1</td>\n",
       "      <td>1</td>\n",
       "      <td>1</td>\n",
       "      <td>1</td>\n",
       "      <td>1</td>\n",
       "      <td>1</td>\n",
       "      <td>0</td>\n",
       "      <td>1</td>\n",
       "      <td>0</td>\n",
       "    </tr>\n",
       "    <tr>\n",
       "      <th>Adventure City</th>\n",
       "      <td>1</td>\n",
       "      <td>1</td>\n",
       "      <td>1</td>\n",
       "      <td>1</td>\n",
       "      <td>1</td>\n",
       "      <td>1</td>\n",
       "      <td>1</td>\n",
       "      <td>1</td>\n",
       "      <td>1</td>\n",
       "      <td>0</td>\n",
       "      <td>1</td>\n",
       "      <td>0</td>\n",
       "    </tr>\n",
       "    <tr>\n",
       "      <th>...</th>\n",
       "      <td>...</td>\n",
       "      <td>...</td>\n",
       "      <td>...</td>\n",
       "      <td>...</td>\n",
       "      <td>...</td>\n",
       "      <td>...</td>\n",
       "      <td>...</td>\n",
       "      <td>...</td>\n",
       "      <td>...</td>\n",
       "      <td>...</td>\n",
       "      <td>...</td>\n",
       "      <td>...</td>\n",
       "    </tr>\n",
       "    <tr>\n",
       "      <th>Xishuangbanna Theme Park</th>\n",
       "      <td>1</td>\n",
       "      <td>1</td>\n",
       "      <td>1</td>\n",
       "      <td>1</td>\n",
       "      <td>1</td>\n",
       "      <td>1</td>\n",
       "      <td>1</td>\n",
       "      <td>1</td>\n",
       "      <td>1</td>\n",
       "      <td>0</td>\n",
       "      <td>1</td>\n",
       "      <td>0</td>\n",
       "    </tr>\n",
       "    <tr>\n",
       "      <th>Yomiuriland</th>\n",
       "      <td>4</td>\n",
       "      <td>4</td>\n",
       "      <td>4</td>\n",
       "      <td>4</td>\n",
       "      <td>4</td>\n",
       "      <td>4</td>\n",
       "      <td>4</td>\n",
       "      <td>4</td>\n",
       "      <td>4</td>\n",
       "      <td>1</td>\n",
       "      <td>4</td>\n",
       "      <td>2</td>\n",
       "    </tr>\n",
       "    <tr>\n",
       "      <th>ZDT's Amusement Park</th>\n",
       "      <td>1</td>\n",
       "      <td>1</td>\n",
       "      <td>1</td>\n",
       "      <td>1</td>\n",
       "      <td>0</td>\n",
       "      <td>0</td>\n",
       "      <td>1</td>\n",
       "      <td>1</td>\n",
       "      <td>1</td>\n",
       "      <td>0</td>\n",
       "      <td>1</td>\n",
       "      <td>0</td>\n",
       "    </tr>\n",
       "    <tr>\n",
       "      <th>Zoosafari Fasanolandia</th>\n",
       "      <td>1</td>\n",
       "      <td>1</td>\n",
       "      <td>1</td>\n",
       "      <td>1</td>\n",
       "      <td>1</td>\n",
       "      <td>1</td>\n",
       "      <td>1</td>\n",
       "      <td>1</td>\n",
       "      <td>1</td>\n",
       "      <td>1</td>\n",
       "      <td>1</td>\n",
       "      <td>0</td>\n",
       "    </tr>\n",
       "    <tr>\n",
       "      <th>Đại Nam Văn Hiến</th>\n",
       "      <td>1</td>\n",
       "      <td>1</td>\n",
       "      <td>1</td>\n",
       "      <td>1</td>\n",
       "      <td>1</td>\n",
       "      <td>1</td>\n",
       "      <td>1</td>\n",
       "      <td>1</td>\n",
       "      <td>1</td>\n",
       "      <td>1</td>\n",
       "      <td>1</td>\n",
       "      <td>1</td>\n",
       "    </tr>\n",
       "  </tbody>\n",
       "</table>\n",
       "<p>279 rows × 12 columns</p>\n",
       "</div>"
      ],
      "text/plain": [
       "                                                    Coaster_Name  Status  \\\n",
       "Location                                                                   \n",
       "2904 Fantasy Way Myrtle Beach, South Carolina, ...             2       2   \n",
       "63rd and N.W. Expressway, Oklahoma City, Oklaho...             1       1   \n",
       "8039 Beach BoulevardBuena Park, California 9062...             1       0   \n",
       "Adlabs Imagica                                                 1       1   \n",
       "Adventure City                                                 1       1   \n",
       "...                                                          ...     ...   \n",
       "Xishuangbanna Theme Park                                       1       1   \n",
       "Yomiuriland                                                    4       4   \n",
       "ZDT's Amusement Park                                           1       1   \n",
       "Zoosafari Fasanolandia                                         1       1   \n",
       "Đại Nam Văn Hiến                                               1       1   \n",
       "\n",
       "                                                    Manufacturer  \\\n",
       "Location                                                           \n",
       "2904 Fantasy Way Myrtle Beach, South Carolina, ...             0   \n",
       "63rd and N.W. Expressway, Oklahoma City, Oklaho...             0   \n",
       "8039 Beach BoulevardBuena Park, California 9062...             0   \n",
       "Adlabs Imagica                                                 1   \n",
       "Adventure City                                                 1   \n",
       "...                                                          ...   \n",
       "Xishuangbanna Theme Park                                       1   \n",
       "Yomiuriland                                                    4   \n",
       "ZDT's Amusement Park                                           1   \n",
       "Zoosafari Fasanolandia                                         1   \n",
       "Đại Nam Văn Hiến                                               1   \n",
       "\n",
       "                                                    Year_Introduced  latitude  \\\n",
       "Location                                                                        \n",
       "2904 Fantasy Way Myrtle Beach, South Carolina, ...                2         2   \n",
       "63rd and N.W. Expressway, Oklahoma City, Oklaho...                1         0   \n",
       "8039 Beach BoulevardBuena Park, California 9062...                1         1   \n",
       "Adlabs Imagica                                                    1         1   \n",
       "Adventure City                                                    1         1   \n",
       "...                                                             ...       ...   \n",
       "Xishuangbanna Theme Park                                          1         1   \n",
       "Yomiuriland                                                       4         4   \n",
       "ZDT's Amusement Park                                              1         0   \n",
       "Zoosafari Fasanolandia                                            1         1   \n",
       "Đại Nam Văn Hiến                                                  1         1   \n",
       "\n",
       "                                                    longitude  Type_Main  \\\n",
       "Location                                                                   \n",
       "2904 Fantasy Way Myrtle Beach, South Carolina, ...          2          2   \n",
       "63rd and N.W. Expressway, Oklahoma City, Oklaho...          0          1   \n",
       "8039 Beach BoulevardBuena Park, California 9062...          1          1   \n",
       "Adlabs Imagica                                              1          1   \n",
       "Adventure City                                              1          1   \n",
       "...                                                       ...        ...   \n",
       "Xishuangbanna Theme Park                                    1          1   \n",
       "Yomiuriland                                                 4          4   \n",
       "ZDT's Amusement Park                                        0          1   \n",
       "Zoosafari Fasanolandia                                      1          1   \n",
       "Đại Nam Văn Hiến                                            1          1   \n",
       "\n",
       "                                                    Opening_Date  Speed_mph  \\\n",
       "Location                                                                      \n",
       "2904 Fantasy Way Myrtle Beach, South Carolina, ...             0          0   \n",
       "63rd and N.W. Expressway, Oklahoma City, Oklaho...             0          0   \n",
       "8039 Beach BoulevardBuena Park, California 9062...             0          0   \n",
       "Adlabs Imagica                                                 1          1   \n",
       "Adventure City                                                 1          1   \n",
       "...                                                          ...        ...   \n",
       "Xishuangbanna Theme Park                                       1          1   \n",
       "Yomiuriland                                                    4          4   \n",
       "ZDT's Amusement Park                                           1          1   \n",
       "Zoosafari Fasanolandia                                         1          1   \n",
       "Đại Nam Văn Hiến                                               1          1   \n",
       "\n",
       "                                                    Height_ft  Inversions  \\\n",
       "Location                                                                    \n",
       "2904 Fantasy Way Myrtle Beach, South Carolina, ...          0           2   \n",
       "63rd and N.W. Expressway, Oklahoma City, Oklaho...          0           1   \n",
       "8039 Beach BoulevardBuena Park, California 9062...          0           1   \n",
       "Adlabs Imagica                                              0           1   \n",
       "Adventure City                                              0           1   \n",
       "...                                                       ...         ...   \n",
       "Xishuangbanna Theme Park                                    0           1   \n",
       "Yomiuriland                                                 1           4   \n",
       "ZDT's Amusement Park                                        0           1   \n",
       "Zoosafari Fasanolandia                                      1           1   \n",
       "Đại Nam Văn Hiến                                            1           1   \n",
       "\n",
       "                                                    Gforce  \n",
       "Location                                                    \n",
       "2904 Fantasy Way Myrtle Beach, South Carolina, ...       0  \n",
       "63rd and N.W. Expressway, Oklahoma City, Oklaho...       0  \n",
       "8039 Beach BoulevardBuena Park, California 9062...       0  \n",
       "Adlabs Imagica                                           0  \n",
       "Adventure City                                           0  \n",
       "...                                                    ...  \n",
       "Xishuangbanna Theme Park                                 0  \n",
       "Yomiuriland                                              2  \n",
       "ZDT's Amusement Park                                     0  \n",
       "Zoosafari Fasanolandia                                   0  \n",
       "Đại Nam Văn Hiến                                         1  \n",
       "\n",
       "[279 rows x 12 columns]"
      ]
     },
     "execution_count": 101,
     "metadata": {},
     "output_type": "execute_result"
    }
   ],
   "source": [
    "df.query('Location != \"Other\"').groupby('Location').count()"
   ]
  },
  {
   "cell_type": "code",
   "execution_count": null,
   "metadata": {},
   "outputs": [],
   "source": []
  },
  {
   "cell_type": "code",
   "execution_count": null,
   "metadata": {},
   "outputs": [],
   "source": []
  }
 ],
 "metadata": {
  "kernelspec": {
   "display_name": "Python 3",
   "language": "python",
   "name": "python3"
  },
  "language_info": {
   "codemirror_mode": {
    "name": "ipython",
    "version": 3
   },
   "file_extension": ".py",
   "mimetype": "text/x-python",
   "name": "python",
   "nbconvert_exporter": "python",
   "pygments_lexer": "ipython3",
   "version": "3.7.3"
  }
 },
 "nbformat": 4,
 "nbformat_minor": 2
}
