{
 "cells": [
  {
   "cell_type": "code",
   "execution_count": 1,
   "metadata": {},
   "outputs": [],
   "source": [
    "import numpy as np\n",
    "import pandas as pd\n",
    "from pathlib import Path\n",
    "%matplotlib inline\n",
    "\n",
    "import seaborn as sns"
   ]
  },
  {
   "cell_type": "markdown",
   "metadata": {},
   "source": [
    "## Correlation"
   ]
  },
  {
   "cell_type": "code",
   "execution_count": 5,
   "metadata": {},
   "outputs": [
    {
     "data": {
      "text/html": [
       "<div>\n",
       "<style scoped>\n",
       "    .dataframe tbody tr th:only-of-type {\n",
       "        vertical-align: middle;\n",
       "    }\n",
       "\n",
       "    .dataframe tbody tr th {\n",
       "        vertical-align: top;\n",
       "    }\n",
       "\n",
       "    .dataframe thead th {\n",
       "        text-align: right;\n",
       "    }\n",
       "</style>\n",
       "<table border=\"1\" class=\"dataframe\">\n",
       "  <thead>\n",
       "    <tr style=\"text-align: right;\">\n",
       "      <th></th>\n",
       "      <th>Ice Cream Sales</th>\n",
       "    </tr>\n",
       "    <tr>\n",
       "      <th>Month</th>\n",
       "      <th></th>\n",
       "    </tr>\n",
       "  </thead>\n",
       "  <tbody>\n",
       "    <tr>\n",
       "      <th>January</th>\n",
       "      <td>175</td>\n",
       "    </tr>\n",
       "    <tr>\n",
       "      <th>February</th>\n",
       "      <td>150</td>\n",
       "    </tr>\n",
       "    <tr>\n",
       "      <th>March</th>\n",
       "      <td>200</td>\n",
       "    </tr>\n",
       "    <tr>\n",
       "      <th>April</th>\n",
       "      <td>190</td>\n",
       "    </tr>\n",
       "    <tr>\n",
       "      <th>May</th>\n",
       "      <td>250</td>\n",
       "    </tr>\n",
       "  </tbody>\n",
       "</table>\n",
       "</div>"
      ],
      "text/plain": [
       "          Ice Cream Sales\n",
       "Month                    \n",
       "January               175\n",
       "February              150\n",
       "March                 200\n",
       "April                 190\n",
       "May                   250"
      ]
     },
     "execution_count": 5,
     "metadata": {},
     "output_type": "execute_result"
    }
   ],
   "source": [
    "# Read the ice cream sales data, set the 'Month' as the index\n",
    "ice_cream_data = Path(\"../data/ice_cream.csv\")\n",
    "ice_cream = pd.read_csv(ice_cream_data, index_col='Month')\n",
    "ice_cream.head()"
   ]
  },
  {
   "cell_type": "code",
   "execution_count": 6,
   "metadata": {},
   "outputs": [
    {
     "data": {
      "text/html": [
       "<div>\n",
       "<style scoped>\n",
       "    .dataframe tbody tr th:only-of-type {\n",
       "        vertical-align: middle;\n",
       "    }\n",
       "\n",
       "    .dataframe tbody tr th {\n",
       "        vertical-align: top;\n",
       "    }\n",
       "\n",
       "    .dataframe thead th {\n",
       "        text-align: right;\n",
       "    }\n",
       "</style>\n",
       "<table border=\"1\" class=\"dataframe\">\n",
       "  <thead>\n",
       "    <tr style=\"text-align: right;\">\n",
       "      <th></th>\n",
       "      <th>Drowning Incidents</th>\n",
       "    </tr>\n",
       "    <tr>\n",
       "      <th>Month</th>\n",
       "      <th></th>\n",
       "    </tr>\n",
       "  </thead>\n",
       "  <tbody>\n",
       "    <tr>\n",
       "      <th>January</th>\n",
       "      <td>0</td>\n",
       "    </tr>\n",
       "    <tr>\n",
       "      <th>February</th>\n",
       "      <td>1</td>\n",
       "    </tr>\n",
       "    <tr>\n",
       "      <th>March</th>\n",
       "      <td>3</td>\n",
       "    </tr>\n",
       "    <tr>\n",
       "      <th>April</th>\n",
       "      <td>2</td>\n",
       "    </tr>\n",
       "    <tr>\n",
       "      <th>May</th>\n",
       "      <td>10</td>\n",
       "    </tr>\n",
       "  </tbody>\n",
       "</table>\n",
       "</div>"
      ],
      "text/plain": [
       "          Drowning Incidents\n",
       "Month                       \n",
       "January                    0\n",
       "February                   1\n",
       "March                      3\n",
       "April                      2\n",
       "May                       10"
      ]
     },
     "execution_count": 6,
     "metadata": {},
     "output_type": "execute_result"
    }
   ],
   "source": [
    "# Read the drowning incident data, set the 'Month' as the index\n",
    "drowning_data = Path(\"../data/drowning.csv\")\n",
    "drowning = pd.read_csv(drowning_data, index_col=\"Month\")\n",
    "drowning.head()"
   ]
  },
  {
   "cell_type": "code",
   "execution_count": 7,
   "metadata": {},
   "outputs": [
    {
     "data": {
      "text/html": [
       "<div>\n",
       "<style scoped>\n",
       "    .dataframe tbody tr th:only-of-type {\n",
       "        vertical-align: middle;\n",
       "    }\n",
       "\n",
       "    .dataframe tbody tr th {\n",
       "        vertical-align: top;\n",
       "    }\n",
       "\n",
       "    .dataframe thead th {\n",
       "        text-align: right;\n",
       "    }\n",
       "</style>\n",
       "<table border=\"1\" class=\"dataframe\">\n",
       "  <thead>\n",
       "    <tr style=\"text-align: right;\">\n",
       "      <th></th>\n",
       "      <th>Ice Cream Sales</th>\n",
       "      <th>Drowning Incidents</th>\n",
       "    </tr>\n",
       "    <tr>\n",
       "      <th>Month</th>\n",
       "      <th></th>\n",
       "      <th></th>\n",
       "    </tr>\n",
       "  </thead>\n",
       "  <tbody>\n",
       "    <tr>\n",
       "      <th>January</th>\n",
       "      <td>175</td>\n",
       "      <td>0</td>\n",
       "    </tr>\n",
       "    <tr>\n",
       "      <th>February</th>\n",
       "      <td>150</td>\n",
       "      <td>1</td>\n",
       "    </tr>\n",
       "    <tr>\n",
       "      <th>March</th>\n",
       "      <td>200</td>\n",
       "      <td>3</td>\n",
       "    </tr>\n",
       "    <tr>\n",
       "      <th>April</th>\n",
       "      <td>190</td>\n",
       "      <td>2</td>\n",
       "    </tr>\n",
       "    <tr>\n",
       "      <th>May</th>\n",
       "      <td>250</td>\n",
       "      <td>10</td>\n",
       "    </tr>\n",
       "    <tr>\n",
       "      <th>June</th>\n",
       "      <td>275</td>\n",
       "      <td>12</td>\n",
       "    </tr>\n",
       "    <tr>\n",
       "      <th>July</th>\n",
       "      <td>275</td>\n",
       "      <td>13</td>\n",
       "    </tr>\n",
       "    <tr>\n",
       "      <th>August</th>\n",
       "      <td>300</td>\n",
       "      <td>16</td>\n",
       "    </tr>\n",
       "    <tr>\n",
       "      <th>September</th>\n",
       "      <td>260</td>\n",
       "      <td>14</td>\n",
       "    </tr>\n",
       "    <tr>\n",
       "      <th>October</th>\n",
       "      <td>220</td>\n",
       "      <td>10</td>\n",
       "    </tr>\n",
       "    <tr>\n",
       "      <th>November</th>\n",
       "      <td>150</td>\n",
       "      <td>6</td>\n",
       "    </tr>\n",
       "    <tr>\n",
       "      <th>December</th>\n",
       "      <td>155</td>\n",
       "      <td>2</td>\n",
       "    </tr>\n",
       "  </tbody>\n",
       "</table>\n",
       "</div>"
      ],
      "text/plain": [
       "           Ice Cream Sales  Drowning Incidents\n",
       "Month                                         \n",
       "January                175                   0\n",
       "February               150                   1\n",
       "March                  200                   3\n",
       "April                  190                   2\n",
       "May                    250                  10\n",
       "June                   275                  12\n",
       "July                   275                  13\n",
       "August                 300                  16\n",
       "September              260                  14\n",
       "October                220                  10\n",
       "November               150                   6\n",
       "December               155                   2"
      ]
     },
     "execution_count": 7,
     "metadata": {},
     "output_type": "execute_result"
    }
   ],
   "source": [
    "# Combine the DataFrames: use the `concat` function to combine the two DataFrames by matching indexes\n",
    "combined_df = pd.concat([ice_cream, drowning], axis=\"columns\", join=\"inner\")\n",
    "combined_df"
   ]
  },
  {
   "cell_type": "code",
   "execution_count": 9,
   "metadata": {},
   "outputs": [
    {
     "data": {
      "text/plain": [
       "<AxesSubplot:xlabel='Month'>"
      ]
     },
     "execution_count": 9,
     "metadata": {},
     "output_type": "execute_result"
    },
    {
     "data": {
      "image/png": "[encoded data removed]",
      "text/plain": [
       "<Figure size 432x288 with 1 Axes>"
      ]
     },
     "metadata": {
      "needs_background": "light"
     },
     "output_type": "display_data"
    }
   ],
   "source": [
    "# Plot the data trends of the two variables over time\n",
    "combined_df.plot()\n",
    "\n",
    "# line graph is not a perfect way to visualize correlation. Line chart is for showing the trending."
   ]
  },
  {
   "cell_type": "code",
   "execution_count": 10,
   "metadata": {},
   "outputs": [
    {
     "data": {
      "text/plain": [
       "<AxesSubplot:xlabel='Ice Cream Sales', ylabel='Drowning Incidents'>"
      ]
     },
     "execution_count": 10,
     "metadata": {},
     "output_type": "execute_result"
    },
    {
     "data": {
      "image/png": "[encoded data removed]",
      "text/plain": [
       "<Figure size 432x288 with 1 Axes>"
      ]
     },
     "metadata": {
      "needs_background": "light"
     },
     "output_type": "display_data"
    }
   ],
   "source": [
    "# Plot the relationship between the two variables\n",
    "combined_df.plot(kind='scatter', x='Ice Cream Sales', y='Drowning Incidents')"
   ]
  },
  {
   "cell_type": "code",
   "execution_count": 11,
   "metadata": {},
   "outputs": [
    {
     "data": {
      "text/plain": [
       "<AxesSubplot:xlabel='Ice Cream Sales', ylabel='Drowning Incidents'>"
      ]
     },
     "execution_count": 11,
     "metadata": {},
     "output_type": "execute_result"
    },
    {
     "data": {
      "image/png": "[encoded data removed]",
      "text/plain": [
       "<Figure size 432x288 with 1 Axes>"
      ]
     },
     "metadata": {
      "needs_background": "light"
     },
     "output_type": "display_data"
    }
   ],
   "source": [
    "combined_df.plot.scatter(x='Ice Cream Sales', y='Drowning Incidents')"
   ]
  },
  {
   "cell_type": "code",
   "execution_count": 12,
   "metadata": {},
   "outputs": [
    {
     "data": {
      "text/html": [
       "<div>\n",
       "<style scoped>\n",
       "    .dataframe tbody tr th:only-of-type {\n",
       "        vertical-align: middle;\n",
       "    }\n",
       "\n",
       "    .dataframe tbody tr th {\n",
       "        vertical-align: top;\n",
       "    }\n",
       "\n",
       "    .dataframe thead th {\n",
       "        text-align: right;\n",
       "    }\n",
       "</style>\n",
       "<table border=\"1\" class=\"dataframe\">\n",
       "  <thead>\n",
       "    <tr style=\"text-align: right;\">\n",
       "      <th></th>\n",
       "      <th>Ice Cream Sales</th>\n",
       "      <th>Drowning Incidents</th>\n",
       "    </tr>\n",
       "  </thead>\n",
       "  <tbody>\n",
       "    <tr>\n",
       "      <th>Ice Cream Sales</th>\n",
       "      <td>1.000000</td>\n",
       "      <td>0.904012</td>\n",
       "    </tr>\n",
       "    <tr>\n",
       "      <th>Drowning Incidents</th>\n",
       "      <td>0.904012</td>\n",
       "      <td>1.000000</td>\n",
       "    </tr>\n",
       "  </tbody>\n",
       "</table>\n",
       "</div>"
      ],
      "text/plain": [
       "                    Ice Cream Sales  Drowning Incidents\n",
       "Ice Cream Sales            1.000000            0.904012\n",
       "Drowning Incidents         0.904012            1.000000"
      ]
     },
     "execution_count": 12,
     "metadata": {},
     "output_type": "execute_result"
    }
   ],
   "source": [
    "# Calculate Correlation: calculate the correlation between each column\n",
    "correlation = combined_df.corr()\n",
    "correlation"
   ]
  },
  {
   "cell_type": "code",
   "execution_count": 13,
   "metadata": {},
   "outputs": [],
   "source": [
    "# Plot correlations: use the `heatmap` function from the Seaborn library to visualize correlations\n",
    "\n",
    "import seaborn as sns"
   ]
  },
  {
   "cell_type": "code",
   "execution_count": 14,
   "metadata": {},
   "outputs": [
    {
     "data": {
      "text/plain": [
       "<AxesSubplot:>"
      ]
     },
     "execution_count": 14,
     "metadata": {},
     "output_type": "execute_result"
    },
    {
     "data": {
      "image/png": "[encoded data removed]",
      "text/plain": [
       "<Figure size 432x288 with 2 Axes>"
      ]
     },
     "metadata": {
      "needs_background": "light"
     },
     "output_type": "display_data"
    }
   ],
   "source": [
    "sns.heatmap(correlation, vmin=-1, vmax=1, annot=True)"
   ]
  },
  {
   "cell_type": "code",
   "execution_count": 15,
   "metadata": {},
   "outputs": [
    {
     "data": {
      "text/plain": [
       "<AxesSubplot:>"
      ]
     },
     "execution_count": 15,
     "metadata": {},
     "output_type": "execute_result"
    },
    {
     "data": {
      "image/png": "[encoded data removed]",
      "text/plain": [
       "<Figure size 432x288 with 2 Axes>"
      ]
     },
     "metadata": {
      "needs_background": "light"
     },
     "output_type": "display_data"
    }
   ],
   "source": [
    "sns.heatmap(correlation, vmin=-1, vmax=1, annot=False)"
   ]
  },
  {
   "cell_type": "markdown",
   "metadata": {},
   "source": [
    "## Rolling Statistics"
   ]
  },
  {
   "cell_type": "code",
   "execution_count": 17,
   "metadata": {},
   "outputs": [
    {
     "data": {
      "text/html": [
       "<div>\n",
       "<style scoped>\n",
       "    .dataframe tbody tr th:only-of-type {\n",
       "        vertical-align: middle;\n",
       "    }\n",
       "\n",
       "    .dataframe tbody tr th {\n",
       "        vertical-align: top;\n",
       "    }\n",
       "\n",
       "    .dataframe thead th {\n",
       "        text-align: right;\n",
       "    }\n",
       "</style>\n",
       "<table border=\"1\" class=\"dataframe\">\n",
       "  <thead>\n",
       "    <tr style=\"text-align: right;\">\n",
       "      <th></th>\n",
       "      <th>Close</th>\n",
       "    </tr>\n",
       "    <tr>\n",
       "      <th>Date</th>\n",
       "      <th></th>\n",
       "    </tr>\n",
       "  </thead>\n",
       "  <tbody>\n",
       "    <tr>\n",
       "      <th>2018-03-01</th>\n",
       "      <td>43.750000</td>\n",
       "    </tr>\n",
       "    <tr>\n",
       "      <th>2018-03-02</th>\n",
       "      <td>44.052502</td>\n",
       "    </tr>\n",
       "    <tr>\n",
       "      <th>2018-03-05</th>\n",
       "      <td>44.205002</td>\n",
       "    </tr>\n",
       "    <tr>\n",
       "      <th>2018-03-06</th>\n",
       "      <td>44.167500</td>\n",
       "    </tr>\n",
       "    <tr>\n",
       "      <th>2018-03-07</th>\n",
       "      <td>43.757500</td>\n",
       "    </tr>\n",
       "  </tbody>\n",
       "</table>\n",
       "</div>"
      ],
      "text/plain": [
       "                Close\n",
       "Date                 \n",
       "2018-03-01  43.750000\n",
       "2018-03-02  44.052502\n",
       "2018-03-05  44.205002\n",
       "2018-03-06  44.167500\n",
       "2018-03-07  43.757500"
      ]
     },
     "execution_count": 17,
     "metadata": {},
     "output_type": "execute_result"
    }
   ],
   "source": [
    "aapl_df = pd.read_csv(\"../data/AAPL.csv\", index_col=\"Date\", parse_dates=True, infer_datetime_format=True)\n",
    "aapl_df.drop(columns=['Open', 'High', 'Low', 'Adj Close', 'Volume'], inplace=True)\n",
    "aapl_df.head()"
   ]
  },
  {
   "cell_type": "code",
   "execution_count": 19,
   "metadata": {},
   "outputs": [
    {
     "data": {
      "text/plain": [
       "<AxesSubplot:xlabel='Date'>"
      ]
     },
     "execution_count": 19,
     "metadata": {},
     "output_type": "execute_result"
    },
    {
     "data": {
      "image/png": "[encoded data removed]",
      "text/plain": [
       "<Figure size 432x288 with 1 Axes>"
      ]
     },
     "metadata": {
      "needs_background": "light"
     },
     "output_type": "display_data"
    }
   ],
   "source": [
    "# Plot daily cloing prices of AAPL\n",
    "aapl_df.plot()"
   ]
  },
  {
   "cell_type": "code",
   "execution_count": 20,
   "metadata": {},
   "outputs": [
    {
     "data": {
      "text/plain": [
       "<AxesSubplot:xlabel='Date'>"
      ]
     },
     "execution_count": 20,
     "metadata": {},
     "output_type": "execute_result"
    },
    {
     "data": {
      "image/png": "[encoded data removed]",
      "text/plain": [
       "<Figure size 432x288 with 1 Axes>"
      ]
     },
     "metadata": {
      "needs_background": "light"
     },
     "output_type": "display_data"
    }
   ],
   "source": [
    "# Plot a rolling 7-day mean of AAPL's closing prices\n",
    "aapl_df.rolling(window=7).mean().plot()"
   ]
  },
  {
   "cell_type": "code",
   "execution_count": 21,
   "metadata": {},
   "outputs": [
    {
     "data": {
      "text/plain": [
       "<AxesSubplot:xlabel='Date'>"
      ]
     },
     "execution_count": 21,
     "metadata": {},
     "output_type": "execute_result"
    },
    {
     "data": {
      "image/png": "[encoded data removed]",
      "text/plain": [
       "<Figure size 432x288 with 1 Axes>"
      ]
     },
     "metadata": {
      "needs_background": "light"
     },
     "output_type": "display_data"
    }
   ],
   "source": [
    "# Plot a rolling 7-day std dev of AAPL's closing prices\n",
    "aapl_df.rolling(window=7).std().plot()"
   ]
  },
  {
   "cell_type": "code",
   "execution_count": 22,
   "metadata": {},
   "outputs": [
    {
     "data": {
      "image/png": "[encoded data removed]",
      "text/plain": [
       "<Figure size 432x288 with 1 Axes>"
      ]
     },
     "metadata": {
      "needs_background": "light"
     },
     "output_type": "display_data"
    }
   ],
   "source": [
    "# Overlay Daily Closing Price and 180-Day Rolling Mean of AAPL\n",
    "# Set figure of the daily closing prices of AAPL\n",
    "ax = aapl_df.plot()     # this is my plot axis\n",
    "\n",
    "# Plot 180-Day Rolling Mean on the same figure\n",
    "aapl_df.rolling(window=180).mean().plot(ax=ax)     # want to add this to my plot\n",
    "\n",
    "# Set the legend of the figure\n",
    "ax.legend([\"AAPL\", \"AAPL 180 Day Mean\"]);"
   ]
  },
  {
   "cell_type": "code",
   "execution_count": 23,
   "metadata": {},
   "outputs": [
    {
     "data": {
      "text/plain": [
       "<matplotlib.legend.Legend at 0x7fd52e02b5f8>"
      ]
     },
     "execution_count": 23,
     "metadata": {},
     "output_type": "execute_result"
    },
    {
     "data": {
      "image/png": "[encoded data removed]",
      "text/plain": [
       "<Figure size 1800x720 with 1 Axes>"
      ]
     },
     "metadata": {
      "needs_background": "light"
     },
     "output_type": "display_data"
    }
   ],
   "source": [
    "aapl_sma_20 = aapl_df.rolling(window=20).mean()\n",
    "aapl_sma_50 = aapl_df.rolling(window=50).mean()\n",
    "aapl_sma_100 = aapl_df.rolling(window=100).mean()\n",
    "\n",
    "# Set figure of the daily closing prices of AAPL\n",
    "ax = aapl_df.plot(figsize=(25, 10))\n",
    "\n",
    "# Overlay SMA20, SMA50, and SMA100 on the same figure\n",
    "aapl_sma_20.plot(ax=ax)\n",
    "aapl_sma_50.plot(ax=ax)\n",
    "aapl_sma_100.plot(ax=ax)\n",
    "\n",
    "# Set the legend of the figure\n",
    "ax.legend([\"Original\", \"SMA20\", \"SMA50\", \"SMA100\"])"
   ]
  },
  {
   "cell_type": "code",
   "execution_count": 26,
   "metadata": {},
   "outputs": [
    {
     "data": {
      "image/png": "[encoded data removed]",
      "text/plain": [
       "<Figure size 1800x720 with 1 Axes>"
      ]
     },
     "metadata": {
      "needs_background": "light"
     },
     "output_type": "display_data"
    }
   ],
   "source": [
    "# Set figure of the daily closing prices of AAPL\n",
    "ax = aapl_df.plot(figsize=(25,10))\n",
    "\n",
    "# Overlay STD20, STD50, STD100 on the same figure\n",
    "aapl_df.rolling(window=20).std().plot(ax=ax)\n",
    "aapl_df.rolling(window=50).std().plot(ax=ax)\n",
    "aapl_df.rolling(window=100).std().plot(ax=ax)\n",
    "\n",
    "# Set the legend of the figure\n",
    "ax.legend(['Original', 'STD20', 'STD50', 'STD100']);"
   ]
  },
  {
   "cell_type": "markdown",
   "metadata": {},
   "source": [
    "## Beta"
   ]
  },
  {
   "cell_type": "code",
   "execution_count": 27,
   "metadata": {},
   "outputs": [],
   "source": [
    "# Read the daily closing prices of S&P 500, set the `date` as a datetime index\n",
    "sp500_data = Path(\"../data/SPY.csv\")\n",
    "sp500_df = pd.read_csv(sp500_data, index_col='Date', parse_dates=True, infer_datetime_format=True)\n",
    "sp500_df.drop(columns=['Open', 'High', 'Low', 'Adj Close', 'Volume'], inplace=True)"
   ]
  },
  {
   "cell_type": "code",
   "execution_count": 28,
   "metadata": {},
   "outputs": [
    {
     "data": {
      "text/html": [
       "<div>\n",
       "<style scoped>\n",
       "    .dataframe tbody tr th:only-of-type {\n",
       "        vertical-align: middle;\n",
       "    }\n",
       "\n",
       "    .dataframe tbody tr th {\n",
       "        vertical-align: top;\n",
       "    }\n",
       "\n",
       "    .dataframe thead th {\n",
       "        text-align: right;\n",
       "    }\n",
       "</style>\n",
       "<table border=\"1\" class=\"dataframe\">\n",
       "  <thead>\n",
       "    <tr style=\"text-align: right;\">\n",
       "      <th></th>\n",
       "      <th>AAPL</th>\n",
       "      <th>S&amp;P 500</th>\n",
       "    </tr>\n",
       "    <tr>\n",
       "      <th>Date</th>\n",
       "      <th></th>\n",
       "      <th></th>\n",
       "    </tr>\n",
       "  </thead>\n",
       "  <tbody>\n",
       "    <tr>\n",
       "      <th>2018-03-01</th>\n",
       "      <td>43.750000</td>\n",
       "      <td>272.880005</td>\n",
       "    </tr>\n",
       "    <tr>\n",
       "      <th>2018-03-02</th>\n",
       "      <td>44.052502</td>\n",
       "      <td>272.779999</td>\n",
       "    </tr>\n",
       "    <tr>\n",
       "      <th>2018-03-05</th>\n",
       "      <td>44.205002</td>\n",
       "      <td>274.100006</td>\n",
       "    </tr>\n",
       "    <tr>\n",
       "      <th>2018-03-06</th>\n",
       "      <td>44.167500</td>\n",
       "      <td>278.869995</td>\n",
       "    </tr>\n",
       "    <tr>\n",
       "      <th>2018-03-07</th>\n",
       "      <td>43.757500</td>\n",
       "      <td>278.519989</td>\n",
       "    </tr>\n",
       "  </tbody>\n",
       "</table>\n",
       "</div>"
      ],
      "text/plain": [
       "                 AAPL     S&P 500\n",
       "Date                             \n",
       "2018-03-01  43.750000  272.880005\n",
       "2018-03-02  44.052502  272.779999\n",
       "2018-03-05  44.205002  274.100006\n",
       "2018-03-06  44.167500  278.869995\n",
       "2018-03-07  43.757500  278.519989"
      ]
     },
     "execution_count": 28,
     "metadata": {},
     "output_type": "execute_result"
    }
   ],
   "source": [
    "# Combine DataFrame, Sort Index, and Rename Columns\n",
    "\n",
    "# Create a new pivot table where the columns are the closing prices for each ticker\n",
    "combined_df = pd.concat([aapl_df, sp500_df], axis='columns', join='inner')\n",
    "\n",
    "# Sort datetime index in ascending order (past to present)\n",
    "combined_df.sort_index(inplace=True)\n",
    "\n",
    "# Set column names to 'AAPL' and 'S&P 500'\n",
    "combined_df.columns = ['AAPL', 'S&P 500']\n",
    "\n",
    "# Display a few rows\n",
    "combined_df.head()"
   ]
  },
  {
   "cell_type": "code",
   "execution_count": 29,
   "metadata": {},
   "outputs": [
    {
     "data": {
      "text/html": [
       "<div>\n",
       "<style scoped>\n",
       "    .dataframe tbody tr th:only-of-type {\n",
       "        vertical-align: middle;\n",
       "    }\n",
       "\n",
       "    .dataframe tbody tr th {\n",
       "        vertical-align: top;\n",
       "    }\n",
       "\n",
       "    .dataframe thead th {\n",
       "        text-align: right;\n",
       "    }\n",
       "</style>\n",
       "<table border=\"1\" class=\"dataframe\">\n",
       "  <thead>\n",
       "    <tr style=\"text-align: right;\">\n",
       "      <th></th>\n",
       "      <th>AAPL</th>\n",
       "      <th>S&amp;P 500</th>\n",
       "    </tr>\n",
       "    <tr>\n",
       "      <th>Date</th>\n",
       "      <th></th>\n",
       "      <th></th>\n",
       "    </tr>\n",
       "  </thead>\n",
       "  <tbody>\n",
       "    <tr>\n",
       "      <th>2018-03-01</th>\n",
       "      <td>NaN</td>\n",
       "      <td>NaN</td>\n",
       "    </tr>\n",
       "    <tr>\n",
       "      <th>2018-03-02</th>\n",
       "      <td>0.006914</td>\n",
       "      <td>-0.000366</td>\n",
       "    </tr>\n",
       "    <tr>\n",
       "      <th>2018-03-05</th>\n",
       "      <td>0.003462</td>\n",
       "      <td>0.004839</td>\n",
       "    </tr>\n",
       "    <tr>\n",
       "      <th>2018-03-06</th>\n",
       "      <td>-0.000848</td>\n",
       "      <td>0.017402</td>\n",
       "    </tr>\n",
       "    <tr>\n",
       "      <th>2018-03-07</th>\n",
       "      <td>-0.009283</td>\n",
       "      <td>-0.001255</td>\n",
       "    </tr>\n",
       "  </tbody>\n",
       "</table>\n",
       "</div>"
      ],
      "text/plain": [
       "                AAPL   S&P 500\n",
       "Date                          \n",
       "2018-03-01       NaN       NaN\n",
       "2018-03-02  0.006914 -0.000366\n",
       "2018-03-05  0.003462  0.004839\n",
       "2018-03-06 -0.000848  0.017402\n",
       "2018-03-07 -0.009283 -0.001255"
      ]
     },
     "execution_count": 29,
     "metadata": {},
     "output_type": "execute_result"
    }
   ],
   "source": [
    "# Calculate Daily Return: use the 'pct_change' function to calculate daily returns of closing prices for each column\n",
    "daily_returns = combined_df.pct_change()\n",
    "daily_returns.head()"
   ]
  },
  {
   "cell_type": "code",
   "execution_count": 30,
   "metadata": {},
   "outputs": [
    {
     "data": {
      "text/plain": [
       "-1.3507203040846287e-05"
      ]
     },
     "execution_count": 30,
     "metadata": {},
     "output_type": "execute_result"
    }
   ],
   "source": [
    "# Calculate covariance of all daily returns of AAPL vs. S&P 500\n",
    "covariance = daily_returns['AAPL'].cov(daily_returns['S&P 500'])\n",
    "covariance"
   ]
  },
  {
   "cell_type": "code",
   "execution_count": 32,
   "metadata": {},
   "outputs": [
    {
     "data": {
      "text/plain": [
       "-0.0"
      ]
     },
     "execution_count": 32,
     "metadata": {},
     "output_type": "execute_result"
    }
   ],
   "source": [
    "# Calculate variance of all daily returns of AAPL vs. S&P 500\n",
    "variance = daily_returns['AAPL'].var()\n",
    "variance\n",
    "\n",
    "daily_returns['AAPL'].std()\n",
    "daily_returns['AAPL'].mean()\n",
    "daily_returns['AAPL'].mode()\n",
    "daily_returns['AAPL'].max()\n",
    "daily_returns['AAPL'].min()\n",
    "daily_returns['AAPL'].median()\n",
    "daily_returns['AAPL'].count()\n",
    "daily_returns['AAPL'].sum()\n",
    "daily_returns['AAPL'].product()"
   ]
  },
  {
   "cell_type": "code",
   "execution_count": 37,
   "metadata": {},
   "outputs": [
    {
     "data": {
      "text/plain": [
       "0    0.0\n",
       "dtype: float64"
      ]
     },
     "execution_count": 37,
     "metadata": {},
     "output_type": "execute_result"
    }
   ],
   "source": [
    "# 自己加\n",
    "daily_returns['AAPL'].mode()"
   ]
  },
  {
   "cell_type": "code",
   "execution_count": 38,
   "metadata": {},
   "outputs": [
    {
     "data": {
      "text/plain": [
       "-0.030385717803841413"
      ]
     },
     "execution_count": 38,
     "metadata": {},
     "output_type": "execute_result"
    }
   ],
   "source": [
    "# Calculate beta of all daily returns of AAPL\n",
    "aapl_beta = covariance / variance\n",
    "aapl_beta"
   ]
  },
  {
   "cell_type": "code",
   "execution_count": 39,
   "metadata": {},
   "outputs": [
    {
     "data": {
      "text/plain": [
       "<AxesSubplot:title={'center':'Rolling 30-Day Covariance of AAPL Returns vs. S&P 500 Returns'}, xlabel='Date'>"
      ]
     },
     "execution_count": 39,
     "metadata": {},
     "output_type": "execute_result"
    },
    {
     "data": {
      "image/png": "[encoded data removed]",
      "text/plain": [
       "<Figure size 1440x720 with 1 Axes>"
      ]
     },
     "metadata": {
      "needs_background": "light"
     },
     "output_type": "display_data"
    }
   ],
   "source": [
    "# Calculate 30-Day Rolling Covariance of AAPL Returns vs. S&P 500 Returns\n",
    "rolling_covariance = daily_returns['AAPL'].rolling(window=90).cov(daily_returns['S&P 500'])\n",
    "rolling_covariance.plot(figsize=(20, 10), title='Rolling 30-Day Covariance of AAPL Returns vs. S&P 500 Returns')"
   ]
  },
  {
   "cell_type": "code",
   "execution_count": 40,
   "metadata": {},
   "outputs": [
    {
     "data": {
      "text/plain": [
       "<AxesSubplot:title={'center':'Rolling 30-Day Variance of S&P 500 Returns'}, xlabel='Date'>"
      ]
     },
     "execution_count": 40,
     "metadata": {},
     "output_type": "execute_result"
    },
    {
     "data": {
      "image/png": "[encoded data removed]",
      "text/plain": [
       "<Figure size 1440x720 with 1 Axes>"
      ]
     },
     "metadata": {
      "needs_background": "light"
     },
     "output_type": "display_data"
    }
   ],
   "source": [
    "# Calculate 30-Day Rolling Variance of S&P 500 Returns\n",
    "rolling_variance = daily_returns['S&P 500'].rolling(window=90).var()\n",
    "rolling_variance.plot(figsize=(20, 10), title='Rolling 30-Day Variance of S&P 500 Returns')"
   ]
  },
  {
   "cell_type": "code",
   "execution_count": 41,
   "metadata": {},
   "outputs": [
    {
     "data": {
      "text/plain": [
       "<AxesSubplot:title={'center':'Rolling 30-Day Beta'}, xlabel='Date'>"
      ]
     },
     "execution_count": 41,
     "metadata": {},
     "output_type": "execute_result"
    },
    {
     "data": {
      "image/png": "[encoded data removed]",
      "text/plain": [
       "<Figure size 1440x720 with 1 Axes>"
      ]
     },
     "metadata": {
      "needs_background": "light"
     },
     "output_type": "display_data"
    }
   ],
   "source": [
    "# Calculate 30-day Rolling Beta of AAPL\n",
    "rolling_beta = rolling_covariance / rolling_variance\n",
    "rolling_beta.plot(figsize=(20, 10), title=\"Rolling 30-Day Beta\")"
   ]
  },
  {
   "cell_type": "code",
   "execution_count": 42,
   "metadata": {},
   "outputs": [
    {
     "data": {
      "text/plain": [
       "<seaborn.axisgrid.FacetGrid at 0x7fd52eeacdd8>"
      ]
     },
     "execution_count": 42,
     "metadata": {},
     "output_type": "execute_result"
    },
    {
     "data": {
      "image/png": "[encoded data removed]",
      "text/plain": [
       "<Figure size 540x360 with 1 Axes>"
      ]
     },
     "metadata": {
      "needs_background": "light"
     },
     "output_type": "display_data"
    }
   ],
   "source": [
    "# Showcase beta vs. correlation by plotting a scatterplot using the Seaborn library and fitting a regression line\n",
    "sns.lmplot(x='S&P 500', y='AAPL', data=daily_returns, aspect=1.5, fit_reg=True)"
   ]
  },
  {
   "cell_type": "markdown",
   "metadata": {},
   "source": [
    "## Protfolio Return"
   ]
  },
  {
   "cell_type": "code",
   "execution_count": 45,
   "metadata": {},
   "outputs": [
    {
     "data": {
      "text/html": [
       "<div>\n",
       "<style scoped>\n",
       "    .dataframe tbody tr th:only-of-type {\n",
       "        vertical-align: middle;\n",
       "    }\n",
       "\n",
       "    .dataframe tbody tr th {\n",
       "        vertical-align: top;\n",
       "    }\n",
       "\n",
       "    .dataframe thead th {\n",
       "        text-align: right;\n",
       "    }\n",
       "</style>\n",
       "<table border=\"1\" class=\"dataframe\">\n",
       "  <thead>\n",
       "    <tr style=\"text-align: right;\">\n",
       "      <th></th>\n",
       "      <th>Close</th>\n",
       "      <th>Symbol</th>\n",
       "    </tr>\n",
       "    <tr>\n",
       "      <th>Date</th>\n",
       "      <th></th>\n",
       "      <th></th>\n",
       "    </tr>\n",
       "  </thead>\n",
       "  <tbody>\n",
       "    <tr>\n",
       "      <th>2018-03-01</th>\n",
       "      <td>43.750000</td>\n",
       "      <td>AAPL</td>\n",
       "    </tr>\n",
       "    <tr>\n",
       "      <th>2018-03-02</th>\n",
       "      <td>44.052502</td>\n",
       "      <td>AAPL</td>\n",
       "    </tr>\n",
       "    <tr>\n",
       "      <th>2018-03-05</th>\n",
       "      <td>44.205002</td>\n",
       "      <td>AAPL</td>\n",
       "    </tr>\n",
       "    <tr>\n",
       "      <th>2018-03-06</th>\n",
       "      <td>44.167500</td>\n",
       "      <td>AAPL</td>\n",
       "    </tr>\n",
       "    <tr>\n",
       "      <th>2018-03-07</th>\n",
       "      <td>43.757500</td>\n",
       "      <td>AAPL</td>\n",
       "    </tr>\n",
       "  </tbody>\n",
       "</table>\n",
       "</div>"
      ],
      "text/plain": [
       "                Close Symbol\n",
       "Date                        \n",
       "2018-03-01  43.750000   AAPL\n",
       "2018-03-02  44.052502   AAPL\n",
       "2018-03-05  44.205002   AAPL\n",
       "2018-03-06  44.167500   AAPL\n",
       "2018-03-07  43.757500   AAPL"
      ]
     },
     "execution_count": 45,
     "metadata": {},
     "output_type": "execute_result"
    }
   ],
   "source": [
    "aapl_df = pd.read_csv('../data/AAPL.csv', index_col='Date', parse_dates=True, infer_datetime_format=False)\n",
    "aapl_df.drop(columns=['Open', 'Adj Close', 'High', 'Low', 'Volume'], inplace=True)\n",
    "aapl_df['Symbol'] = 'AAPL'\n",
    "aapl_df.head()"
   ]
  },
  {
   "cell_type": "code",
   "execution_count": 46,
   "metadata": {},
   "outputs": [
    {
     "data": {
      "text/html": [
       "<div>\n",
       "<style scoped>\n",
       "    .dataframe tbody tr th:only-of-type {\n",
       "        vertical-align: middle;\n",
       "    }\n",
       "\n",
       "    .dataframe tbody tr th {\n",
       "        vertical-align: top;\n",
       "    }\n",
       "\n",
       "    .dataframe thead th {\n",
       "        text-align: right;\n",
       "    }\n",
       "</style>\n",
       "<table border=\"1\" class=\"dataframe\">\n",
       "  <thead>\n",
       "    <tr style=\"text-align: right;\">\n",
       "      <th></th>\n",
       "      <th>Close</th>\n",
       "      <th>Symbol</th>\n",
       "    </tr>\n",
       "    <tr>\n",
       "      <th>Date</th>\n",
       "      <th></th>\n",
       "      <th></th>\n",
       "    </tr>\n",
       "  </thead>\n",
       "  <tbody>\n",
       "    <tr>\n",
       "      <th>2018-03-01</th>\n",
       "      <td>272.880005</td>\n",
       "      <td>SPY</td>\n",
       "    </tr>\n",
       "    <tr>\n",
       "      <th>2018-03-02</th>\n",
       "      <td>272.779999</td>\n",
       "      <td>SPY</td>\n",
       "    </tr>\n",
       "    <tr>\n",
       "      <th>2018-03-05</th>\n",
       "      <td>274.100006</td>\n",
       "      <td>SPY</td>\n",
       "    </tr>\n",
       "    <tr>\n",
       "      <th>2018-03-06</th>\n",
       "      <td>278.869995</td>\n",
       "      <td>SPY</td>\n",
       "    </tr>\n",
       "    <tr>\n",
       "      <th>2018-03-07</th>\n",
       "      <td>278.519989</td>\n",
       "      <td>SPY</td>\n",
       "    </tr>\n",
       "  </tbody>\n",
       "</table>\n",
       "</div>"
      ],
      "text/plain": [
       "                 Close Symbol\n",
       "Date                         \n",
       "2018-03-01  272.880005    SPY\n",
       "2018-03-02  272.779999    SPY\n",
       "2018-03-05  274.100006    SPY\n",
       "2018-03-06  278.869995    SPY\n",
       "2018-03-07  278.519989    SPY"
      ]
     },
     "execution_count": 46,
     "metadata": {},
     "output_type": "execute_result"
    }
   ],
   "source": [
    "spy_df = pd.read_csv('../data/SPY.csv', index_col='Date', parse_dates=True, infer_datetime_format=False)\n",
    "spy_df.drop(columns=['Open', 'Adj Close', 'High', 'Low', 'Volume'], inplace=True)\n",
    "spy_df['Symbol'] = 'SPY'\n",
    "spy_df.head()"
   ]
  },
  {
   "cell_type": "code",
   "execution_count": 47,
   "metadata": {},
   "outputs": [
    {
     "data": {
      "text/html": [
       "<div>\n",
       "<style scoped>\n",
       "    .dataframe tbody tr th:only-of-type {\n",
       "        vertical-align: middle;\n",
       "    }\n",
       "\n",
       "    .dataframe tbody tr th {\n",
       "        vertical-align: top;\n",
       "    }\n",
       "\n",
       "    .dataframe thead th {\n",
       "        text-align: right;\n",
       "    }\n",
       "</style>\n",
       "<table border=\"1\" class=\"dataframe\">\n",
       "  <thead>\n",
       "    <tr style=\"text-align: right;\">\n",
       "      <th>Symbol</th>\n",
       "      <th>AAPL</th>\n",
       "      <th>SPY</th>\n",
       "    </tr>\n",
       "    <tr>\n",
       "      <th>Date</th>\n",
       "      <th></th>\n",
       "      <th></th>\n",
       "    </tr>\n",
       "  </thead>\n",
       "  <tbody>\n",
       "    <tr>\n",
       "      <th>2018-03-01</th>\n",
       "      <td>43.750000</td>\n",
       "      <td>272.880005</td>\n",
       "    </tr>\n",
       "    <tr>\n",
       "      <th>2018-03-02</th>\n",
       "      <td>44.052502</td>\n",
       "      <td>272.779999</td>\n",
       "    </tr>\n",
       "    <tr>\n",
       "      <th>2018-03-05</th>\n",
       "      <td>44.205002</td>\n",
       "      <td>274.100006</td>\n",
       "    </tr>\n",
       "    <tr>\n",
       "      <th>2018-03-06</th>\n",
       "      <td>44.167500</td>\n",
       "      <td>278.869995</td>\n",
       "    </tr>\n",
       "    <tr>\n",
       "      <th>2018-03-07</th>\n",
       "      <td>43.757500</td>\n",
       "      <td>278.519989</td>\n",
       "    </tr>\n",
       "    <tr>\n",
       "      <th>...</th>\n",
       "      <td>...</td>\n",
       "      <td>...</td>\n",
       "    </tr>\n",
       "    <tr>\n",
       "      <th>2023-02-22</th>\n",
       "      <td>148.910004</td>\n",
       "      <td>397.730011</td>\n",
       "    </tr>\n",
       "    <tr>\n",
       "      <th>2023-02-23</th>\n",
       "      <td>149.399994</td>\n",
       "      <td>396.260010</td>\n",
       "    </tr>\n",
       "    <tr>\n",
       "      <th>2023-02-24</th>\n",
       "      <td>146.710007</td>\n",
       "      <td>394.739990</td>\n",
       "    </tr>\n",
       "    <tr>\n",
       "      <th>2023-02-27</th>\n",
       "      <td>147.919998</td>\n",
       "      <td>397.809998</td>\n",
       "    </tr>\n",
       "    <tr>\n",
       "      <th>2023-02-28</th>\n",
       "      <td>147.410004</td>\n",
       "      <td>404.190002</td>\n",
       "    </tr>\n",
       "  </tbody>\n",
       "</table>\n",
       "<p>1258 rows × 2 columns</p>\n",
       "</div>"
      ],
      "text/plain": [
       "Symbol            AAPL         SPY\n",
       "Date                              \n",
       "2018-03-01   43.750000  272.880005\n",
       "2018-03-02   44.052502  272.779999\n",
       "2018-03-05   44.205002  274.100006\n",
       "2018-03-06   44.167500  278.869995\n",
       "2018-03-07   43.757500  278.519989\n",
       "...                ...         ...\n",
       "2023-02-22  148.910004  397.730011\n",
       "2023-02-23  149.399994  396.260010\n",
       "2023-02-24  146.710007  394.739990\n",
       "2023-02-27  147.919998  397.809998\n",
       "2023-02-28  147.410004  404.190002\n",
       "\n",
       "[1258 rows x 2 columns]"
      ]
     },
     "execution_count": 47,
     "metadata": {},
     "output_type": "execute_result"
    }
   ],
   "source": [
    "# Create a new pivot table where the columns are the closing prices for each ticker\n",
    "all_prices = pd.concat([aapl_df, spy_df], axis='rows', join='inner')\n",
    "all_prices.reset_index(inplace=True)\n",
    "all_prices = all_prices.pivot_table(values='Close', index='Date', columns='Symbol')\n",
    "all_prices"
   ]
  },
  {
   "cell_type": "code",
   "execution_count": 49,
   "metadata": {},
   "outputs": [
    {
     "data": {
      "text/html": [
       "<div>\n",
       "<style scoped>\n",
       "    .dataframe tbody tr th:only-of-type {\n",
       "        vertical-align: middle;\n",
       "    }\n",
       "\n",
       "    .dataframe tbody tr th {\n",
       "        vertical-align: top;\n",
       "    }\n",
       "\n",
       "    .dataframe thead th {\n",
       "        text-align: right;\n",
       "    }\n",
       "</style>\n",
       "<table border=\"1\" class=\"dataframe\">\n",
       "  <thead>\n",
       "    <tr style=\"text-align: right;\">\n",
       "      <th>Symbol</th>\n",
       "      <th>AAPL</th>\n",
       "      <th>SPY</th>\n",
       "    </tr>\n",
       "    <tr>\n",
       "      <th>Date</th>\n",
       "      <th></th>\n",
       "      <th></th>\n",
       "    </tr>\n",
       "  </thead>\n",
       "  <tbody>\n",
       "    <tr>\n",
       "      <th>2018-03-01</th>\n",
       "      <td>NaN</td>\n",
       "      <td>NaN</td>\n",
       "    </tr>\n",
       "    <tr>\n",
       "      <th>2018-03-02</th>\n",
       "      <td>0.006914</td>\n",
       "      <td>-0.000366</td>\n",
       "    </tr>\n",
       "    <tr>\n",
       "      <th>2018-03-05</th>\n",
       "      <td>0.003462</td>\n",
       "      <td>0.004839</td>\n",
       "    </tr>\n",
       "    <tr>\n",
       "      <th>2018-03-06</th>\n",
       "      <td>-0.000848</td>\n",
       "      <td>0.017402</td>\n",
       "    </tr>\n",
       "    <tr>\n",
       "      <th>2018-03-07</th>\n",
       "      <td>-0.009283</td>\n",
       "      <td>-0.001255</td>\n",
       "    </tr>\n",
       "    <tr>\n",
       "      <th>...</th>\n",
       "      <td>...</td>\n",
       "      <td>...</td>\n",
       "    </tr>\n",
       "    <tr>\n",
       "      <th>2023-02-22</th>\n",
       "      <td>0.002896</td>\n",
       "      <td>0.003406</td>\n",
       "    </tr>\n",
       "    <tr>\n",
       "      <th>2023-02-23</th>\n",
       "      <td>0.003291</td>\n",
       "      <td>-0.003696</td>\n",
       "    </tr>\n",
       "    <tr>\n",
       "      <th>2023-02-24</th>\n",
       "      <td>-0.018005</td>\n",
       "      <td>-0.003836</td>\n",
       "    </tr>\n",
       "    <tr>\n",
       "      <th>2023-02-27</th>\n",
       "      <td>0.008248</td>\n",
       "      <td>0.007777</td>\n",
       "    </tr>\n",
       "    <tr>\n",
       "      <th>2023-02-28</th>\n",
       "      <td>-0.003448</td>\n",
       "      <td>0.016038</td>\n",
       "    </tr>\n",
       "  </tbody>\n",
       "</table>\n",
       "<p>1258 rows × 2 columns</p>\n",
       "</div>"
      ],
      "text/plain": [
       "Symbol          AAPL       SPY\n",
       "Date                          \n",
       "2018-03-01       NaN       NaN\n",
       "2018-03-02  0.006914 -0.000366\n",
       "2018-03-05  0.003462  0.004839\n",
       "2018-03-06 -0.000848  0.017402\n",
       "2018-03-07 -0.009283 -0.001255\n",
       "...              ...       ...\n",
       "2023-02-22  0.002896  0.003406\n",
       "2023-02-23  0.003291 -0.003696\n",
       "2023-02-24 -0.018005 -0.003836\n",
       "2023-02-27  0.008248  0.007777\n",
       "2023-02-28 -0.003448  0.016038\n",
       "\n",
       "[1258 rows x 2 columns]"
      ]
     },
     "execution_count": 49,
     "metadata": {},
     "output_type": "execute_result"
    }
   ],
   "source": [
    "# Calculate Daily Return\n",
    "all_returns = all_prices.pct_change()\n",
    "all_returns"
   ]
  },
  {
   "cell_type": "code",
   "execution_count": 50,
   "metadata": {},
   "outputs": [
    {
     "data": {
      "text/plain": [
       "Date\n",
       "2018-03-01         NaN\n",
       "2018-03-02    0.003274\n",
       "2018-03-05    0.004150\n",
       "2018-03-06    0.008277\n",
       "2018-03-07   -0.005269\n",
       "dtype: float64"
      ]
     },
     "execution_count": 50,
     "metadata": {},
     "output_type": "execute_result"
    }
   ],
   "source": [
    "# Calculate Portfolio Returns with an equal amount of each stock\n",
    "aapl_weight = 0.5\n",
    "spy_weight = 0.5\n",
    "\n",
    "portfolio_returns = aapl_weight * all_returns['AAPL'] + spy_weight * all_returns['SPY']\n",
    "portfolio_returns.head()"
   ]
  },
  {
   "cell_type": "code",
   "execution_count": 51,
   "metadata": {},
   "outputs": [
    {
     "data": {
      "text/plain": [
       "Date\n",
       "2018-03-01         NaN\n",
       "2018-03-02    0.003274\n",
       "2018-03-05    0.004150\n",
       "2018-03-06    0.008277\n",
       "2018-03-07   -0.005269\n",
       "dtype: float64"
      ]
     },
     "execution_count": 51,
     "metadata": {},
     "output_type": "execute_result"
    }
   ],
   "source": [
    "# Shortcut for calculating returns\n",
    "weights = [0.5, 0.5]\n",
    "protfolio_returns = all_returns.dot(weights)\n",
    "portfolio_returns.head()"
   ]
  },
  {
   "cell_type": "code",
   "execution_count": 52,
   "metadata": {},
   "outputs": [
    {
     "data": {
      "text/plain": [
       "Symbol\n",
       "AAPL    0.334694\n",
       "SPY     0.215274\n",
       "dtype: float64"
      ]
     },
     "execution_count": 52,
     "metadata": {},
     "output_type": "execute_result"
    }
   ],
   "source": [
    "volatility = all_returns.std() * np.sqrt(252)\n",
    "volatility"
   ]
  },
  {
   "cell_type": "code",
   "execution_count": 53,
   "metadata": {},
   "outputs": [
    {
     "data": {
      "text/plain": [
       "<AxesSubplot:xlabel='Date'>"
      ]
     },
     "execution_count": 53,
     "metadata": {},
     "output_type": "execute_result"
    },
    {
     "data": {
      "image/png": "[encoded data removed]",
      "text/plain": [
       "<Figure size 432x288 with 1 Axes>"
      ]
     },
     "metadata": {
      "needs_background": "light"
     },
     "output_type": "display_data"
    }
   ],
   "source": [
    "# Higher Volatility Portfolio (More risk, but potentially higher returns)\n",
    "initial_investment = 10000\n",
    "weights = [0.8, 0.2]\n",
    "portfolio_returns = all_returns.dot(weights)\n",
    "\n",
    "cumulative_returns = (1 + portfolio_returns).cumprod() - 1\n",
    "(initial_investment * cumulative_returns).plot()"
   ]
  },
  {
   "cell_type": "code",
   "execution_count": 54,
   "metadata": {},
   "outputs": [
    {
     "data": {
      "image/png": "[encoded data removed]",
      "text/plain": [
       "<Figure size 432x288 with 1 Axes>"
      ]
     },
     "metadata": {
      "needs_background": "light"
     },
     "output_type": "display_data"
    }
   ],
   "source": [
    "# Lower Volatility Portfolio (More risk, but potentially higher returns)\n",
    "initial_investment = 10000\n",
    "weights = [0.2, 0.8]\n",
    "portfolio_returns = all_returns.dot(weights)\n",
    "cumulative_return = (1 + portfolio_returns).cumprod() - 1\n",
    "(initial_investment * cumulative_return).plot();"
   ]
  },
  {
   "cell_type": "code",
   "execution_count": 41,
   "metadata": {},
   "outputs": [],
   "source": [
    "import os"
   ]
  },
  {
   "cell_type": "code",
   "execution_count": 44,
   "metadata": {},
   "outputs": [
    {
     "name": "stdout",
     "output_type": "stream",
     "text": [
      "./Fintech_Bootcamp_Pandas_1.ipynb\n",
      "./Customers.csv\n",
      "./tech_stock_closing_value.csv\n",
      "./.DS_Store\n",
      "./.localized\n",
      "./drowning.csv\n",
      "./ice_cream.csv\n",
      "./TSLA_Nasdaq.csv\n",
      "./SPY.csv\n",
      "./Fintech_Bootcamp_Python-Pandas_2.ipynb\n",
      "./.ipynb_checkpoints\n",
      "./coin_Ethereum.csv\n",
      "./AAPL.csv\n",
      "./Fintech_Bootcamp_Python-Pandas_3.ipynb\n"
     ]
    }
   ],
   "source": [
    "os.listdir(\".\")\n",
    "# for file in os.listdir(\".\"):\n",
    "#     print(f\"./{file}\")"
   ]
  },
  {
   "cell_type": "markdown",
   "metadata": {},
   "source": [
    "## Pandas Practice - Columns"
   ]
  },
  {
   "cell_type": "code",
   "execution_count": 55,
   "metadata": {},
   "outputs": [
    {
     "data": {
      "text/html": [
       "<div>\n",
       "<style scoped>\n",
       "    .dataframe tbody tr th:only-of-type {\n",
       "        vertical-align: middle;\n",
       "    }\n",
       "\n",
       "    .dataframe tbody tr th {\n",
       "        vertical-align: top;\n",
       "    }\n",
       "\n",
       "    .dataframe thead th {\n",
       "        text-align: right;\n",
       "    }\n",
       "</style>\n",
       "<table border=\"1\" class=\"dataframe\">\n",
       "  <thead>\n",
       "    <tr style=\"text-align: right;\">\n",
       "      <th></th>\n",
       "      <th>customerID</th>\n",
       "      <th>companyName</th>\n",
       "      <th>contactName</th>\n",
       "      <th>contactTitle</th>\n",
       "      <th>address</th>\n",
       "      <th>city</th>\n",
       "      <th>region</th>\n",
       "      <th>postalCode</th>\n",
       "      <th>country</th>\n",
       "      <th>phone</th>\n",
       "      <th>fax</th>\n",
       "      <th>salesAmount</th>\n",
       "      <th>dollarAmount</th>\n",
       "    </tr>\n",
       "  </thead>\n",
       "  <tbody>\n",
       "    <tr>\n",
       "      <th>0</th>\n",
       "      <td>ALFKI</td>\n",
       "      <td>Alfreds Futterkiste</td>\n",
       "      <td>Maria Anders</td>\n",
       "      <td>Sales Representative</td>\n",
       "      <td>Obere Str. 57</td>\n",
       "      <td>Berlin</td>\n",
       "      <td>NaN</td>\n",
       "      <td>12209</td>\n",
       "      <td>Germany</td>\n",
       "      <td>030-0074321</td>\n",
       "      <td>030-0076545</td>\n",
       "      <td>100.73</td>\n",
       "      <td>$100.30</td>\n",
       "    </tr>\n",
       "    <tr>\n",
       "      <th>1</th>\n",
       "      <td>ANATR</td>\n",
       "      <td>Ana Trujillo Emparedados y helados</td>\n",
       "      <td>Ana Trujillo</td>\n",
       "      <td>Owner</td>\n",
       "      <td>Avda. de la Constitución 2222</td>\n",
       "      <td>México D.F.</td>\n",
       "      <td>NaN</td>\n",
       "      <td>5021</td>\n",
       "      <td>Mexico</td>\n",
       "      <td>(5) 555-4729</td>\n",
       "      <td>(5) 555-3745</td>\n",
       "      <td>101.00</td>\n",
       "      <td>$101.70</td>\n",
       "    </tr>\n",
       "    <tr>\n",
       "      <th>2</th>\n",
       "      <td>ANTON</td>\n",
       "      <td>Antonio Moreno Taquería</td>\n",
       "      <td>Antonio Moreno</td>\n",
       "      <td>Owner</td>\n",
       "      <td>Mataderos  2312</td>\n",
       "      <td>México D.F.</td>\n",
       "      <td>NaN</td>\n",
       "      <td>5023</td>\n",
       "      <td>Mexico</td>\n",
       "      <td>(5) 555-3932</td>\n",
       "      <td>NaN</td>\n",
       "      <td>NaN</td>\n",
       "      <td>$103.10</td>\n",
       "    </tr>\n",
       "    <tr>\n",
       "      <th>3</th>\n",
       "      <td>AROUT</td>\n",
       "      <td>Around the Horn</td>\n",
       "      <td>Thomas Hardy</td>\n",
       "      <td>Sales Representative</td>\n",
       "      <td>120 Hanover Sq.</td>\n",
       "      <td>London</td>\n",
       "      <td>NaN</td>\n",
       "      <td>WA1 1DP</td>\n",
       "      <td>UK</td>\n",
       "      <td>(171) 555-7788</td>\n",
       "      <td>(171) 555-6750</td>\n",
       "      <td>103.00</td>\n",
       "      <td>$104.50</td>\n",
       "    </tr>\n",
       "    <tr>\n",
       "      <th>4</th>\n",
       "      <td>WILMK</td>\n",
       "      <td>Wilman Kala</td>\n",
       "      <td>Matti Karttunen</td>\n",
       "      <td>Owner/Marketing Assistant</td>\n",
       "      <td>Keskuskatu 45</td>\n",
       "      <td>Helsinki</td>\n",
       "      <td>NaN</td>\n",
       "      <td>21240</td>\n",
       "      <td>Finland</td>\n",
       "      <td>90-224 8858</td>\n",
       "      <td>90-224 8858</td>\n",
       "      <td>189.90</td>\n",
       "      <td>$105.90</td>\n",
       "    </tr>\n",
       "  </tbody>\n",
       "</table>\n",
       "</div>"
      ],
      "text/plain": [
       "  customerID                         companyName      contactName  \\\n",
       "0      ALFKI                 Alfreds Futterkiste     Maria Anders   \n",
       "1      ANATR  Ana Trujillo Emparedados y helados     Ana Trujillo   \n",
       "2      ANTON             Antonio Moreno Taquería   Antonio Moreno   \n",
       "3      AROUT                     Around the Horn     Thomas Hardy   \n",
       "4      WILMK                         Wilman Kala  Matti Karttunen   \n",
       "\n",
       "                contactTitle                        address         city  \\\n",
       "0       Sales Representative                  Obere Str. 57       Berlin   \n",
       "1                      Owner  Avda. de la Constitución 2222  México D.F.   \n",
       "2                      Owner                Mataderos  2312  México D.F.   \n",
       "3       Sales Representative                120 Hanover Sq.       London   \n",
       "4  Owner/Marketing Assistant                  Keskuskatu 45     Helsinki   \n",
       "\n",
       "  region postalCode  country           phone             fax  salesAmount  \\\n",
       "0    NaN      12209  Germany     030-0074321     030-0076545       100.73   \n",
       "1    NaN       5021   Mexico    (5) 555-4729    (5) 555-3745       101.00   \n",
       "2    NaN       5023   Mexico    (5) 555-3932             NaN          NaN   \n",
       "3    NaN    WA1 1DP       UK  (171) 555-7788  (171) 555-6750       103.00   \n",
       "4    NaN      21240  Finland     90-224 8858     90-224 8858       189.90   \n",
       "\n",
       "  dollarAmount  \n",
       "0     $100.30   \n",
       "1     $101.70   \n",
       "2     $103.10   \n",
       "3     $104.50   \n",
       "4     $105.90   "
      ]
     },
     "execution_count": 55,
     "metadata": {},
     "output_type": "execute_result"
    }
   ],
   "source": [
    "customers_df = pd.read_csv('../data/Customers.csv')\n",
    "customers_df.head()"
   ]
  },
  {
   "cell_type": "code",
   "execution_count": 56,
   "metadata": {},
   "outputs": [
    {
     "data": {
      "text/html": [
       "<div>\n",
       "<style scoped>\n",
       "    .dataframe tbody tr th:only-of-type {\n",
       "        vertical-align: middle;\n",
       "    }\n",
       "\n",
       "    .dataframe tbody tr th {\n",
       "        vertical-align: top;\n",
       "    }\n",
       "\n",
       "    .dataframe thead th {\n",
       "        text-align: right;\n",
       "    }\n",
       "</style>\n",
       "<table border=\"1\" class=\"dataframe\">\n",
       "  <thead>\n",
       "    <tr style=\"text-align: right;\">\n",
       "      <th></th>\n",
       "      <th>customerID</th>\n",
       "      <th>Company Name</th>\n",
       "      <th>Contact Name</th>\n",
       "      <th>Contact Title</th>\n",
       "      <th>ADDRESS</th>\n",
       "      <th>city</th>\n",
       "      <th>region</th>\n",
       "      <th>postalCode</th>\n",
       "      <th>country</th>\n",
       "      <th>phone</th>\n",
       "      <th>fax</th>\n",
       "      <th>Sales Amount</th>\n",
       "      <th>dollarAmount</th>\n",
       "    </tr>\n",
       "  </thead>\n",
       "  <tbody>\n",
       "    <tr>\n",
       "      <th>0</th>\n",
       "      <td>ALFKI</td>\n",
       "      <td>Alfreds Futterkiste</td>\n",
       "      <td>Maria Anders</td>\n",
       "      <td>Sales Representative</td>\n",
       "      <td>Obere Str. 57</td>\n",
       "      <td>Berlin</td>\n",
       "      <td>NaN</td>\n",
       "      <td>12209</td>\n",
       "      <td>Germany</td>\n",
       "      <td>030-0074321</td>\n",
       "      <td>030-0076545</td>\n",
       "      <td>100.73</td>\n",
       "      <td>$100.30</td>\n",
       "    </tr>\n",
       "    <tr>\n",
       "      <th>1</th>\n",
       "      <td>ANATR</td>\n",
       "      <td>Ana Trujillo Emparedados y helados</td>\n",
       "      <td>Ana Trujillo</td>\n",
       "      <td>Owner</td>\n",
       "      <td>Avda. de la Constitución 2222</td>\n",
       "      <td>México D.F.</td>\n",
       "      <td>NaN</td>\n",
       "      <td>5021</td>\n",
       "      <td>Mexico</td>\n",
       "      <td>(5) 555-4729</td>\n",
       "      <td>(5) 555-3745</td>\n",
       "      <td>101.00</td>\n",
       "      <td>$101.70</td>\n",
       "    </tr>\n",
       "    <tr>\n",
       "      <th>2</th>\n",
       "      <td>ANTON</td>\n",
       "      <td>Antonio Moreno Taquería</td>\n",
       "      <td>Antonio Moreno</td>\n",
       "      <td>Owner</td>\n",
       "      <td>Mataderos  2312</td>\n",
       "      <td>México D.F.</td>\n",
       "      <td>NaN</td>\n",
       "      <td>5023</td>\n",
       "      <td>Mexico</td>\n",
       "      <td>(5) 555-3932</td>\n",
       "      <td>NaN</td>\n",
       "      <td>NaN</td>\n",
       "      <td>$103.10</td>\n",
       "    </tr>\n",
       "    <tr>\n",
       "      <th>3</th>\n",
       "      <td>AROUT</td>\n",
       "      <td>Around the Horn</td>\n",
       "      <td>Thomas Hardy</td>\n",
       "      <td>Sales Representative</td>\n",
       "      <td>120 Hanover Sq.</td>\n",
       "      <td>London</td>\n",
       "      <td>NaN</td>\n",
       "      <td>WA1 1DP</td>\n",
       "      <td>UK</td>\n",
       "      <td>(171) 555-7788</td>\n",
       "      <td>(171) 555-6750</td>\n",
       "      <td>103.00</td>\n",
       "      <td>$104.50</td>\n",
       "    </tr>\n",
       "    <tr>\n",
       "      <th>4</th>\n",
       "      <td>WILMK</td>\n",
       "      <td>Wilman Kala</td>\n",
       "      <td>Matti Karttunen</td>\n",
       "      <td>Owner/Marketing Assistant</td>\n",
       "      <td>Keskuskatu 45</td>\n",
       "      <td>Helsinki</td>\n",
       "      <td>NaN</td>\n",
       "      <td>21240</td>\n",
       "      <td>Finland</td>\n",
       "      <td>90-224 8858</td>\n",
       "      <td>90-224 8858</td>\n",
       "      <td>189.90</td>\n",
       "      <td>$105.90</td>\n",
       "    </tr>\n",
       "  </tbody>\n",
       "</table>\n",
       "</div>"
      ],
      "text/plain": [
       "  customerID                        Company Name     Contact Name  \\\n",
       "0      ALFKI                 Alfreds Futterkiste     Maria Anders   \n",
       "1      ANATR  Ana Trujillo Emparedados y helados     Ana Trujillo   \n",
       "2      ANTON             Antonio Moreno Taquería   Antonio Moreno   \n",
       "3      AROUT                     Around the Horn     Thomas Hardy   \n",
       "4      WILMK                         Wilman Kala  Matti Karttunen   \n",
       "\n",
       "               Contact Title                        ADDRESS         city  \\\n",
       "0       Sales Representative                  Obere Str. 57       Berlin   \n",
       "1                      Owner  Avda. de la Constitución 2222  México D.F.   \n",
       "2                      Owner                Mataderos  2312  México D.F.   \n",
       "3       Sales Representative                120 Hanover Sq.       London   \n",
       "4  Owner/Marketing Assistant                  Keskuskatu 45     Helsinki   \n",
       "\n",
       "  region postalCode  country           phone             fax  Sales Amount  \\\n",
       "0    NaN      12209  Germany     030-0074321     030-0076545        100.73   \n",
       "1    NaN       5021   Mexico    (5) 555-4729    (5) 555-3745        101.00   \n",
       "2    NaN       5023   Mexico    (5) 555-3932             NaN           NaN   \n",
       "3    NaN    WA1 1DP       UK  (171) 555-7788  (171) 555-6750        103.00   \n",
       "4    NaN      21240  Finland     90-224 8858     90-224 8858        189.90   \n",
       "\n",
       "  dollarAmount  \n",
       "0     $100.30   \n",
       "1     $101.70   \n",
       "2     $103.10   \n",
       "3     $104.50   \n",
       "4     $105.90   "
      ]
     },
     "execution_count": 56,
     "metadata": {},
     "output_type": "execute_result"
    }
   ],
   "source": [
    "# Rename column\n",
    "customers_df = customers_df.rename(columns={\"companyName\": \"Company Name\", \n",
    "                                            \"contactName\": \"Contact Name\", \n",
    "                                            \"contactTitle\": \"Contact Title\",\n",
    "                                            \"address\": \"ADDRESS\",\n",
    "                                            \"salesAmount\": \"Sales Amount\"})\n",
    "customers_df.head()"
   ]
  },
  {
   "cell_type": "code",
   "execution_count": 57,
   "metadata": {},
   "outputs": [
    {
     "data": {
      "text/plain": [
       "1196"
      ]
     },
     "execution_count": 57,
     "metadata": {},
     "output_type": "execute_result"
    }
   ],
   "source": [
    "customers_df.size"
   ]
  },
  {
   "cell_type": "code",
   "execution_count": 58,
   "metadata": {},
   "outputs": [
    {
     "data": {
      "text/html": [
       "<div>\n",
       "<style scoped>\n",
       "    .dataframe tbody tr th:only-of-type {\n",
       "        vertical-align: middle;\n",
       "    }\n",
       "\n",
       "    .dataframe tbody tr th {\n",
       "        vertical-align: top;\n",
       "    }\n",
       "\n",
       "    .dataframe thead th {\n",
       "        text-align: right;\n",
       "    }\n",
       "</style>\n",
       "<table border=\"1\" class=\"dataframe\">\n",
       "  <thead>\n",
       "    <tr style=\"text-align: right;\">\n",
       "      <th></th>\n",
       "      <th>dollarAmount</th>\n",
       "      <th>fax</th>\n",
       "      <th>phone</th>\n",
       "      <th>ADDRESS</th>\n",
       "      <th>customerID</th>\n",
       "      <th>Company Name</th>\n",
       "      <th>Contact Name</th>\n",
       "      <th>Contact Title</th>\n",
       "      <th>Sales Amount</th>\n",
       "    </tr>\n",
       "  </thead>\n",
       "  <tbody>\n",
       "    <tr>\n",
       "      <th>0</th>\n",
       "      <td>$100.30</td>\n",
       "      <td>030-0076545</td>\n",
       "      <td>030-0074321</td>\n",
       "      <td>Obere Str. 57</td>\n",
       "      <td>ALFKI</td>\n",
       "      <td>Alfreds Futterkiste</td>\n",
       "      <td>Maria Anders</td>\n",
       "      <td>Sales Representative</td>\n",
       "      <td>100.73</td>\n",
       "    </tr>\n",
       "    <tr>\n",
       "      <th>1</th>\n",
       "      <td>$101.70</td>\n",
       "      <td>(5) 555-3745</td>\n",
       "      <td>(5) 555-4729</td>\n",
       "      <td>Avda. de la Constitución 2222</td>\n",
       "      <td>ANATR</td>\n",
       "      <td>Ana Trujillo Emparedados y helados</td>\n",
       "      <td>Ana Trujillo</td>\n",
       "      <td>Owner</td>\n",
       "      <td>101.00</td>\n",
       "    </tr>\n",
       "    <tr>\n",
       "      <th>2</th>\n",
       "      <td>$103.10</td>\n",
       "      <td>NaN</td>\n",
       "      <td>(5) 555-3932</td>\n",
       "      <td>Mataderos  2312</td>\n",
       "      <td>ANTON</td>\n",
       "      <td>Antonio Moreno Taquería</td>\n",
       "      <td>Antonio Moreno</td>\n",
       "      <td>Owner</td>\n",
       "      <td>NaN</td>\n",
       "    </tr>\n",
       "    <tr>\n",
       "      <th>3</th>\n",
       "      <td>$104.50</td>\n",
       "      <td>(171) 555-6750</td>\n",
       "      <td>(171) 555-7788</td>\n",
       "      <td>120 Hanover Sq.</td>\n",
       "      <td>AROUT</td>\n",
       "      <td>Around the Horn</td>\n",
       "      <td>Thomas Hardy</td>\n",
       "      <td>Sales Representative</td>\n",
       "      <td>103.00</td>\n",
       "    </tr>\n",
       "    <tr>\n",
       "      <th>4</th>\n",
       "      <td>$105.90</td>\n",
       "      <td>90-224 8858</td>\n",
       "      <td>90-224 8858</td>\n",
       "      <td>Keskuskatu 45</td>\n",
       "      <td>WILMK</td>\n",
       "      <td>Wilman Kala</td>\n",
       "      <td>Matti Karttunen</td>\n",
       "      <td>Owner/Marketing Assistant</td>\n",
       "      <td>189.90</td>\n",
       "    </tr>\n",
       "    <tr>\n",
       "      <th>...</th>\n",
       "      <td>...</td>\n",
       "      <td>...</td>\n",
       "      <td>...</td>\n",
       "      <td>...</td>\n",
       "      <td>...</td>\n",
       "      <td>...</td>\n",
       "      <td>...</td>\n",
       "      <td>...</td>\n",
       "      <td>...</td>\n",
       "    </tr>\n",
       "    <tr>\n",
       "      <th>87</th>\n",
       "      <td>$222.10</td>\n",
       "      <td>981-443655</td>\n",
       "      <td>981-443655</td>\n",
       "      <td>Torikatu 38</td>\n",
       "      <td>WARTH</td>\n",
       "      <td>Wartian Herkku</td>\n",
       "      <td>Pirkko Koskitalo</td>\n",
       "      <td>Accounting Manager</td>\n",
       "      <td>186.00</td>\n",
       "    </tr>\n",
       "    <tr>\n",
       "      <th>88</th>\n",
       "      <td>$223.50</td>\n",
       "      <td>(14) 555-8122</td>\n",
       "      <td>Brazil</td>\n",
       "      <td>Rua do Mercado</td>\n",
       "      <td>WELLI</td>\n",
       "      <td>Wellington Importadora</td>\n",
       "      <td>Paula Parente</td>\n",
       "      <td>Sales Manager</td>\n",
       "      <td>187.00</td>\n",
       "    </tr>\n",
       "    <tr>\n",
       "      <th>89</th>\n",
       "      <td>$227.70</td>\n",
       "      <td>(26) 642-7012</td>\n",
       "      <td>(26) 642-7012</td>\n",
       "      <td>ul. Filtrowa 68</td>\n",
       "      <td>WOLZA</td>\n",
       "      <td>Wolski  Zajazd</td>\n",
       "      <td>Zbyszek Piestrzeniewicz</td>\n",
       "      <td>Owner</td>\n",
       "      <td>NaN</td>\n",
       "    </tr>\n",
       "    <tr>\n",
       "      <th>90</th>\n",
       "      <td>$226.30</td>\n",
       "      <td>90-224 8858</td>\n",
       "      <td>90-224 8858</td>\n",
       "      <td>Keskuskatu 45</td>\n",
       "      <td>WILMK</td>\n",
       "      <td>Wilman Kala</td>\n",
       "      <td>Matti Karttunen</td>\n",
       "      <td>Owner/Marketing Assistant</td>\n",
       "      <td>189.90</td>\n",
       "    </tr>\n",
       "    <tr>\n",
       "      <th>91</th>\n",
       "      <td>$227.70</td>\n",
       "      <td>(26) 642-7012</td>\n",
       "      <td>(26) 642-7012</td>\n",
       "      <td>ul. Filtrowa 68</td>\n",
       "      <td>WOLZA</td>\n",
       "      <td>Wolski  Zajazd</td>\n",
       "      <td>Zbyszek Piestrzeniewicz</td>\n",
       "      <td>Owner</td>\n",
       "      <td>NaN</td>\n",
       "    </tr>\n",
       "  </tbody>\n",
       "</table>\n",
       "<p>92 rows × 9 columns</p>\n",
       "</div>"
      ],
      "text/plain": [
       "   dollarAmount             fax           phone  \\\n",
       "0      $100.30      030-0076545     030-0074321   \n",
       "1      $101.70     (5) 555-3745    (5) 555-4729   \n",
       "2      $103.10              NaN    (5) 555-3932   \n",
       "3      $104.50   (171) 555-6750  (171) 555-7788   \n",
       "4      $105.90      90-224 8858     90-224 8858   \n",
       "..          ...             ...             ...   \n",
       "87     $222.10       981-443655      981-443655   \n",
       "88     $223.50    (14) 555-8122          Brazil   \n",
       "89     $227.70    (26) 642-7012   (26) 642-7012   \n",
       "90     $226.30      90-224 8858     90-224 8858   \n",
       "91     $227.70    (26) 642-7012   (26) 642-7012   \n",
       "\n",
       "                          ADDRESS customerID  \\\n",
       "0                   Obere Str. 57      ALFKI   \n",
       "1   Avda. de la Constitución 2222      ANATR   \n",
       "2                 Mataderos  2312      ANTON   \n",
       "3                 120 Hanover Sq.      AROUT   \n",
       "4                   Keskuskatu 45      WILMK   \n",
       "..                            ...        ...   \n",
       "87                    Torikatu 38      WARTH   \n",
       "88                 Rua do Mercado      WELLI   \n",
       "89                ul. Filtrowa 68      WOLZA   \n",
       "90                  Keskuskatu 45      WILMK   \n",
       "91                ul. Filtrowa 68      WOLZA   \n",
       "\n",
       "                          Company Name             Contact Name  \\\n",
       "0                  Alfreds Futterkiste             Maria Anders   \n",
       "1   Ana Trujillo Emparedados y helados             Ana Trujillo   \n",
       "2              Antonio Moreno Taquería           Antonio Moreno   \n",
       "3                      Around the Horn             Thomas Hardy   \n",
       "4                          Wilman Kala          Matti Karttunen   \n",
       "..                                 ...                      ...   \n",
       "87                      Wartian Herkku         Pirkko Koskitalo   \n",
       "88              Wellington Importadora            Paula Parente   \n",
       "89                      Wolski  Zajazd  Zbyszek Piestrzeniewicz   \n",
       "90                         Wilman Kala          Matti Karttunen   \n",
       "91                      Wolski  Zajazd  Zbyszek Piestrzeniewicz   \n",
       "\n",
       "                Contact Title  Sales Amount  \n",
       "0        Sales Representative        100.73  \n",
       "1                       Owner        101.00  \n",
       "2                       Owner           NaN  \n",
       "3        Sales Representative        103.00  \n",
       "4   Owner/Marketing Assistant        189.90  \n",
       "..                        ...           ...  \n",
       "87         Accounting Manager        186.00  \n",
       "88              Sales Manager        187.00  \n",
       "89                      Owner           NaN  \n",
       "90  Owner/Marketing Assistant        189.90  \n",
       "91                      Owner           NaN  \n",
       "\n",
       "[92 rows x 9 columns]"
      ]
     },
     "execution_count": 58,
     "metadata": {},
     "output_type": "execute_result"
    }
   ],
   "source": [
    "# Reorder columns\n",
    "# Use a list of re-ordered column names to alter the column order of the original dataframe\n",
    "customers_df = customers_df[['dollarAmount', 'fax', 'phone', 'ADDRESS', 'customerID', 'Company Name', \n",
    "                             'Contact Name', 'Contact Title', 'Sales Amount']]\n",
    "customers_df"
   ]
  },
  {
   "cell_type": "code",
   "execution_count": 59,
   "metadata": {},
   "outputs": [
    {
     "data": {
      "text/html": [
       "<div>\n",
       "<style scoped>\n",
       "    .dataframe tbody tr th:only-of-type {\n",
       "        vertical-align: middle;\n",
       "    }\n",
       "\n",
       "    .dataframe tbody tr th {\n",
       "        vertical-align: top;\n",
       "    }\n",
       "\n",
       "    .dataframe thead th {\n",
       "        text-align: right;\n",
       "    }\n",
       "</style>\n",
       "<table border=\"1\" class=\"dataframe\">\n",
       "  <thead>\n",
       "    <tr style=\"text-align: right;\">\n",
       "      <th></th>\n",
       "      <th>fax</th>\n",
       "      <th>phone</th>\n",
       "      <th>ADDRESS</th>\n",
       "      <th>customerID</th>\n",
       "    </tr>\n",
       "  </thead>\n",
       "  <tbody>\n",
       "    <tr>\n",
       "      <th>0</th>\n",
       "      <td>030-0076545</td>\n",
       "      <td>030-0074321</td>\n",
       "      <td>Obere Str. 57</td>\n",
       "      <td>ALFKI</td>\n",
       "    </tr>\n",
       "    <tr>\n",
       "      <th>1</th>\n",
       "      <td>(5) 555-3745</td>\n",
       "      <td>(5) 555-4729</td>\n",
       "      <td>Avda. de la Constitución 2222</td>\n",
       "      <td>ANATR</td>\n",
       "    </tr>\n",
       "    <tr>\n",
       "      <th>2</th>\n",
       "      <td>NaN</td>\n",
       "      <td>(5) 555-3932</td>\n",
       "      <td>Mataderos  2312</td>\n",
       "      <td>ANTON</td>\n",
       "    </tr>\n",
       "    <tr>\n",
       "      <th>3</th>\n",
       "      <td>(171) 555-6750</td>\n",
       "      <td>(171) 555-7788</td>\n",
       "      <td>120 Hanover Sq.</td>\n",
       "      <td>AROUT</td>\n",
       "    </tr>\n",
       "    <tr>\n",
       "      <th>4</th>\n",
       "      <td>90-224 8858</td>\n",
       "      <td>90-224 8858</td>\n",
       "      <td>Keskuskatu 45</td>\n",
       "      <td>WILMK</td>\n",
       "    </tr>\n",
       "    <tr>\n",
       "      <th>...</th>\n",
       "      <td>...</td>\n",
       "      <td>...</td>\n",
       "      <td>...</td>\n",
       "      <td>...</td>\n",
       "    </tr>\n",
       "    <tr>\n",
       "      <th>87</th>\n",
       "      <td>981-443655</td>\n",
       "      <td>981-443655</td>\n",
       "      <td>Torikatu 38</td>\n",
       "      <td>WARTH</td>\n",
       "    </tr>\n",
       "    <tr>\n",
       "      <th>88</th>\n",
       "      <td>(14) 555-8122</td>\n",
       "      <td>Brazil</td>\n",
       "      <td>Rua do Mercado</td>\n",
       "      <td>WELLI</td>\n",
       "    </tr>\n",
       "    <tr>\n",
       "      <th>89</th>\n",
       "      <td>(26) 642-7012</td>\n",
       "      <td>(26) 642-7012</td>\n",
       "      <td>ul. Filtrowa 68</td>\n",
       "      <td>WOLZA</td>\n",
       "    </tr>\n",
       "    <tr>\n",
       "      <th>90</th>\n",
       "      <td>90-224 8858</td>\n",
       "      <td>90-224 8858</td>\n",
       "      <td>Keskuskatu 45</td>\n",
       "      <td>WILMK</td>\n",
       "    </tr>\n",
       "    <tr>\n",
       "      <th>91</th>\n",
       "      <td>(26) 642-7012</td>\n",
       "      <td>(26) 642-7012</td>\n",
       "      <td>ul. Filtrowa 68</td>\n",
       "      <td>WOLZA</td>\n",
       "    </tr>\n",
       "  </tbody>\n",
       "</table>\n",
       "<p>92 rows × 4 columns</p>\n",
       "</div>"
      ],
      "text/plain": [
       "               fax           phone                        ADDRESS customerID\n",
       "0      030-0076545     030-0074321                  Obere Str. 57      ALFKI\n",
       "1     (5) 555-3745    (5) 555-4729  Avda. de la Constitución 2222      ANATR\n",
       "2              NaN    (5) 555-3932                Mataderos  2312      ANTON\n",
       "3   (171) 555-6750  (171) 555-7788                120 Hanover Sq.      AROUT\n",
       "4      90-224 8858     90-224 8858                  Keskuskatu 45      WILMK\n",
       "..             ...             ...                            ...        ...\n",
       "87      981-443655      981-443655                    Torikatu 38      WARTH\n",
       "88   (14) 555-8122          Brazil                 Rua do Mercado      WELLI\n",
       "89   (26) 642-7012   (26) 642-7012                ul. Filtrowa 68      WOLZA\n",
       "90     90-224 8858     90-224 8858                  Keskuskatu 45      WILMK\n",
       "91   (26) 642-7012   (26) 642-7012                ul. Filtrowa 68      WOLZA\n",
       "\n",
       "[92 rows x 4 columns]"
      ]
     },
     "execution_count": 59,
     "metadata": {},
     "output_type": "execute_result"
    }
   ],
   "source": [
    "customers_df.loc[:,\"fax\":\"customerID\"]"
   ]
  },
  {
   "cell_type": "code",
   "execution_count": 60,
   "metadata": {},
   "outputs": [
    {
     "data": {
      "text/html": [
       "<div>\n",
       "<style scoped>\n",
       "    .dataframe tbody tr th:only-of-type {\n",
       "        vertical-align: middle;\n",
       "    }\n",
       "\n",
       "    .dataframe tbody tr th {\n",
       "        vertical-align: top;\n",
       "    }\n",
       "\n",
       "    .dataframe thead th {\n",
       "        text-align: right;\n",
       "    }\n",
       "</style>\n",
       "<table border=\"1\" class=\"dataframe\">\n",
       "  <thead>\n",
       "    <tr style=\"text-align: right;\">\n",
       "      <th></th>\n",
       "      <th>dollarAmount</th>\n",
       "      <th>fax</th>\n",
       "      <th>phone</th>\n",
       "      <th>ADDRESS</th>\n",
       "      <th>customerID</th>\n",
       "      <th>Company Name</th>\n",
       "      <th>Contact Name</th>\n",
       "      <th>Contact Title</th>\n",
       "      <th>Sales Amount</th>\n",
       "    </tr>\n",
       "  </thead>\n",
       "  <tbody>\n",
       "    <tr>\n",
       "      <th>88</th>\n",
       "      <td>$223.50</td>\n",
       "      <td>(14) 555-8122</td>\n",
       "      <td>Brazil</td>\n",
       "      <td>Rua do Mercado</td>\n",
       "      <td>WELLI</td>\n",
       "      <td>Wellington Importadora</td>\n",
       "      <td>Paula Parente</td>\n",
       "      <td>Sales Manager</td>\n",
       "      <td>187.0</td>\n",
       "    </tr>\n",
       "  </tbody>\n",
       "</table>\n",
       "</div>"
      ],
      "text/plain": [
       "   dollarAmount            fax   phone         ADDRESS customerID  \\\n",
       "88     $223.50   (14) 555-8122  Brazil  Rua do Mercado      WELLI   \n",
       "\n",
       "              Company Name   Contact Name  Contact Title  Sales Amount  \n",
       "88  Wellington Importadora  Paula Parente  Sales Manager         187.0  "
      ]
     },
     "execution_count": 60,
     "metadata": {},
     "output_type": "execute_result"
    }
   ],
   "source": [
    "customers_df[customers_df[\"customerID\"] == \"WELLI\"]"
   ]
  },
  {
   "cell_type": "code",
   "execution_count": 61,
   "metadata": {},
   "outputs": [
    {
     "data": {
      "text/html": [
       "<div>\n",
       "<style scoped>\n",
       "    .dataframe tbody tr th:only-of-type {\n",
       "        vertical-align: middle;\n",
       "    }\n",
       "\n",
       "    .dataframe tbody tr th {\n",
       "        vertical-align: top;\n",
       "    }\n",
       "\n",
       "    .dataframe thead th {\n",
       "        text-align: right;\n",
       "    }\n",
       "</style>\n",
       "<table border=\"1\" class=\"dataframe\">\n",
       "  <thead>\n",
       "    <tr style=\"text-align: right;\">\n",
       "      <th></th>\n",
       "      <th>Close</th>\n",
       "      <th>Symbol</th>\n",
       "    </tr>\n",
       "    <tr>\n",
       "      <th>Date</th>\n",
       "      <th></th>\n",
       "      <th></th>\n",
       "    </tr>\n",
       "  </thead>\n",
       "  <tbody>\n",
       "    <tr>\n",
       "      <th>2021-08-16</th>\n",
       "      <td>151.119995</td>\n",
       "      <td>AAPL</td>\n",
       "    </tr>\n",
       "    <tr>\n",
       "      <th>2021-08-17</th>\n",
       "      <td>150.190002</td>\n",
       "      <td>AAPL</td>\n",
       "    </tr>\n",
       "    <tr>\n",
       "      <th>2021-08-30</th>\n",
       "      <td>153.119995</td>\n",
       "      <td>AAPL</td>\n",
       "    </tr>\n",
       "    <tr>\n",
       "      <th>2021-08-31</th>\n",
       "      <td>151.830002</td>\n",
       "      <td>AAPL</td>\n",
       "    </tr>\n",
       "    <tr>\n",
       "      <th>2021-09-01</th>\n",
       "      <td>152.509995</td>\n",
       "      <td>AAPL</td>\n",
       "    </tr>\n",
       "    <tr>\n",
       "      <th>...</th>\n",
       "      <td>...</td>\n",
       "      <td>...</td>\n",
       "    </tr>\n",
       "    <tr>\n",
       "      <th>2023-02-13</th>\n",
       "      <td>153.850006</td>\n",
       "      <td>AAPL</td>\n",
       "    </tr>\n",
       "    <tr>\n",
       "      <th>2023-02-14</th>\n",
       "      <td>153.199997</td>\n",
       "      <td>AAPL</td>\n",
       "    </tr>\n",
       "    <tr>\n",
       "      <th>2023-02-15</th>\n",
       "      <td>155.330002</td>\n",
       "      <td>AAPL</td>\n",
       "    </tr>\n",
       "    <tr>\n",
       "      <th>2023-02-16</th>\n",
       "      <td>153.710007</td>\n",
       "      <td>AAPL</td>\n",
       "    </tr>\n",
       "    <tr>\n",
       "      <th>2023-02-17</th>\n",
       "      <td>152.550003</td>\n",
       "      <td>AAPL</td>\n",
       "    </tr>\n",
       "  </tbody>\n",
       "</table>\n",
       "<p>211 rows × 2 columns</p>\n",
       "</div>"
      ],
      "text/plain": [
       "                 Close Symbol\n",
       "Date                         \n",
       "2021-08-16  151.119995   AAPL\n",
       "2021-08-17  150.190002   AAPL\n",
       "2021-08-30  153.119995   AAPL\n",
       "2021-08-31  151.830002   AAPL\n",
       "2021-09-01  152.509995   AAPL\n",
       "...                ...    ...\n",
       "2023-02-13  153.850006   AAPL\n",
       "2023-02-14  153.199997   AAPL\n",
       "2023-02-15  155.330002   AAPL\n",
       "2023-02-16  153.710007   AAPL\n",
       "2023-02-17  152.550003   AAPL\n",
       "\n",
       "[211 rows x 2 columns]"
      ]
     },
     "execution_count": 61,
     "metadata": {},
     "output_type": "execute_result"
    }
   ],
   "source": [
    "aapl_df[aapl_df[\"Close\"] > 150]"
   ]
  },
  {
   "cell_type": "code",
   "execution_count": 62,
   "metadata": {},
   "outputs": [
    {
     "data": {
      "text/plain": [
       "Date\n",
       "2018-03-01    False\n",
       "2018-03-02    False\n",
       "2018-03-05    False\n",
       "2018-03-06    False\n",
       "2018-03-07    False\n",
       "              ...  \n",
       "2023-02-22    False\n",
       "2023-02-23    False\n",
       "2023-02-24    False\n",
       "2023-02-27    False\n",
       "2023-02-28    False\n",
       "Name: Close, Length: 1258, dtype: bool"
      ]
     },
     "execution_count": 62,
     "metadata": {},
     "output_type": "execute_result"
    }
   ],
   "source": [
    "aapl_df[\"Close\"] > 150"
   ]
  },
  {
   "cell_type": "code",
   "execution_count": 63,
   "metadata": {},
   "outputs": [
    {
     "data": {
      "text/plain": [
       "Close     43.75\n",
       "Symbol     AAPL\n",
       "Name: 2018-03-01 00:00:00, dtype: object"
      ]
     },
     "execution_count": 63,
     "metadata": {},
     "output_type": "execute_result"
    }
   ],
   "source": [
    "aapl_df.iloc[0]"
   ]
  },
  {
   "cell_type": "code",
   "execution_count": 66,
   "metadata": {},
   "outputs": [
    {
     "data": {
      "text/html": [
       "<div>\n",
       "<style scoped>\n",
       "    .dataframe tbody tr th:only-of-type {\n",
       "        vertical-align: middle;\n",
       "    }\n",
       "\n",
       "    .dataframe tbody tr th {\n",
       "        vertical-align: top;\n",
       "    }\n",
       "\n",
       "    .dataframe thead th {\n",
       "        text-align: right;\n",
       "    }\n",
       "</style>\n",
       "<table border=\"1\" class=\"dataframe\">\n",
       "  <thead>\n",
       "    <tr style=\"text-align: right;\">\n",
       "      <th></th>\n",
       "      <th>Close</th>\n",
       "      <th>Symbol</th>\n",
       "    </tr>\n",
       "    <tr>\n",
       "      <th>Date</th>\n",
       "      <th></th>\n",
       "      <th></th>\n",
       "    </tr>\n",
       "  </thead>\n",
       "  <tbody>\n",
       "    <tr>\n",
       "      <th>2021-08-16</th>\n",
       "      <td>151.119995</td>\n",
       "      <td>AAPL</td>\n",
       "    </tr>\n",
       "    <tr>\n",
       "      <th>2021-08-17</th>\n",
       "      <td>150.190002</td>\n",
       "      <td>AAPL</td>\n",
       "    </tr>\n",
       "    <tr>\n",
       "      <th>2021-08-30</th>\n",
       "      <td>153.119995</td>\n",
       "      <td>AAPL</td>\n",
       "    </tr>\n",
       "    <tr>\n",
       "      <th>2021-08-31</th>\n",
       "      <td>151.830002</td>\n",
       "      <td>AAPL</td>\n",
       "    </tr>\n",
       "    <tr>\n",
       "      <th>2021-09-01</th>\n",
       "      <td>152.509995</td>\n",
       "      <td>AAPL</td>\n",
       "    </tr>\n",
       "    <tr>\n",
       "      <th>...</th>\n",
       "      <td>...</td>\n",
       "      <td>...</td>\n",
       "    </tr>\n",
       "    <tr>\n",
       "      <th>2023-02-13</th>\n",
       "      <td>153.850006</td>\n",
       "      <td>AAPL</td>\n",
       "    </tr>\n",
       "    <tr>\n",
       "      <th>2023-02-14</th>\n",
       "      <td>153.199997</td>\n",
       "      <td>AAPL</td>\n",
       "    </tr>\n",
       "    <tr>\n",
       "      <th>2023-02-15</th>\n",
       "      <td>155.330002</td>\n",
       "      <td>AAPL</td>\n",
       "    </tr>\n",
       "    <tr>\n",
       "      <th>2023-02-16</th>\n",
       "      <td>153.710007</td>\n",
       "      <td>AAPL</td>\n",
       "    </tr>\n",
       "    <tr>\n",
       "      <th>2023-02-17</th>\n",
       "      <td>152.550003</td>\n",
       "      <td>AAPL</td>\n",
       "    </tr>\n",
       "  </tbody>\n",
       "</table>\n",
       "<p>211 rows × 2 columns</p>\n",
       "</div>"
      ],
      "text/plain": [
       "                 Close Symbol\n",
       "Date                         \n",
       "2021-08-16  151.119995   AAPL\n",
       "2021-08-17  150.190002   AAPL\n",
       "2021-08-30  153.119995   AAPL\n",
       "2021-08-31  151.830002   AAPL\n",
       "2021-09-01  152.509995   AAPL\n",
       "...                ...    ...\n",
       "2023-02-13  153.850006   AAPL\n",
       "2023-02-14  153.199997   AAPL\n",
       "2023-02-15  155.330002   AAPL\n",
       "2023-02-16  153.710007   AAPL\n",
       "2023-02-17  152.550003   AAPL\n",
       "\n",
       "[211 rows x 2 columns]"
      ]
     },
     "execution_count": 66,
     "metadata": {},
     "output_type": "execute_result"
    }
   ],
   "source": [
    "aapl_df.loc[aapl_df.Close > 150, :]"
   ]
  },
  {
   "cell_type": "code",
   "execution_count": 68,
   "metadata": {},
   "outputs": [
    {
     "data": {
      "text/plain": [
       "Date\n",
       "2021-08-16    151.119995\n",
       "2021-08-17    150.190002\n",
       "2021-08-30    153.119995\n",
       "2021-08-31    151.830002\n",
       "2021-09-01    152.509995\n",
       "                 ...    \n",
       "2023-02-13    153.850006\n",
       "2023-02-14    153.199997\n",
       "2023-02-15    155.330002\n",
       "2023-02-16    153.710007\n",
       "2023-02-17    152.550003\n",
       "Name: Close, Length: 211, dtype: float64"
      ]
     },
     "execution_count": 68,
     "metadata": {},
     "output_type": "execute_result"
    }
   ],
   "source": [
    "aapl_df.loc[aapl_df.Close > 150, 'Close']"
   ]
  },
  {
   "cell_type": "code",
   "execution_count": 69,
   "metadata": {},
   "outputs": [
    {
     "data": {
      "text/html": [
       "<div>\n",
       "<style scoped>\n",
       "    .dataframe tbody tr th:only-of-type {\n",
       "        vertical-align: middle;\n",
       "    }\n",
       "\n",
       "    .dataframe tbody tr th {\n",
       "        vertical-align: top;\n",
       "    }\n",
       "\n",
       "    .dataframe thead th {\n",
       "        text-align: right;\n",
       "    }\n",
       "</style>\n",
       "<table border=\"1\" class=\"dataframe\">\n",
       "  <thead>\n",
       "    <tr style=\"text-align: right;\">\n",
       "      <th></th>\n",
       "      <th>dollarAmount</th>\n",
       "      <th>fax</th>\n",
       "      <th>phone</th>\n",
       "      <th>ADDRESS</th>\n",
       "      <th>customerID</th>\n",
       "      <th>Company Name</th>\n",
       "      <th>Contact Name</th>\n",
       "      <th>Contact Title</th>\n",
       "      <th>Sales Amount</th>\n",
       "      <th>Age</th>\n",
       "    </tr>\n",
       "  </thead>\n",
       "  <tbody>\n",
       "    <tr>\n",
       "      <th>0</th>\n",
       "      <td>$100.30</td>\n",
       "      <td>030-0076545</td>\n",
       "      <td>030-0074321</td>\n",
       "      <td>Obere Str. 57</td>\n",
       "      <td>ALFKI</td>\n",
       "      <td>Alfreds Futterkiste</td>\n",
       "      <td>Maria Anders</td>\n",
       "      <td>Sales Representative</td>\n",
       "      <td>100.73</td>\n",
       "      <td>33</td>\n",
       "    </tr>\n",
       "    <tr>\n",
       "      <th>1</th>\n",
       "      <td>$101.70</td>\n",
       "      <td>(5) 555-3745</td>\n",
       "      <td>(5) 555-4729</td>\n",
       "      <td>Avda. de la Constitución 2222</td>\n",
       "      <td>ANATR</td>\n",
       "      <td>Ana Trujillo Emparedados y helados</td>\n",
       "      <td>Ana Trujillo</td>\n",
       "      <td>Owner</td>\n",
       "      <td>101.00</td>\n",
       "      <td>49</td>\n",
       "    </tr>\n",
       "    <tr>\n",
       "      <th>2</th>\n",
       "      <td>$103.10</td>\n",
       "      <td>NaN</td>\n",
       "      <td>(5) 555-3932</td>\n",
       "      <td>Mataderos  2312</td>\n",
       "      <td>ANTON</td>\n",
       "      <td>Antonio Moreno Taquería</td>\n",
       "      <td>Antonio Moreno</td>\n",
       "      <td>Owner</td>\n",
       "      <td>NaN</td>\n",
       "      <td>37</td>\n",
       "    </tr>\n",
       "    <tr>\n",
       "      <th>3</th>\n",
       "      <td>$104.50</td>\n",
       "      <td>(171) 555-6750</td>\n",
       "      <td>(171) 555-7788</td>\n",
       "      <td>120 Hanover Sq.</td>\n",
       "      <td>AROUT</td>\n",
       "      <td>Around the Horn</td>\n",
       "      <td>Thomas Hardy</td>\n",
       "      <td>Sales Representative</td>\n",
       "      <td>103.00</td>\n",
       "      <td>33</td>\n",
       "    </tr>\n",
       "    <tr>\n",
       "      <th>4</th>\n",
       "      <td>$105.90</td>\n",
       "      <td>90-224 8858</td>\n",
       "      <td>90-224 8858</td>\n",
       "      <td>Keskuskatu 45</td>\n",
       "      <td>WILMK</td>\n",
       "      <td>Wilman Kala</td>\n",
       "      <td>Matti Karttunen</td>\n",
       "      <td>Owner/Marketing Assistant</td>\n",
       "      <td>189.90</td>\n",
       "      <td>62</td>\n",
       "    </tr>\n",
       "    <tr>\n",
       "      <th>...</th>\n",
       "      <td>...</td>\n",
       "      <td>...</td>\n",
       "      <td>...</td>\n",
       "      <td>...</td>\n",
       "      <td>...</td>\n",
       "      <td>...</td>\n",
       "      <td>...</td>\n",
       "      <td>...</td>\n",
       "      <td>...</td>\n",
       "      <td>...</td>\n",
       "    </tr>\n",
       "    <tr>\n",
       "      <th>87</th>\n",
       "      <td>$222.10</td>\n",
       "      <td>981-443655</td>\n",
       "      <td>981-443655</td>\n",
       "      <td>Torikatu 38</td>\n",
       "      <td>WARTH</td>\n",
       "      <td>Wartian Herkku</td>\n",
       "      <td>Pirkko Koskitalo</td>\n",
       "      <td>Accounting Manager</td>\n",
       "      <td>186.00</td>\n",
       "      <td>52</td>\n",
       "    </tr>\n",
       "    <tr>\n",
       "      <th>88</th>\n",
       "      <td>$223.50</td>\n",
       "      <td>(14) 555-8122</td>\n",
       "      <td>Brazil</td>\n",
       "      <td>Rua do Mercado</td>\n",
       "      <td>WELLI</td>\n",
       "      <td>Wellington Importadora</td>\n",
       "      <td>Paula Parente</td>\n",
       "      <td>Sales Manager</td>\n",
       "      <td>187.00</td>\n",
       "      <td>49</td>\n",
       "    </tr>\n",
       "    <tr>\n",
       "      <th>89</th>\n",
       "      <td>$227.70</td>\n",
       "      <td>(26) 642-7012</td>\n",
       "      <td>(26) 642-7012</td>\n",
       "      <td>ul. Filtrowa 68</td>\n",
       "      <td>WOLZA</td>\n",
       "      <td>Wolski  Zajazd</td>\n",
       "      <td>Zbyszek Piestrzeniewicz</td>\n",
       "      <td>Owner</td>\n",
       "      <td>NaN</td>\n",
       "      <td>50</td>\n",
       "    </tr>\n",
       "    <tr>\n",
       "      <th>90</th>\n",
       "      <td>$226.30</td>\n",
       "      <td>90-224 8858</td>\n",
       "      <td>90-224 8858</td>\n",
       "      <td>Keskuskatu 45</td>\n",
       "      <td>WILMK</td>\n",
       "      <td>Wilman Kala</td>\n",
       "      <td>Matti Karttunen</td>\n",
       "      <td>Owner/Marketing Assistant</td>\n",
       "      <td>189.90</td>\n",
       "      <td>53</td>\n",
       "    </tr>\n",
       "    <tr>\n",
       "      <th>91</th>\n",
       "      <td>$227.70</td>\n",
       "      <td>(26) 642-7012</td>\n",
       "      <td>(26) 642-7012</td>\n",
       "      <td>ul. Filtrowa 68</td>\n",
       "      <td>WOLZA</td>\n",
       "      <td>Wolski  Zajazd</td>\n",
       "      <td>Zbyszek Piestrzeniewicz</td>\n",
       "      <td>Owner</td>\n",
       "      <td>NaN</td>\n",
       "      <td>49</td>\n",
       "    </tr>\n",
       "  </tbody>\n",
       "</table>\n",
       "<p>92 rows × 10 columns</p>\n",
       "</div>"
      ],
      "text/plain": [
       "   dollarAmount             fax           phone  \\\n",
       "0      $100.30      030-0076545     030-0074321   \n",
       "1      $101.70     (5) 555-3745    (5) 555-4729   \n",
       "2      $103.10              NaN    (5) 555-3932   \n",
       "3      $104.50   (171) 555-6750  (171) 555-7788   \n",
       "4      $105.90      90-224 8858     90-224 8858   \n",
       "..          ...             ...             ...   \n",
       "87     $222.10       981-443655      981-443655   \n",
       "88     $223.50    (14) 555-8122          Brazil   \n",
       "89     $227.70    (26) 642-7012   (26) 642-7012   \n",
       "90     $226.30      90-224 8858     90-224 8858   \n",
       "91     $227.70    (26) 642-7012   (26) 642-7012   \n",
       "\n",
       "                          ADDRESS customerID  \\\n",
       "0                   Obere Str. 57      ALFKI   \n",
       "1   Avda. de la Constitución 2222      ANATR   \n",
       "2                 Mataderos  2312      ANTON   \n",
       "3                 120 Hanover Sq.      AROUT   \n",
       "4                   Keskuskatu 45      WILMK   \n",
       "..                            ...        ...   \n",
       "87                    Torikatu 38      WARTH   \n",
       "88                 Rua do Mercado      WELLI   \n",
       "89                ul. Filtrowa 68      WOLZA   \n",
       "90                  Keskuskatu 45      WILMK   \n",
       "91                ul. Filtrowa 68      WOLZA   \n",
       "\n",
       "                          Company Name             Contact Name  \\\n",
       "0                  Alfreds Futterkiste             Maria Anders   \n",
       "1   Ana Trujillo Emparedados y helados             Ana Trujillo   \n",
       "2              Antonio Moreno Taquería           Antonio Moreno   \n",
       "3                      Around the Horn             Thomas Hardy   \n",
       "4                          Wilman Kala          Matti Karttunen   \n",
       "..                                 ...                      ...   \n",
       "87                      Wartian Herkku         Pirkko Koskitalo   \n",
       "88              Wellington Importadora            Paula Parente   \n",
       "89                      Wolski  Zajazd  Zbyszek Piestrzeniewicz   \n",
       "90                         Wilman Kala          Matti Karttunen   \n",
       "91                      Wolski  Zajazd  Zbyszek Piestrzeniewicz   \n",
       "\n",
       "                Contact Title  Sales Amount  Age  \n",
       "0        Sales Representative        100.73   33  \n",
       "1                       Owner        101.00   49  \n",
       "2                       Owner           NaN   37  \n",
       "3        Sales Representative        103.00   33  \n",
       "4   Owner/Marketing Assistant        189.90   62  \n",
       "..                        ...           ...  ...  \n",
       "87         Accounting Manager        186.00   52  \n",
       "88              Sales Manager        187.00   49  \n",
       "89                      Owner           NaN   50  \n",
       "90  Owner/Marketing Assistant        189.90   53  \n",
       "91                      Owner           NaN   49  \n",
       "\n",
       "[92 rows x 10 columns]"
      ]
     },
     "execution_count": 69,
     "metadata": {},
     "output_type": "execute_result"
    }
   ],
   "source": [
    "# Create Additional Column: Use the `randint` function to randomly generate an `Age` from 22 to 65\n",
    "customers_df['Age'] = np.random.randint(low=22, high=65, size=len(customers_df))       # 22 <= num < 65\n",
    "customers_df"
   ]
  },
  {
   "cell_type": "code",
   "execution_count": 70,
   "metadata": {},
   "outputs": [
    {
     "data": {
      "text/html": [
       "<div>\n",
       "<style scoped>\n",
       "    .dataframe tbody tr th:only-of-type {\n",
       "        vertical-align: middle;\n",
       "    }\n",
       "\n",
       "    .dataframe tbody tr th {\n",
       "        vertical-align: top;\n",
       "    }\n",
       "\n",
       "    .dataframe thead th {\n",
       "        text-align: right;\n",
       "    }\n",
       "</style>\n",
       "<table border=\"1\" class=\"dataframe\">\n",
       "  <thead>\n",
       "    <tr style=\"text-align: right;\">\n",
       "      <th></th>\n",
       "      <th>dollarAmount</th>\n",
       "      <th>fax</th>\n",
       "      <th>phone</th>\n",
       "      <th>ADDRESS</th>\n",
       "      <th>customerID</th>\n",
       "      <th>Company Name</th>\n",
       "      <th>Contact Name</th>\n",
       "      <th>Contact Title</th>\n",
       "      <th>Sales Amount</th>\n",
       "    </tr>\n",
       "  </thead>\n",
       "  <tbody>\n",
       "    <tr>\n",
       "      <th>0</th>\n",
       "      <td>$100.30</td>\n",
       "      <td>030-0076545</td>\n",
       "      <td>030-0074321</td>\n",
       "      <td>Obere Str. 57</td>\n",
       "      <td>ALFKI</td>\n",
       "      <td>Alfreds Futterkiste</td>\n",
       "      <td>Maria Anders</td>\n",
       "      <td>Sales Representative</td>\n",
       "      <td>100.73</td>\n",
       "    </tr>\n",
       "    <tr>\n",
       "      <th>1</th>\n",
       "      <td>$101.70</td>\n",
       "      <td>(5) 555-3745</td>\n",
       "      <td>(5) 555-4729</td>\n",
       "      <td>Avda. de la Constitución 2222</td>\n",
       "      <td>ANATR</td>\n",
       "      <td>Ana Trujillo Emparedados y helados</td>\n",
       "      <td>Ana Trujillo</td>\n",
       "      <td>Owner</td>\n",
       "      <td>101.00</td>\n",
       "    </tr>\n",
       "    <tr>\n",
       "      <th>2</th>\n",
       "      <td>$103.10</td>\n",
       "      <td>NaN</td>\n",
       "      <td>(5) 555-3932</td>\n",
       "      <td>Mataderos  2312</td>\n",
       "      <td>ANTON</td>\n",
       "      <td>Antonio Moreno Taquería</td>\n",
       "      <td>Antonio Moreno</td>\n",
       "      <td>Owner</td>\n",
       "      <td>NaN</td>\n",
       "    </tr>\n",
       "    <tr>\n",
       "      <th>3</th>\n",
       "      <td>$104.50</td>\n",
       "      <td>(171) 555-6750</td>\n",
       "      <td>(171) 555-7788</td>\n",
       "      <td>120 Hanover Sq.</td>\n",
       "      <td>AROUT</td>\n",
       "      <td>Around the Horn</td>\n",
       "      <td>Thomas Hardy</td>\n",
       "      <td>Sales Representative</td>\n",
       "      <td>103.00</td>\n",
       "    </tr>\n",
       "    <tr>\n",
       "      <th>4</th>\n",
       "      <td>$105.90</td>\n",
       "      <td>90-224 8858</td>\n",
       "      <td>90-224 8858</td>\n",
       "      <td>Keskuskatu 45</td>\n",
       "      <td>WILMK</td>\n",
       "      <td>Wilman Kala</td>\n",
       "      <td>Matti Karttunen</td>\n",
       "      <td>Owner/Marketing Assistant</td>\n",
       "      <td>189.90</td>\n",
       "    </tr>\n",
       "    <tr>\n",
       "      <th>...</th>\n",
       "      <td>...</td>\n",
       "      <td>...</td>\n",
       "      <td>...</td>\n",
       "      <td>...</td>\n",
       "      <td>...</td>\n",
       "      <td>...</td>\n",
       "      <td>...</td>\n",
       "      <td>...</td>\n",
       "      <td>...</td>\n",
       "    </tr>\n",
       "    <tr>\n",
       "      <th>87</th>\n",
       "      <td>$222.10</td>\n",
       "      <td>981-443655</td>\n",
       "      <td>981-443655</td>\n",
       "      <td>Torikatu 38</td>\n",
       "      <td>WARTH</td>\n",
       "      <td>Wartian Herkku</td>\n",
       "      <td>Pirkko Koskitalo</td>\n",
       "      <td>Accounting Manager</td>\n",
       "      <td>186.00</td>\n",
       "    </tr>\n",
       "    <tr>\n",
       "      <th>88</th>\n",
       "      <td>$223.50</td>\n",
       "      <td>(14) 555-8122</td>\n",
       "      <td>Brazil</td>\n",
       "      <td>Rua do Mercado</td>\n",
       "      <td>WELLI</td>\n",
       "      <td>Wellington Importadora</td>\n",
       "      <td>Paula Parente</td>\n",
       "      <td>Sales Manager</td>\n",
       "      <td>187.00</td>\n",
       "    </tr>\n",
       "    <tr>\n",
       "      <th>89</th>\n",
       "      <td>$227.70</td>\n",
       "      <td>(26) 642-7012</td>\n",
       "      <td>(26) 642-7012</td>\n",
       "      <td>ul. Filtrowa 68</td>\n",
       "      <td>WOLZA</td>\n",
       "      <td>Wolski  Zajazd</td>\n",
       "      <td>Zbyszek Piestrzeniewicz</td>\n",
       "      <td>Owner</td>\n",
       "      <td>NaN</td>\n",
       "    </tr>\n",
       "    <tr>\n",
       "      <th>90</th>\n",
       "      <td>$226.30</td>\n",
       "      <td>90-224 8858</td>\n",
       "      <td>90-224 8858</td>\n",
       "      <td>Keskuskatu 45</td>\n",
       "      <td>WILMK</td>\n",
       "      <td>Wilman Kala</td>\n",
       "      <td>Matti Karttunen</td>\n",
       "      <td>Owner/Marketing Assistant</td>\n",
       "      <td>189.90</td>\n",
       "    </tr>\n",
       "    <tr>\n",
       "      <th>91</th>\n",
       "      <td>$227.70</td>\n",
       "      <td>(26) 642-7012</td>\n",
       "      <td>(26) 642-7012</td>\n",
       "      <td>ul. Filtrowa 68</td>\n",
       "      <td>WOLZA</td>\n",
       "      <td>Wolski  Zajazd</td>\n",
       "      <td>Zbyszek Piestrzeniewicz</td>\n",
       "      <td>Owner</td>\n",
       "      <td>NaN</td>\n",
       "    </tr>\n",
       "  </tbody>\n",
       "</table>\n",
       "<p>92 rows × 9 columns</p>\n",
       "</div>"
      ],
      "text/plain": [
       "   dollarAmount             fax           phone  \\\n",
       "0      $100.30      030-0076545     030-0074321   \n",
       "1      $101.70     (5) 555-3745    (5) 555-4729   \n",
       "2      $103.10              NaN    (5) 555-3932   \n",
       "3      $104.50   (171) 555-6750  (171) 555-7788   \n",
       "4      $105.90      90-224 8858     90-224 8858   \n",
       "..          ...             ...             ...   \n",
       "87     $222.10       981-443655      981-443655   \n",
       "88     $223.50    (14) 555-8122          Brazil   \n",
       "89     $227.70    (26) 642-7012   (26) 642-7012   \n",
       "90     $226.30      90-224 8858     90-224 8858   \n",
       "91     $227.70    (26) 642-7012   (26) 642-7012   \n",
       "\n",
       "                          ADDRESS customerID  \\\n",
       "0                   Obere Str. 57      ALFKI   \n",
       "1   Avda. de la Constitución 2222      ANATR   \n",
       "2                 Mataderos  2312      ANTON   \n",
       "3                 120 Hanover Sq.      AROUT   \n",
       "4                   Keskuskatu 45      WILMK   \n",
       "..                            ...        ...   \n",
       "87                    Torikatu 38      WARTH   \n",
       "88                 Rua do Mercado      WELLI   \n",
       "89                ul. Filtrowa 68      WOLZA   \n",
       "90                  Keskuskatu 45      WILMK   \n",
       "91                ul. Filtrowa 68      WOLZA   \n",
       "\n",
       "                          Company Name             Contact Name  \\\n",
       "0                  Alfreds Futterkiste             Maria Anders   \n",
       "1   Ana Trujillo Emparedados y helados             Ana Trujillo   \n",
       "2              Antonio Moreno Taquería           Antonio Moreno   \n",
       "3                      Around the Horn             Thomas Hardy   \n",
       "4                          Wilman Kala          Matti Karttunen   \n",
       "..                                 ...                      ...   \n",
       "87                      Wartian Herkku         Pirkko Koskitalo   \n",
       "88              Wellington Importadora            Paula Parente   \n",
       "89                      Wolski  Zajazd  Zbyszek Piestrzeniewicz   \n",
       "90                         Wilman Kala          Matti Karttunen   \n",
       "91                      Wolski  Zajazd  Zbyszek Piestrzeniewicz   \n",
       "\n",
       "                Contact Title  Sales Amount  \n",
       "0        Sales Representative        100.73  \n",
       "1                       Owner        101.00  \n",
       "2                       Owner           NaN  \n",
       "3        Sales Representative        103.00  \n",
       "4   Owner/Marketing Assistant        189.90  \n",
       "..                        ...           ...  \n",
       "87         Accounting Manager        186.00  \n",
       "88              Sales Manager        187.00  \n",
       "89                      Owner           NaN  \n",
       "90  Owner/Marketing Assistant        189.90  \n",
       "91                      Owner           NaN  \n",
       "\n",
       "[92 rows x 9 columns]"
      ]
     },
     "execution_count": 70,
     "metadata": {},
     "output_type": "execute_result"
    }
   ],
   "source": [
    "# Delete columns\n",
    "# Use the `drop` function to delete the newly created `Age` column\n",
    "customers_df = customers_df.drop(columns=['Age'])\n",
    "customers_df"
   ]
  },
  {
   "cell_type": "code",
   "execution_count": 71,
   "metadata": {},
   "outputs": [],
   "source": [
    "# Save the DataFrame to the `Resource` folder\n",
    "# customers_df.to_csv(\"customers_dataframe.csv\")"
   ]
  },
  {
   "cell_type": "code",
   "execution_count": 72,
   "metadata": {},
   "outputs": [
    {
     "data": {
      "text/plain": [
       "dollarAmount      object\n",
       "fax               object\n",
       "phone             object\n",
       "ADDRESS           object\n",
       "customerID        object\n",
       "Company Name      object\n",
       "Contact Name      object\n",
       "Contact Title     object\n",
       "Sales Amount     float64\n",
       "dtype: object"
      ]
     },
     "execution_count": 72,
     "metadata": {},
     "output_type": "execute_result"
    }
   ],
   "source": [
    "customers_df.dtypes"
   ]
  },
  {
   "cell_type": "markdown",
   "metadata": {},
   "source": [
    "## Pandas Practice - Binning\n",
    "\n",
    "`pd.cut()` function is the function used for binning."
   ]
  },
  {
   "cell_type": "code",
   "execution_count": 73,
   "metadata": {
    "scrolled": true
   },
   "outputs": [
    {
     "data": {
      "text/plain": [
       "<AxesSubplot:>"
      ]
     },
     "execution_count": 73,
     "metadata": {},
     "output_type": "execute_result"
    },
    {
     "data": {
      "image/png": "[encoded data removed]",
      "text/plain": [
       "<Figure size 432x288 with 1 Axes>"
      ]
     },
     "metadata": {
      "needs_background": "light"
     },
     "output_type": "display_data"
    }
   ],
   "source": [
    "sns.boxplot(customers_df['Sales Amount'])"
   ]
  },
  {
   "cell_type": "code",
   "execution_count": 75,
   "metadata": {},
   "outputs": [
    {
     "data": {
      "text/html": [
       "<div>\n",
       "<style scoped>\n",
       "    .dataframe tbody tr th:only-of-type {\n",
       "        vertical-align: middle;\n",
       "    }\n",
       "\n",
       "    .dataframe tbody tr th {\n",
       "        vertical-align: top;\n",
       "    }\n",
       "\n",
       "    .dataframe thead th {\n",
       "        text-align: right;\n",
       "    }\n",
       "</style>\n",
       "<table border=\"1\" class=\"dataframe\">\n",
       "  <thead>\n",
       "    <tr style=\"text-align: right;\">\n",
       "      <th></th>\n",
       "      <th>dollarAmount</th>\n",
       "      <th>fax</th>\n",
       "      <th>phone</th>\n",
       "      <th>ADDRESS</th>\n",
       "      <th>customerID</th>\n",
       "      <th>Company Name</th>\n",
       "      <th>Contact Name</th>\n",
       "      <th>Contact Title</th>\n",
       "      <th>Sales Amount</th>\n",
       "      <th>Sales Level</th>\n",
       "    </tr>\n",
       "  </thead>\n",
       "  <tbody>\n",
       "    <tr>\n",
       "      <th>0</th>\n",
       "      <td>$100.30</td>\n",
       "      <td>030-0076545</td>\n",
       "      <td>030-0074321</td>\n",
       "      <td>Obere Str. 57</td>\n",
       "      <td>ALFKI</td>\n",
       "      <td>Alfreds Futterkiste</td>\n",
       "      <td>Maria Anders</td>\n",
       "      <td>Sales Representative</td>\n",
       "      <td>100.73</td>\n",
       "      <td>Super Low</td>\n",
       "    </tr>\n",
       "    <tr>\n",
       "      <th>1</th>\n",
       "      <td>$101.70</td>\n",
       "      <td>(5) 555-3745</td>\n",
       "      <td>(5) 555-4729</td>\n",
       "      <td>Avda. de la Constitución 2222</td>\n",
       "      <td>ANATR</td>\n",
       "      <td>Ana Trujillo Emparedados y helados</td>\n",
       "      <td>Ana Trujillo</td>\n",
       "      <td>Owner</td>\n",
       "      <td>101.00</td>\n",
       "      <td>Super Low</td>\n",
       "    </tr>\n",
       "    <tr>\n",
       "      <th>2</th>\n",
       "      <td>$103.10</td>\n",
       "      <td>NaN</td>\n",
       "      <td>(5) 555-3932</td>\n",
       "      <td>Mataderos  2312</td>\n",
       "      <td>ANTON</td>\n",
       "      <td>Antonio Moreno Taquería</td>\n",
       "      <td>Antonio Moreno</td>\n",
       "      <td>Owner</td>\n",
       "      <td>NaN</td>\n",
       "      <td>NaN</td>\n",
       "    </tr>\n",
       "    <tr>\n",
       "      <th>3</th>\n",
       "      <td>$104.50</td>\n",
       "      <td>(171) 555-6750</td>\n",
       "      <td>(171) 555-7788</td>\n",
       "      <td>120 Hanover Sq.</td>\n",
       "      <td>AROUT</td>\n",
       "      <td>Around the Horn</td>\n",
       "      <td>Thomas Hardy</td>\n",
       "      <td>Sales Representative</td>\n",
       "      <td>103.00</td>\n",
       "      <td>Super Low</td>\n",
       "    </tr>\n",
       "    <tr>\n",
       "      <th>4</th>\n",
       "      <td>$105.90</td>\n",
       "      <td>90-224 8858</td>\n",
       "      <td>90-224 8858</td>\n",
       "      <td>Keskuskatu 45</td>\n",
       "      <td>WILMK</td>\n",
       "      <td>Wilman Kala</td>\n",
       "      <td>Matti Karttunen</td>\n",
       "      <td>Owner/Marketing Assistant</td>\n",
       "      <td>189.90</td>\n",
       "      <td>Super High</td>\n",
       "    </tr>\n",
       "    <tr>\n",
       "      <th>...</th>\n",
       "      <td>...</td>\n",
       "      <td>...</td>\n",
       "      <td>...</td>\n",
       "      <td>...</td>\n",
       "      <td>...</td>\n",
       "      <td>...</td>\n",
       "      <td>...</td>\n",
       "      <td>...</td>\n",
       "      <td>...</td>\n",
       "      <td>...</td>\n",
       "    </tr>\n",
       "    <tr>\n",
       "      <th>87</th>\n",
       "      <td>$222.10</td>\n",
       "      <td>981-443655</td>\n",
       "      <td>981-443655</td>\n",
       "      <td>Torikatu 38</td>\n",
       "      <td>WARTH</td>\n",
       "      <td>Wartian Herkku</td>\n",
       "      <td>Pirkko Koskitalo</td>\n",
       "      <td>Accounting Manager</td>\n",
       "      <td>186.00</td>\n",
       "      <td>Super High</td>\n",
       "    </tr>\n",
       "    <tr>\n",
       "      <th>88</th>\n",
       "      <td>$223.50</td>\n",
       "      <td>(14) 555-8122</td>\n",
       "      <td>Brazil</td>\n",
       "      <td>Rua do Mercado</td>\n",
       "      <td>WELLI</td>\n",
       "      <td>Wellington Importadora</td>\n",
       "      <td>Paula Parente</td>\n",
       "      <td>Sales Manager</td>\n",
       "      <td>187.00</td>\n",
       "      <td>Super High</td>\n",
       "    </tr>\n",
       "    <tr>\n",
       "      <th>89</th>\n",
       "      <td>$227.70</td>\n",
       "      <td>(26) 642-7012</td>\n",
       "      <td>(26) 642-7012</td>\n",
       "      <td>ul. Filtrowa 68</td>\n",
       "      <td>WOLZA</td>\n",
       "      <td>Wolski  Zajazd</td>\n",
       "      <td>Zbyszek Piestrzeniewicz</td>\n",
       "      <td>Owner</td>\n",
       "      <td>NaN</td>\n",
       "      <td>NaN</td>\n",
       "    </tr>\n",
       "    <tr>\n",
       "      <th>90</th>\n",
       "      <td>$226.30</td>\n",
       "      <td>90-224 8858</td>\n",
       "      <td>90-224 8858</td>\n",
       "      <td>Keskuskatu 45</td>\n",
       "      <td>WILMK</td>\n",
       "      <td>Wilman Kala</td>\n",
       "      <td>Matti Karttunen</td>\n",
       "      <td>Owner/Marketing Assistant</td>\n",
       "      <td>189.90</td>\n",
       "      <td>Super High</td>\n",
       "    </tr>\n",
       "    <tr>\n",
       "      <th>91</th>\n",
       "      <td>$227.70</td>\n",
       "      <td>(26) 642-7012</td>\n",
       "      <td>(26) 642-7012</td>\n",
       "      <td>ul. Filtrowa 68</td>\n",
       "      <td>WOLZA</td>\n",
       "      <td>Wolski  Zajazd</td>\n",
       "      <td>Zbyszek Piestrzeniewicz</td>\n",
       "      <td>Owner</td>\n",
       "      <td>NaN</td>\n",
       "      <td>NaN</td>\n",
       "    </tr>\n",
       "  </tbody>\n",
       "</table>\n",
       "<p>92 rows × 10 columns</p>\n",
       "</div>"
      ],
      "text/plain": [
       "   dollarAmount             fax           phone  \\\n",
       "0      $100.30      030-0076545     030-0074321   \n",
       "1      $101.70     (5) 555-3745    (5) 555-4729   \n",
       "2      $103.10              NaN    (5) 555-3932   \n",
       "3      $104.50   (171) 555-6750  (171) 555-7788   \n",
       "4      $105.90      90-224 8858     90-224 8858   \n",
       "..          ...             ...             ...   \n",
       "87     $222.10       981-443655      981-443655   \n",
       "88     $223.50    (14) 555-8122          Brazil   \n",
       "89     $227.70    (26) 642-7012   (26) 642-7012   \n",
       "90     $226.30      90-224 8858     90-224 8858   \n",
       "91     $227.70    (26) 642-7012   (26) 642-7012   \n",
       "\n",
       "                          ADDRESS customerID  \\\n",
       "0                   Obere Str. 57      ALFKI   \n",
       "1   Avda. de la Constitución 2222      ANATR   \n",
       "2                 Mataderos  2312      ANTON   \n",
       "3                 120 Hanover Sq.      AROUT   \n",
       "4                   Keskuskatu 45      WILMK   \n",
       "..                            ...        ...   \n",
       "87                    Torikatu 38      WARTH   \n",
       "88                 Rua do Mercado      WELLI   \n",
       "89                ul. Filtrowa 68      WOLZA   \n",
       "90                  Keskuskatu 45      WILMK   \n",
       "91                ul. Filtrowa 68      WOLZA   \n",
       "\n",
       "                          Company Name             Contact Name  \\\n",
       "0                  Alfreds Futterkiste             Maria Anders   \n",
       "1   Ana Trujillo Emparedados y helados             Ana Trujillo   \n",
       "2              Antonio Moreno Taquería           Antonio Moreno   \n",
       "3                      Around the Horn             Thomas Hardy   \n",
       "4                          Wilman Kala          Matti Karttunen   \n",
       "..                                 ...                      ...   \n",
       "87                      Wartian Herkku         Pirkko Koskitalo   \n",
       "88              Wellington Importadora            Paula Parente   \n",
       "89                      Wolski  Zajazd  Zbyszek Piestrzeniewicz   \n",
       "90                         Wilman Kala          Matti Karttunen   \n",
       "91                      Wolski  Zajazd  Zbyszek Piestrzeniewicz   \n",
       "\n",
       "                Contact Title  Sales Amount Sales Level  \n",
       "0        Sales Representative        100.73   Super Low  \n",
       "1                       Owner        101.00   Super Low  \n",
       "2                       Owner           NaN         NaN  \n",
       "3        Sales Representative        103.00   Super Low  \n",
       "4   Owner/Marketing Assistant        189.90  Super High  \n",
       "..                        ...           ...         ...  \n",
       "87         Accounting Manager        186.00  Super High  \n",
       "88              Sales Manager        187.00  Super High  \n",
       "89                      Owner           NaN         NaN  \n",
       "90  Owner/Marketing Assistant        189.90  Super High  \n",
       "91                      Owner           NaN         NaN  \n",
       "\n",
       "[92 rows x 10 columns]"
      ]
     },
     "execution_count": 75,
     "metadata": {},
     "output_type": "execute_result"
    }
   ],
   "source": [
    "# Create bins for total ranking\n",
    "# Create the variable bins to define our bounds for when we cut the dataframe.\n",
    "bins = [90, 120, 140, 160, 180, 200]\n",
    "\n",
    "# Vreate names for the bins\n",
    "group_names = [\"Super Low\", \"Low\", \"Moderate\", \"High\", \"Super High\"]\n",
    "\n",
    "# Label Records according to corresponding bin\n",
    "# Add a column named \"Sales Level\" to customers_df and slice the data into the bins\n",
    "customers_df[\"Sales Level\"] = pd.cut(customers_df[\"Sales Amount\"], bins, labels=group_names)   # Bin labels must be one fewer than the number of bin edges\n",
    "customers_df"
   ]
  },
  {
   "cell_type": "code",
   "execution_count": 80,
   "metadata": {},
   "outputs": [
    {
     "data": {
      "text/html": [
       "<div>\n",
       "<style scoped>\n",
       "    .dataframe tbody tr th:only-of-type {\n",
       "        vertical-align: middle;\n",
       "    }\n",
       "\n",
       "    .dataframe tbody tr th {\n",
       "        vertical-align: top;\n",
       "    }\n",
       "\n",
       "    .dataframe thead th {\n",
       "        text-align: right;\n",
       "    }\n",
       "</style>\n",
       "<table border=\"1\" class=\"dataframe\">\n",
       "  <thead>\n",
       "    <tr style=\"text-align: right;\">\n",
       "      <th></th>\n",
       "      <th>dollarAmount</th>\n",
       "      <th>fax</th>\n",
       "      <th>phone</th>\n",
       "      <th>ADDRESS</th>\n",
       "      <th>customerID</th>\n",
       "      <th>Company Name</th>\n",
       "      <th>Contact Name</th>\n",
       "      <th>Contact Title</th>\n",
       "      <th>Sales Amount</th>\n",
       "      <th>Sales Level</th>\n",
       "    </tr>\n",
       "  </thead>\n",
       "  <tbody>\n",
       "    <tr>\n",
       "      <th>63</th>\n",
       "      <td>$188.50</td>\n",
       "      <td>NaN</td>\n",
       "      <td>0372-035188</td>\n",
       "      <td>Taucherstraße 10</td>\n",
       "      <td>QUICK</td>\n",
       "      <td>QUICK-Stop</td>\n",
       "      <td>Horst Kloss</td>\n",
       "      <td>Accounting Manager</td>\n",
       "      <td>162.0</td>\n",
       "      <td>High</td>\n",
       "    </tr>\n",
       "    <tr>\n",
       "      <th>65</th>\n",
       "      <td>$191.30</td>\n",
       "      <td>(505) 555-3620</td>\n",
       "      <td>(505) 555-5939</td>\n",
       "      <td>2817 Milton Dr.</td>\n",
       "      <td>RATTC</td>\n",
       "      <td>Rattlesnake Canyon Grocery</td>\n",
       "      <td>Paula Wilson</td>\n",
       "      <td>Assistant Sales Representative</td>\n",
       "      <td>164.0</td>\n",
       "      <td>High</td>\n",
       "    </tr>\n",
       "    <tr>\n",
       "      <th>66</th>\n",
       "      <td>$192.70</td>\n",
       "      <td>0522-556722</td>\n",
       "      <td>0522-556721</td>\n",
       "      <td>Strada Provinciale 124</td>\n",
       "      <td>REGGC</td>\n",
       "      <td>Reggiani Caseifici</td>\n",
       "      <td>Maurizio Moroni</td>\n",
       "      <td>Sales Associate</td>\n",
       "      <td>165.0</td>\n",
       "      <td>High</td>\n",
       "    </tr>\n",
       "    <tr>\n",
       "      <th>67</th>\n",
       "      <td>$194.10</td>\n",
       "      <td>(21) 555-3412</td>\n",
       "      <td>Brazil</td>\n",
       "      <td>Av. Copacabana</td>\n",
       "      <td>RICAR</td>\n",
       "      <td>Ricardo Adocicados</td>\n",
       "      <td>Janete Limeira</td>\n",
       "      <td>Assistant Sales Agent</td>\n",
       "      <td>166.0</td>\n",
       "      <td>High</td>\n",
       "    </tr>\n",
       "    <tr>\n",
       "      <th>69</th>\n",
       "      <td>$196.90</td>\n",
       "      <td>(91) 745 6200</td>\n",
       "      <td>Spain</td>\n",
       "      <td>Gran Vía</td>\n",
       "      <td>ROMEY</td>\n",
       "      <td>Romero y tomillo</td>\n",
       "      <td>Alejandra Camino</td>\n",
       "      <td>Accounting Manager</td>\n",
       "      <td>168.0</td>\n",
       "      <td>High</td>\n",
       "    </tr>\n",
       "    <tr>\n",
       "      <th>70</th>\n",
       "      <td>$198.30</td>\n",
       "      <td>07-98 92 47</td>\n",
       "      <td>07-98 92 35</td>\n",
       "      <td>Erling Skakkes gate 78</td>\n",
       "      <td>SANTG</td>\n",
       "      <td>Santé Gourmet</td>\n",
       "      <td>Jonas Bergulfsen</td>\n",
       "      <td>Owner</td>\n",
       "      <td>169.0</td>\n",
       "      <td>High</td>\n",
       "    </tr>\n",
       "    <tr>\n",
       "      <th>71</th>\n",
       "      <td>$199.70</td>\n",
       "      <td>NaN</td>\n",
       "      <td>(208) 555-8097</td>\n",
       "      <td>187 Suffolk Ln.</td>\n",
       "      <td>SAVEA</td>\n",
       "      <td>Save-a-lot Markets</td>\n",
       "      <td>Jose Pavarotti</td>\n",
       "      <td>Sales Representative</td>\n",
       "      <td>170.0</td>\n",
       "      <td>High</td>\n",
       "    </tr>\n",
       "    <tr>\n",
       "      <th>72</th>\n",
       "      <td>$201.10</td>\n",
       "      <td>(171) 555-5646</td>\n",
       "      <td>(171) 555-1717</td>\n",
       "      <td>90 Wadhurst Rd.</td>\n",
       "      <td>SEVES</td>\n",
       "      <td>Seven Seas Imports</td>\n",
       "      <td>Hari Kumar</td>\n",
       "      <td>Sales Manager</td>\n",
       "      <td>171.0</td>\n",
       "      <td>High</td>\n",
       "    </tr>\n",
       "    <tr>\n",
       "      <th>73</th>\n",
       "      <td>$202.50</td>\n",
       "      <td>31 13 35 57</td>\n",
       "      <td>31 12 34 56</td>\n",
       "      <td>Vinbæltet 34</td>\n",
       "      <td>SIMOB</td>\n",
       "      <td>Simons bistro</td>\n",
       "      <td>Jytte Petersen</td>\n",
       "      <td>Owner</td>\n",
       "      <td>172.0</td>\n",
       "      <td>High</td>\n",
       "    </tr>\n",
       "    <tr>\n",
       "      <th>75</th>\n",
       "      <td>$205.30</td>\n",
       "      <td>(307) 555-6525</td>\n",
       "      <td>(307) 555-4680</td>\n",
       "      <td>P.O. Box 555</td>\n",
       "      <td>SPLIR</td>\n",
       "      <td>Split Rail Beer &amp; Ale</td>\n",
       "      <td>Art Braunschweiger</td>\n",
       "      <td>Sales Manager</td>\n",
       "      <td>174.0</td>\n",
       "      <td>High</td>\n",
       "    </tr>\n",
       "    <tr>\n",
       "      <th>76</th>\n",
       "      <td>$206.70</td>\n",
       "      <td>(071) 23 67 22 20</td>\n",
       "      <td>Belgium</td>\n",
       "      <td>Boulevard Tirou</td>\n",
       "      <td>SUPRD</td>\n",
       "      <td>Suprêmes délices</td>\n",
       "      <td>Pascale Cartrain</td>\n",
       "      <td>Accounting Manager</td>\n",
       "      <td>175.0</td>\n",
       "      <td>High</td>\n",
       "    </tr>\n",
       "    <tr>\n",
       "      <th>77</th>\n",
       "      <td>$208.10</td>\n",
       "      <td>NaN</td>\n",
       "      <td>(503) 555-3612</td>\n",
       "      <td>89 Jefferson Way Suite 2</td>\n",
       "      <td>THEBI</td>\n",
       "      <td>The Big Cheese</td>\n",
       "      <td>Liz Nixon</td>\n",
       "      <td>Marketing Manager</td>\n",
       "      <td>176.0</td>\n",
       "      <td>High</td>\n",
       "    </tr>\n",
       "    <tr>\n",
       "      <th>78</th>\n",
       "      <td>$209.50</td>\n",
       "      <td>(406) 555-8083</td>\n",
       "      <td>(406) 555-5834</td>\n",
       "      <td>55 Grizzly Peak Rd.</td>\n",
       "      <td>THECR</td>\n",
       "      <td>The Cracker Box</td>\n",
       "      <td>Liu Wong</td>\n",
       "      <td>Marketing Assistant</td>\n",
       "      <td>177.0</td>\n",
       "      <td>High</td>\n",
       "    </tr>\n",
       "    <tr>\n",
       "      <th>79</th>\n",
       "      <td>$210.90</td>\n",
       "      <td>0251-035695</td>\n",
       "      <td>0251-031259</td>\n",
       "      <td>Luisenstr. 48</td>\n",
       "      <td>TOMSP</td>\n",
       "      <td>Toms Spezialitäten</td>\n",
       "      <td>Karin Josephs</td>\n",
       "      <td>Marketing Manager</td>\n",
       "      <td>178.0</td>\n",
       "      <td>High</td>\n",
       "    </tr>\n",
       "    <tr>\n",
       "      <th>80</th>\n",
       "      <td>$212.30</td>\n",
       "      <td>NaN</td>\n",
       "      <td>(5) 555-2933</td>\n",
       "      <td>Avda. Azteca 123</td>\n",
       "      <td>TORTU</td>\n",
       "      <td>Tortuga Restaurante</td>\n",
       "      <td>Miguel Angel Paolino</td>\n",
       "      <td>Owner</td>\n",
       "      <td>179.0</td>\n",
       "      <td>High</td>\n",
       "    </tr>\n",
       "    <tr>\n",
       "      <th>81</th>\n",
       "      <td>$213.70</td>\n",
       "      <td>(11) 555-2167</td>\n",
       "      <td>Brazil</td>\n",
       "      <td>Av. Inês de Castro</td>\n",
       "      <td>TRADH</td>\n",
       "      <td>Tradição Hipermercados</td>\n",
       "      <td>Anabela Domingues</td>\n",
       "      <td>Sales Representative</td>\n",
       "      <td>180.0</td>\n",
       "      <td>High</td>\n",
       "    </tr>\n",
       "  </tbody>\n",
       "</table>\n",
       "</div>"
      ],
      "text/plain": [
       "   dollarAmount                fax           phone                   ADDRESS  \\\n",
       "63     $188.50                 NaN     0372-035188          Taucherstraße 10   \n",
       "65     $191.30      (505) 555-3620  (505) 555-5939           2817 Milton Dr.   \n",
       "66     $192.70         0522-556722     0522-556721    Strada Provinciale 124   \n",
       "67     $194.10       (21) 555-3412          Brazil            Av. Copacabana   \n",
       "69     $196.90       (91) 745 6200           Spain                  Gran Vía   \n",
       "70     $198.30         07-98 92 47     07-98 92 35    Erling Skakkes gate 78   \n",
       "71     $199.70                 NaN  (208) 555-8097           187 Suffolk Ln.   \n",
       "72     $201.10      (171) 555-5646  (171) 555-1717           90 Wadhurst Rd.   \n",
       "73     $202.50         31 13 35 57     31 12 34 56              Vinbæltet 34   \n",
       "75     $205.30      (307) 555-6525  (307) 555-4680              P.O. Box 555   \n",
       "76     $206.70   (071) 23 67 22 20         Belgium           Boulevard Tirou   \n",
       "77     $208.10                 NaN  (503) 555-3612  89 Jefferson Way Suite 2   \n",
       "78     $209.50      (406) 555-8083  (406) 555-5834       55 Grizzly Peak Rd.   \n",
       "79     $210.90         0251-035695     0251-031259             Luisenstr. 48   \n",
       "80     $212.30                 NaN    (5) 555-2933          Avda. Azteca 123   \n",
       "81     $213.70       (11) 555-2167          Brazil        Av. Inês de Castro   \n",
       "\n",
       "   customerID                Company Name          Contact Name  \\\n",
       "63      QUICK                  QUICK-Stop           Horst Kloss   \n",
       "65      RATTC  Rattlesnake Canyon Grocery          Paula Wilson   \n",
       "66      REGGC          Reggiani Caseifici       Maurizio Moroni   \n",
       "67      RICAR          Ricardo Adocicados        Janete Limeira   \n",
       "69      ROMEY            Romero y tomillo      Alejandra Camino   \n",
       "70      SANTG               Santé Gourmet      Jonas Bergulfsen   \n",
       "71      SAVEA          Save-a-lot Markets        Jose Pavarotti   \n",
       "72      SEVES          Seven Seas Imports            Hari Kumar   \n",
       "73      SIMOB               Simons bistro        Jytte Petersen   \n",
       "75      SPLIR       Split Rail Beer & Ale    Art Braunschweiger   \n",
       "76      SUPRD            Suprêmes délices      Pascale Cartrain   \n",
       "77      THEBI              The Big Cheese             Liz Nixon   \n",
       "78      THECR             The Cracker Box              Liu Wong   \n",
       "79      TOMSP          Toms Spezialitäten         Karin Josephs   \n",
       "80      TORTU         Tortuga Restaurante  Miguel Angel Paolino   \n",
       "81      TRADH      Tradição Hipermercados     Anabela Domingues   \n",
       "\n",
       "                     Contact Title  Sales Amount Sales Level  \n",
       "63              Accounting Manager         162.0        High  \n",
       "65  Assistant Sales Representative         164.0        High  \n",
       "66                 Sales Associate         165.0        High  \n",
       "67           Assistant Sales Agent         166.0        High  \n",
       "69              Accounting Manager         168.0        High  \n",
       "70                           Owner         169.0        High  \n",
       "71            Sales Representative         170.0        High  \n",
       "72                   Sales Manager         171.0        High  \n",
       "73                           Owner         172.0        High  \n",
       "75                   Sales Manager         174.0        High  \n",
       "76              Accounting Manager         175.0        High  \n",
       "77               Marketing Manager         176.0        High  \n",
       "78             Marketing Assistant         177.0        High  \n",
       "79               Marketing Manager         178.0        High  \n",
       "80                           Owner         179.0        High  \n",
       "81            Sales Representative         180.0        High  "
      ]
     },
     "execution_count": 80,
     "metadata": {},
     "output_type": "execute_result"
    }
   ],
   "source": [
    "customers_df[customers_df['Sales Level'] == 'High']"
   ]
  },
  {
   "cell_type": "code",
   "execution_count": 136,
   "metadata": {},
   "outputs": [
    {
     "data": {
      "text/plain": [
       "dollarAmount       object\n",
       "fax                object\n",
       "phone              object\n",
       "ADDRESS            object\n",
       "customerID         object\n",
       "Company Name       object\n",
       "Contact Name       object\n",
       "Contact Title      object\n",
       "Sales Amount      float64\n",
       "Sales Level      category\n",
       "dtype: object"
      ]
     },
     "execution_count": 136,
     "metadata": {},
     "output_type": "execute_result"
    }
   ],
   "source": [
    "customers_df.dtypes"
   ]
  },
  {
   "cell_type": "code",
   "execution_count": 82,
   "metadata": {},
   "outputs": [
    {
     "data": {
      "text/plain": [
       "63             Horst Kloss\n",
       "65            Paula Wilson\n",
       "66         Maurizio Moroni\n",
       "67          Janete Limeira\n",
       "69        Alejandra Camino\n",
       "70        Jonas Bergulfsen\n",
       "71          Jose Pavarotti\n",
       "72              Hari Kumar\n",
       "73          Jytte Petersen\n",
       "75      Art Braunschweiger\n",
       "76        Pascale Cartrain\n",
       "77               Liz Nixon\n",
       "78                Liu Wong\n",
       "79           Karin Josephs\n",
       "80    Miguel Angel Paolino\n",
       "81       Anabela Domingues\n",
       "Name: Contact Name, dtype: object"
      ]
     },
     "execution_count": 82,
     "metadata": {},
     "output_type": "execute_result"
    }
   ],
   "source": [
    "# 自己加：\n",
    "# customers_df[customers_df['Sales Level'] == 'High', 'Contact Name']      # 会报错\n",
    "\n",
    "# 但如果加一个 .loc 就可以了\n",
    "customers_df.loc[customers_df['Sales Level'] == 'High', 'Contact Name']"
   ]
  },
  {
   "cell_type": "code",
   "execution_count": null,
   "metadata": {},
   "outputs": [],
   "source": []
  }
 ],
 "metadata": {
  "kernelspec": {
   "display_name": "Python 3",
   "language": "python",
   "name": "python3"
  },
  "language_info": {
   "codemirror_mode": {
    "name": "ipython",
    "version": 3
   },
   "file_extension": ".py",
   "mimetype": "text/x-python",
   "name": "python",
   "nbconvert_exporter": "python",
   "pygments_lexer": "ipython3",
   "version": "3.7.3"
  }
 },
 "nbformat": 4,
 "nbformat_minor": 2
}
