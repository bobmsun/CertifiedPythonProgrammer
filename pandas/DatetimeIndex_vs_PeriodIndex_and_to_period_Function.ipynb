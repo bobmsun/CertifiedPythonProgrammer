{
 "cells": [
  {
   "cell_type": "code",
   "execution_count": 1,
   "id": "836ea23b",
   "metadata": {},
   "outputs": [],
   "source": [
    "import pandas as pd"
   ]
  },
  {
   "cell_type": "code",
   "execution_count": 2,
   "id": "744fb7b5",
   "metadata": {},
   "outputs": [
    {
     "data": {
      "text/html": [
       "<div>\n",
       "<style scoped>\n",
       "    .dataframe tbody tr th:only-of-type {\n",
       "        vertical-align: middle;\n",
       "    }\n",
       "\n",
       "    .dataframe tbody tr th {\n",
       "        vertical-align: top;\n",
       "    }\n",
       "\n",
       "    .dataframe thead th {\n",
       "        text-align: right;\n",
       "    }\n",
       "</style>\n",
       "<table border=\"1\" class=\"dataframe\">\n",
       "  <thead>\n",
       "    <tr style=\"text-align: right;\">\n",
       "      <th></th>\n",
       "      <th>Open</th>\n",
       "      <th>High</th>\n",
       "      <th>Low</th>\n",
       "      <th>Close</th>\n",
       "      <th>Adj Close</th>\n",
       "      <th>Volume</th>\n",
       "    </tr>\n",
       "    <tr>\n",
       "      <th>Date</th>\n",
       "      <th></th>\n",
       "      <th></th>\n",
       "      <th></th>\n",
       "      <th></th>\n",
       "      <th></th>\n",
       "      <th></th>\n",
       "    </tr>\n",
       "  </thead>\n",
       "  <tbody>\n",
       "    <tr>\n",
       "      <th>2018-03-01</th>\n",
       "      <td>44.634998</td>\n",
       "      <td>44.945000</td>\n",
       "      <td>43.165001</td>\n",
       "      <td>43.750000</td>\n",
       "      <td>41.707802</td>\n",
       "      <td>195208000</td>\n",
       "    </tr>\n",
       "    <tr>\n",
       "      <th>2018-03-02</th>\n",
       "      <td>43.200001</td>\n",
       "      <td>44.075001</td>\n",
       "      <td>43.112499</td>\n",
       "      <td>44.052502</td>\n",
       "      <td>41.996174</td>\n",
       "      <td>153816000</td>\n",
       "    </tr>\n",
       "    <tr>\n",
       "      <th>2018-03-05</th>\n",
       "      <td>43.802502</td>\n",
       "      <td>44.435001</td>\n",
       "      <td>43.630001</td>\n",
       "      <td>44.205002</td>\n",
       "      <td>42.141563</td>\n",
       "      <td>113605600</td>\n",
       "    </tr>\n",
       "    <tr>\n",
       "      <th>2018-03-06</th>\n",
       "      <td>44.477501</td>\n",
       "      <td>44.562500</td>\n",
       "      <td>44.032501</td>\n",
       "      <td>44.167500</td>\n",
       "      <td>42.105808</td>\n",
       "      <td>95154000</td>\n",
       "    </tr>\n",
       "    <tr>\n",
       "      <th>2018-03-07</th>\n",
       "      <td>43.735001</td>\n",
       "      <td>43.962502</td>\n",
       "      <td>43.567501</td>\n",
       "      <td>43.757500</td>\n",
       "      <td>41.714939</td>\n",
       "      <td>126814000</td>\n",
       "    </tr>\n",
       "  </tbody>\n",
       "</table>\n",
       "</div>"
      ],
      "text/plain": [
       "                 Open       High        Low      Close  Adj Close     Volume\n",
       "Date                                                                        \n",
       "2018-03-01  44.634998  44.945000  43.165001  43.750000  41.707802  195208000\n",
       "2018-03-02  43.200001  44.075001  43.112499  44.052502  41.996174  153816000\n",
       "2018-03-05  43.802502  44.435001  43.630001  44.205002  42.141563  113605600\n",
       "2018-03-06  44.477501  44.562500  44.032501  44.167500  42.105808   95154000\n",
       "2018-03-07  43.735001  43.962502  43.567501  43.757500  41.714939  126814000"
      ]
     },
     "execution_count": 2,
     "metadata": {},
     "output_type": "execute_result"
    }
   ],
   "source": [
    "df = pd.read_csv('./data/AAPL.csv', index_col='Date', parse_dates=True, infer_datetime_format=True)\n",
    "df.head()"
   ]
  },
  {
   "cell_type": "code",
   "execution_count": 11,
   "id": "59988291",
   "metadata": {},
   "outputs": [
    {
     "data": {
      "text/plain": [
       "DatetimeIndex(['2018-03-01', '2018-03-02', '2018-03-05', '2018-03-06',\n",
       "               '2018-03-07', '2018-03-08', '2018-03-09', '2018-03-12',\n",
       "               '2018-03-13', '2018-03-14',\n",
       "               ...\n",
       "               '2023-02-14', '2023-02-15', '2023-02-16', '2023-02-17',\n",
       "               '2023-02-21', '2023-02-22', '2023-02-23', '2023-02-24',\n",
       "               '2023-02-27', '2023-02-28'],\n",
       "              dtype='datetime64[ns]', name='Date', length=1258, freq=None)"
      ]
     },
     "execution_count": 11,
     "metadata": {},
     "output_type": "execute_result"
    }
   ],
   "source": [
    "df.index"
   ]
  },
  {
   "cell_type": "code",
   "execution_count": 17,
   "id": "de27cb82",
   "metadata": {},
   "outputs": [
    {
     "data": {
      "text/plain": [
       "PeriodIndex(['2018', '2018', '2018', '2018', '2018', '2018', '2018', '2018',\n",
       "             '2018', '2018',\n",
       "             ...\n",
       "             '2023', '2023', '2023', '2023', '2023', '2023', '2023', '2023',\n",
       "             '2023', '2023'],\n",
       "            dtype='period[A-DEC]', name='Date', length=1258)"
      ]
     },
     "metadata": {},
     "output_type": "display_data"
    },
    {
     "data": {
      "text/plain": [
       "PeriodIndex(['2018', '2018', '2018', '2018', '2018', '2018', '2018', '2018',\n",
       "             '2018', '2018',\n",
       "             ...\n",
       "             '2023', '2023', '2023', '2023', '2023', '2023', '2023', '2023',\n",
       "             '2023', '2023'],\n",
       "            dtype='period[A-DEC]', name='Date', length=1258)"
      ]
     },
     "metadata": {},
     "output_type": "display_data"
    }
   ],
   "source": [
    "display( df.index.to_period('A') )\n",
    "display( df.index.to_period('Y') )           # 'A' 也 ‘Y' 是一样的\n"
   ]
  },
  {
   "cell_type": "code",
   "execution_count": 18,
   "id": "780c8cbb",
   "metadata": {},
   "outputs": [
    {
     "data": {
      "text/plain": [
       "PeriodIndex(['2018-03', '2018-03', '2018-03', '2018-03', '2018-03', '2018-03',\n",
       "             '2018-03', '2018-03', '2018-03', '2018-03',\n",
       "             ...\n",
       "             '2023-02', '2023-02', '2023-02', '2023-02', '2023-02', '2023-02',\n",
       "             '2023-02', '2023-02', '2023-02', '2023-02'],\n",
       "            dtype='period[M]', name='Date', length=1258)"
      ]
     },
     "metadata": {},
     "output_type": "display_data"
    },
    {
     "data": {
      "text/plain": [
       "PeriodIndex(['2018-03-01', '2018-03-02', '2018-03-05', '2018-03-06',\n",
       "             '2018-03-07', '2018-03-08', '2018-03-09', '2018-03-12',\n",
       "             '2018-03-13', '2018-03-14',\n",
       "             ...\n",
       "             '2023-02-14', '2023-02-15', '2023-02-16', '2023-02-17',\n",
       "             '2023-02-21', '2023-02-22', '2023-02-23', '2023-02-24',\n",
       "             '2023-02-27', '2023-02-28'],\n",
       "            dtype='period[D]', name='Date', length=1258)"
      ]
     },
     "metadata": {},
     "output_type": "display_data"
    }
   ],
   "source": [
    "display( df.index.to_period('M') )\n",
    "\n",
    "display( df.index.to_period('D') )"
   ]
  },
  {
   "cell_type": "code",
   "execution_count": 10,
   "id": "27087516",
   "metadata": {},
   "outputs": [
    {
     "data": {
      "text/plain": [
       "pandas.core.indexes.datetimes.DatetimeIndex"
      ]
     },
     "execution_count": 10,
     "metadata": {},
     "output_type": "execute_result"
    }
   ],
   "source": [
    "type(df.index)                        # 这里的类型是 DatetimeIndex"
   ]
  },
  {
   "cell_type": "code",
   "execution_count": 9,
   "id": "40481dd4",
   "metadata": {},
   "outputs": [
    {
     "data": {
      "text/plain": [
       "pandas.core.indexes.period.PeriodIndex"
      ]
     },
     "execution_count": 9,
     "metadata": {},
     "output_type": "execute_result"
    }
   ],
   "source": [
    "type(df.index.to_period('A'))         # 这里的类型是 PeriodIndex"
   ]
  },
  {
   "cell_type": "markdown",
   "id": "7295d0f2",
   "metadata": {},
   "source": [
    "### Accessing data using DateimeIndex"
   ]
  },
  {
   "cell_type": "code",
   "execution_count": 31,
   "id": "93fc4904",
   "metadata": {},
   "outputs": [
    {
     "data": {
      "text/plain": [
       "Open         4.357000e+01\n",
       "High         4.378750e+01\n",
       "Low          4.322250e+01\n",
       "Close        4.374250e+01\n",
       "Adj Close    4.233563e+01\n",
       "Volume       1.035448e+08\n",
       "Name: 2019-03-01 00:00:00, dtype: float64"
      ]
     },
     "execution_count": 31,
     "metadata": {},
     "output_type": "execute_result"
    }
   ],
   "source": [
    "df.loc['2019-03-01']      # 3🈷️1日"
   ]
  },
  {
   "cell_type": "code",
   "execution_count": 32,
   "id": "52df5e6c",
   "metadata": {},
   "outputs": [
    {
     "data": {
      "text/plain": [
       "Open         4.357000e+01\n",
       "High         4.378750e+01\n",
       "Low          4.322250e+01\n",
       "Close        4.374250e+01\n",
       "Adj Close    4.233563e+01\n",
       "Volume       1.035448e+08\n",
       "Name: 2019-03-01 00:00:00, dtype: float64"
      ]
     },
     "execution_count": 32,
     "metadata": {},
     "output_type": "execute_result"
    }
   ],
   "source": [
    "df.loc['2019-3-1']       # 3🈷️1日"
   ]
  },
  {
   "cell_type": "code",
   "execution_count": 30,
   "id": "069aa1b9",
   "metadata": {},
   "outputs": [
    {
     "data": {
      "text/plain": [
       "Open         3.599500e+01\n",
       "High         3.643000e+01\n",
       "Low          3.550000e+01\n",
       "Close        3.554750e+01\n",
       "Adj Close    3.425728e+01\n",
       "Volume       3.652488e+08\n",
       "Name: 2019-01-03 00:00:00, dtype: float64"
      ]
     },
     "execution_count": 30,
     "metadata": {},
     "output_type": "execute_result"
    }
   ],
   "source": [
    "df.loc['2019-1-3']      # 1🈷️3日"
   ]
  },
  {
   "cell_type": "code",
   "execution_count": 33,
   "id": "ca53adb4",
   "metadata": {},
   "outputs": [
    {
     "data": {
      "text/plain": [
       "Open         4.357000e+01\n",
       "High         4.378750e+01\n",
       "Low          4.322250e+01\n",
       "Close        4.374250e+01\n",
       "Adj Close    4.233563e+01\n",
       "Volume       1.035448e+08\n",
       "Name: 2019-03-01 00:00:00, dtype: float64"
      ]
     },
     "execution_count": 33,
     "metadata": {},
     "output_type": "execute_result"
    }
   ],
   "source": [
    "df.loc['2019/3/1']      # 3🈷️1日"
   ]
  },
  {
   "cell_type": "code",
   "execution_count": 34,
   "id": "d84ec4a1",
   "metadata": {},
   "outputs": [
    {
     "data": {
      "text/plain": [
       "Open         4.357000e+01\n",
       "High         4.378750e+01\n",
       "Low          4.322250e+01\n",
       "Close        4.374250e+01\n",
       "Adj Close    4.233563e+01\n",
       "Volume       1.035448e+08\n",
       "Name: 2019-03-01 00:00:00, dtype: float64"
      ]
     },
     "execution_count": 34,
     "metadata": {},
     "output_type": "execute_result"
    }
   ],
   "source": [
    "df.loc['3/1/2019']      # 3🈷️1日"
   ]
  },
  {
   "cell_type": "code",
   "execution_count": null,
   "id": "1d43eb60",
   "metadata": {},
   "outputs": [],
   "source": []
  }
 ],
 "metadata": {
  "kernelspec": {
   "display_name": "Python 3",
   "language": "python",
   "name": "python3"
  },
  "language_info": {
   "codemirror_mode": {
    "name": "ipython",
    "version": 3
   },
   "file_extension": ".py",
   "mimetype": "text/x-python",
   "name": "python",
   "nbconvert_exporter": "python",
   "pygments_lexer": "ipython3",
   "version": "3.7.3"
  }
 },
 "nbformat": 4,
 "nbformat_minor": 5
}
